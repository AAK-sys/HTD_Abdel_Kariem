{
 "cells": [
  {
   "cell_type": "markdown",
   "metadata": {
    "application/vnd.databricks.v1+cell": {
     "cellMetadata": {
      "byteLimit": 2048000,
      "rowLimit": 10000
     },
     "inputWidgets": {},
     "nuid": "cd9771c0-66a6-40bf-b8a2-b099750f674f",
     "showTitle": false,
     "tableResultSettingsMap": {},
     "title": ""
    }
   },
   "source": [
    "# Insurance CLPV and Retention Analysis\n",
    "\n",
    "**Objective**: Calculate Customer Lifetime Premium Value (CLPV) and build retention prediction models\n",
    "\n",
    "**Business Goals:**\n",
    "- Calculate Customer Lifetime Premium Value with risk adjustments\n",
    "- Predict policy renewal probabilities\n",
    "- Optimize pricing strategies based on customer value and risk\n",
    "- Detect fraud patterns in claims data\n",
    "- Develop customer retention strategies\n",
    "\n",
    "**Data Flow**: Loads from Notebook 1 risk analysis tables → Creates CLPV and retention tables for Notebook 3"
   ]
  },
  {
   "cell_type": "markdown",
   "metadata": {
    "application/vnd.databricks.v1+cell": {
     "cellMetadata": {
      "byteLimit": 2048000,
      "rowLimit": 10000
     },
     "inputWidgets": {},
     "nuid": "0dce1d49-37cd-4c62-be47-e286222c2bfd",
     "showTitle": false,
     "tableResultSettingsMap": {},
     "title": ""
    }
   },
   "source": [
    "## Setup and Advanced Analytics Configuration"
   ]
  },
  {
   "cell_type": "code",
   "execution_count": 0,
   "metadata": {
    "application/vnd.databricks.v1+cell": {
     "cellMetadata": {
      "byteLimit": 2048000,
      "rowLimit": 10000
     },
     "inputWidgets": {},
     "nuid": "098347e2-e119-4de4-8a27-b8df7445d6f7",
     "showTitle": false,
     "tableResultSettingsMap": {},
     "title": ""
    }
   },
   "outputs": [
    {
     "output_type": "stream",
     "name": "stdout",
     "output_type": "stream",
     "text": [
      "✅ Spark session initialized for advanced analytics\n\uD83D\uDCCA Using database: insurance_analytics\n"
     ]
    }
   ],
   "source": [
    "import pandas as pd\n",
    "import numpy as np\n",
    "from pyspark.sql import SparkSession\n",
    "from pyspark.sql.functions import *\n",
    "from pyspark.sql.types import *\n",
    "from pyspark.sql.window import Window\n",
    "from pyspark.ml.feature import VectorAssembler, StringIndexer, OneHotEncoder\n",
    "from pyspark.ml.classification import RandomForestClassifier, LogisticRegression\n",
    "from pyspark.ml.evaluation import BinaryClassificationEvaluator\n",
    "from pyspark.ml.stat import Correlation\n",
    "from pyspark.ml import Pipeline\n",
    "import warnings\n",
    "warnings.filterwarnings('ignore')\n",
    "\n",
    "# Initialize Spark session\n",
    "spark = SparkSession.builder.appName(\"InsuranceCLPVRetention\").getOrCreate()\n",
    "print(\"✅ Spark session initialized for advanced analytics\")\n",
    "\n",
    "# Database configuration\n",
    "DATABASE_NAME = \"insurance_analytics\"\n",
    "print(f\"\uD83D\uDCCA Using database: {DATABASE_NAME}\")"
   ]
  },
  {
   "cell_type": "markdown",
   "metadata": {
    "application/vnd.databricks.v1+cell": {
     "cellMetadata": {
      "byteLimit": 2048000,
      "rowLimit": 10000
     },
     "inputWidgets": {},
     "nuid": "5a1c07d2-6682-4d95-8a6a-10db45ba909e",
     "showTitle": false,
     "tableResultSettingsMap": {},
     "title": ""
    }
   },
   "source": [
    "## Load Data from Risk Analysis Tables (Notebook 1 Outputs)"
   ]
  },
  {
   "cell_type": "code",
   "execution_count": 0,
   "metadata": {
    "application/vnd.databricks.v1+cell": {
     "cellMetadata": {
      "byteLimit": 2048000,
      "rowLimit": 10000
     },
     "inputWidgets": {},
     "nuid": "c846bae6-cf5d-4a29-a90c-48ebdf825249",
     "showTitle": false,
     "tableResultSettingsMap": {},
     "title": ""
    }
   },
   "outputs": [
    {
     "output_type": "stream",
     "name": "stdout",
     "output_type": "stream",
     "text": [
      "\uD83D\uDCCB Loading risk analysis tables from Notebook 1...\n✅ All tables loaded successfully\n\uD83D\uDCCA Customer Risk Profiles: 15,000\n\uD83D\uDCCA Active Policies: 75,000\n\uD83D\uDCCA Claims: 10,643\n\uD83D\uDCCA Payments: 178,013\n\uD83D\uDCCA Customer Interactions: 30,000\n"
     ]
    }
   ],
   "source": [
    "print(\"\uD83D\uDCCB Loading risk analysis tables from Notebook 1...\")\n",
    "\n",
    "# BUSINESS CONTEXT: Advanced analytics requires validated data from risk profiling\n",
    "# We need customer risk profiles and foundation tables for CLPV and retention analysis\n",
    "\n",
    "# TODO: Load analytics tables from Notebook 1\n",
    "# \n",
    "# Step 1: Load risk analysis results\n",
    "# TODO: Load customer_risk_profiles from \"insurance_analytics.customer_risk_profiles\" table\n",
    "# TODO: Load risk_value_matrix from \"insurance_analytics.risk_value_matrix\" table\n",
    "# TODO: Load cross_sell_opportunities from \"insurance_analytics.cross_sell_opportunities\" table\n",
    "# \n",
    "# Step 2: Load foundation tables for additional analysis\n",
    "# TODO: Load policies_df from \"insurance_analytics.policies\" table\n",
    "# TODO: Load claims_df from \"insurance_analytics.claims\" table\n",
    "# TODO: Load payments_df from \"insurance_analytics.payments\" table\n",
    "# TODO: Load interactions_df from \"insurance_analytics.interactions\" table\n",
    "# \n",
    "# Step 3: Validate data loading\n",
    "# TODO: Print success message and record counts for each table\n",
    "# TODO: Use .count() to verify all tables loaded successfully\n",
    "#\n",
    "# EXPECTED OUTPUT: All 7 tables loaded with record counts displayed\n",
    "# Target: 15K customers, 75K policies, 12K claims, 200K payments, 30K interactions\n",
    "\n",
    "try:\n",
    "    # Load risk analysis results from Notebook 1\n",
    "    customer_risk_df = spark.table(\"insurance_analytics.customer_risk_profiles\")\n",
    "    risk_value_matrix = spark.table(\"insurance_analytics.risk_value_matrix\")\n",
    "    cross_sell_opportunities = spark.table(\"insurance_analytics.cross_sell_opportunities\")\n",
    "    \n",
    "    # Load foundation tables for additional analysis\n",
    "    policies_df = spark.table(\"insurance_analytics.policies\")\n",
    "    claims_df = spark.table(\"insurance_analytics.claims\")\n",
    "    payments_df = spark.table(\"insurance_analytics.payments\")\n",
    "    interactions_df = spark.table(\"insurance_analytics.interactions\")\n",
    "    \n",
    "    print(\"✅ All tables loaded successfully\")\n",
    "    print(f\"\uD83D\uDCCA Customer Risk Profiles: {customer_risk_df.count():,}\")\n",
    "    print(f\"\uD83D\uDCCA Active Policies: {policies_df.count():,}\")\n",
    "    print(f\"\uD83D\uDCCA Claims: {claims_df.count():,}\")\n",
    "    print(f\"\uD83D\uDCCA Payments: {payments_df.count():,}\")\n",
    "    print(f\"\uD83D\uDCCA Customer Interactions: {interactions_df.count():,}\")\n",
    "    \n",
    "except Exception as e:\n",
    "    print(f\"❌ Error loading analysis tables: {e}\")\n",
    "    print(\"\uD83D\uDCA1 Ensure Notebook 1 (Risk Profiling) has been executed successfully\")\n",
    "    raise"
   ]
  },
  {
   "cell_type": "markdown",
   "metadata": {
    "application/vnd.databricks.v1+cell": {
     "cellMetadata": {
      "byteLimit": 2048000,
      "rowLimit": 10000
     },
     "inputWidgets": {},
     "nuid": "12df5837-768e-4e3f-af47-abea2ed81b23",
     "showTitle": false,
     "tableResultSettingsMap": {},
     "title": ""
    }
   },
   "source": [
    "## 1. Customer Lifetime Premium Value (CLPV) Analysis"
   ]
  },
  {
   "cell_type": "markdown",
   "metadata": {
    "application/vnd.databricks.v1+cell": {
     "cellMetadata": {
      "byteLimit": 2048000,
      "rowLimit": 10000
     },
     "inputWidgets": {},
     "nuid": "28e63f3b-0b66-42bd-8793-a2bd7cf26566",
     "showTitle": false,
     "tableResultSettingsMap": {},
     "title": ""
    }
   },
   "source": [
    "### 1.1 Historical Premium Analysis"
   ]
  },
  {
   "cell_type": "code",
   "execution_count": 0,
   "metadata": {
    "application/vnd.databricks.v1+cell": {
     "cellMetadata": {
      "byteLimit": 2048000,
      "rowLimit": 10000
     },
     "inputWidgets": {},
     "nuid": "214f8c41-4646-450f-93fb-4cad25491cb8",
     "showTitle": false,
     "tableResultSettingsMap": {},
     "title": ""
    }
   },
   "outputs": [
    {
     "output_type": "stream",
     "name": "stdout",
     "output_type": "stream",
     "text": [
      "\uD83D\uDCB0 Calculating historical premium patterns...\n\uD83D\uDCCA Customer Tenure Analysis:\n+-------+---------------------+------------------+\n|summary|customer_tenure_years|annualized_premium|\n+-------+---------------------+------------------+\n|  count|                15000|             15000|\n|   mean|   2.7842053388090435| 29760.15564510453|\n| stddev|   1.5850180273217014|126532.15967788809|\n|    min|  0.02190280629705681|               0.0|\n|    max|    5.514031485284052|   3622332.6328125|\n+-------+---------------------+------------------+\n\n✅ Historical premium analysis completed\n"
     ]
    }
   ],
   "source": [
    "print(\"\uD83D\uDCB0 Calculating historical premium patterns...\")\n",
    "\n",
    "# BUSINESS CONTEXT: Customer tenure and premium growth patterns are key inputs to CLPV\n",
    "# Longer-tenure customers often have higher lifetime values and better retention rates\n",
    "\n",
    "# TODO: Calculate customer tenure and premium history\n",
    "# \n",
    "# Step 1: Calculate customer tenure\n",
    "# TODO: Add customer_tenure_days column using datediff(current_date(), acquisition_date)\n",
    "# TODO: Add customer_tenure_years column by dividing tenure_days by 365.25\n",
    "# \n",
    "# Step 2: Calculate annualized premium\n",
    "# TODO: Add annualized_premium column using when/otherwise logic:\n",
    "#       - When tenure_years > 0: total_premium / tenure_years\n",
    "#       - Otherwise: total_premium (for new customers)\n",
    "# \n",
    "# Step 3: Display analysis results\n",
    "# TODO: Show describe() statistics for customer_tenure_years and annualized_premium\n",
    "# TODO: Store result in customer_tenure_df for next steps\n",
    "#\n",
    "# EXPECTED OUTPUT: Customer tenure analysis with annualized premium calculations\n",
    "# Target: Average tenure 2-4 years, annualized premiums $500-$5,000\n",
    "\n",
    "customer_tenure_df = customer_risk_df.withColumn(\n",
    "    \"customer_tenure_days\",\n",
    "    datediff(current_date(), col(\"acquisition_date\"))\n",
    ").withColumn(\n",
    "    \"customer_tenure_years\",\n",
    "    col(\"customer_tenure_days\") / 365.25\n",
    ")\n",
    "\n",
    "# Calculate annualized premium per customer\n",
    "customer_tenure_df = customer_tenure_df.withColumn(\n",
    "    \"annualized_premium\",\n",
    "    when(col(\"customer_tenure_years\") > 0, \n",
    "         col(\"total_premium\") / col(\"customer_tenure_years\"))\n",
    "    .otherwise(col(\"total_premium\"))\n",
    ")\n",
    "\n",
    "print(\"\uD83D\uDCCA Customer Tenure Analysis:\")\n",
    "customer_tenure_df.select(\"customer_tenure_years\", \"annualized_premium\").describe().show()\n",
    "\n",
    "# Calculate premium growth trends\n",
    "premium_growth_df = customer_tenure_df.withColumn(\n",
    "    \"premium_growth_rate\",\n",
    "    when(col(\"customer_tenure_years\") > 1,\n",
    "         (col(\"annualized_premium\") - col(\"total_premium\") / col(\"customer_tenure_years\")) / \n",
    "         (col(\"total_premium\") / col(\"customer_tenure_years\")))\n",
    "    .otherwise(0.0)\n",
    ")\n",
    "\n",
    "print(\"✅ Historical premium analysis completed\")"
   ]
  },
  {
   "cell_type": "markdown",
   "metadata": {
    "application/vnd.databricks.v1+cell": {
     "cellMetadata": {
      "byteLimit": 2048000,
      "rowLimit": 10000
     },
     "inputWidgets": {},
     "nuid": "96b4942e-e501-43a8-b788-e8ddb2b1ba90",
     "showTitle": false,
     "tableResultSettingsMap": {},
     "title": ""
    }
   },
   "source": [
    "### 1.2 Customer Satisfaction Impact Analysis"
   ]
  },
  {
   "cell_type": "code",
   "execution_count": 0,
   "metadata": {
    "application/vnd.databricks.v1+cell": {
     "cellMetadata": {
      "byteLimit": 2048000,
      "rowLimit": 10000
     },
     "inputWidgets": {},
     "nuid": "1166a751-cbcd-432c-97c2-2ea78adea159",
     "showTitle": false,
     "tableResultSettingsMap": {},
     "title": ""
    }
   },
   "outputs": [
    {
     "output_type": "stream",
     "name": "stdout",
     "output_type": "stream",
     "text": [
      "\uD83D\uDE0A Analyzing customer satisfaction impact on value...\n✅ Customer satisfaction integrated into CLPV analysis\n"
     ]
    }
   ],
   "source": [
    "print(\"\uD83D\uDE0A Analyzing customer satisfaction impact on value...\")\n",
    "\n",
    "# BUSINESS CONTEXT: Customer satisfaction directly impacts retention and lifetime value\n",
    "# Higher satisfaction scores correlate with longer customer relationships and cross-selling success\n",
    "\n",
    "# TODO: Calculate customer satisfaction metrics\n",
    "# \n",
    "# Step 1: Calculate satisfaction scores per customer\n",
    "# TODO: Group interactions_df by customer_id and calculate:\n",
    "#       - avg(\"satisfaction_score\") as avg_satisfaction_score\n",
    "#       - count(\"interaction_id\") as total_interactions\n",
    "#       - sum(when(resolution_status == \"Resolved\", 1).otherwise(0)) as resolved_interactions\n",
    "# \n",
    "# Step 2: Calculate resolution rate\n",
    "# TODO: Add satisfaction_resolution_rate column using when/otherwise:\n",
    "#       - When total_interactions > 0: resolved_interactions / total_interactions\n",
    "#       - Otherwise: 1.0 (assume good for customers with no interactions)\n",
    "# \n",
    "# Step 3: Join with premium analysis\n",
    "# TODO: Join customer_satisfaction with premium_growth_df on customer_id using left join\n",
    "# TODO: Fill null values: avg_satisfaction_score = 3.5, total_interactions = 0, \n",
    "#       resolved_interactions = 0, satisfaction_resolution_rate = 1.0\n",
    "# TODO: Store result in clpv_base_df\n",
    "#\n",
    "# EXPECTED OUTPUT: Customer satisfaction integrated with premium analysis\n",
    "# Target: Average satisfaction 3.0-4.5, resolution rate >85%\n",
    "\n",
    "# Calculate average satisfaction score per customer\n",
    "customer_satisfaction = interactions_df.groupBy(\"customer_id\").agg(\n",
    "    avg(\"satisfaction_score\").alias(\"avg_satisfaction_score\"),\n",
    "    count(\"interaction_id\").alias(\"total_interactions\"),\n",
    "    sum(when(col(\"resolution_status\") == \"Resolved\", 1).otherwise(0)).alias(\"resolved_interactions\")\n",
    ")\n",
    "\n",
    "# Calculate satisfaction resolution rate\n",
    "customer_satisfaction = customer_satisfaction.withColumn(\n",
    "    \"satisfaction_resolution_rate\",\n",
    "    when(col(\"total_interactions\") > 0,\n",
    "         col(\"resolved_interactions\") / col(\"total_interactions\"))\n",
    "    .otherwise(1.0)\n",
    ")\n",
    "\n",
    "# Add satisfaction data to premium analysis\n",
    "clpv_base_df = premium_growth_df.join(customer_satisfaction, \"customer_id\", \"left\")\n",
    "\n",
    "# Fill nulls for customers with no interactions\n",
    "clpv_base_df = clpv_base_df.fillna({\n",
    "    \"avg_satisfaction_score\": 3.5,  # Neutral satisfaction\n",
    "    \"total_interactions\": 0,\n",
    "    \"resolved_interactions\": 0,\n",
    "    \"satisfaction_resolution_rate\": 1.0\n",
    "})\n",
    "\n",
    "print(\"✅ Customer satisfaction integrated into CLPV analysis\")"
   ]
  },
  {
   "cell_type": "markdown",
   "metadata": {
    "application/vnd.databricks.v1+cell": {
     "cellMetadata": {
      "byteLimit": 2048000,
      "rowLimit": 10000
     },
     "inputWidgets": {},
     "nuid": "72cf972b-de9b-4add-bfad-82c0a28c9572",
     "showTitle": false,
     "tableResultSettingsMap": {},
     "title": ""
    }
   },
   "source": [
    "### 1.3 Risk-Adjusted CLPV Calculation"
   ]
  },
  {
   "cell_type": "code",
   "execution_count": 0,
   "metadata": {
    "application/vnd.databricks.v1+cell": {
     "cellMetadata": {
      "byteLimit": 2048000,
      "rowLimit": 10000
     },
     "inputWidgets": {},
     "nuid": "7b2ac1cc-aed8-4a78-956a-bb64762a1456",
     "showTitle": false,
     "tableResultSettingsMap": {},
     "title": ""
    }
   },
   "outputs": [
    {
     "output_type": "stream",
     "name": "stdout",
     "output_type": "stream",
     "text": [
      "\uD83C\uDFAF Calculating risk-adjusted Customer Lifetime Premium Value...\n\uD83D\uDCCA CLPV Distribution Analysis:\n+-------+-------------------------------+\n|summary|customer_lifetime_premium_value|\n+-------+-------------------------------+\n|  count|                          15000|\n|   mean|              73960.10360403862|\n| stddev|             318928.38783223124|\n|    min|                            0.0|\n|    max|              9651252.508549804|\n+-------+-------------------------------+\n\n\uD83D\uDCCA CLPV by Risk Category:\n+-------------+--------------+-----------------+--------------------+------------------+\n|risk_category|customer_count|         avg_clpv|          total_clpv|avg_retention_prob|\n+-------------+--------------+-----------------+--------------------+------------------+\n|         High|          1551|81790.95725045264|1.2685777469545205E8|0.5585599613152842|\n|          Low|          2985|77206.10197862778|2.3046021440620393E8| 0.738090452261324|\n|       Medium|         10464|71873.42937298582| 7.520835649589236E8|0.6473297735092024|\n+-------------+--------------+-----------------+--------------------+------------------+\n\n✅ Risk-adjusted CLPV calculation completed\n"
     ]
    }
   ],
   "source": [
    "print(\"\uD83C\uDFAF Calculating risk-adjusted Customer Lifetime Premium Value...\")\n",
    "\n",
    "# BUSINESS CONTEXT: CLPV must account for retention probability and risk levels\n",
    "# High-risk customers may churn sooner, while satisfied customers stay longer\n",
    "\n",
    "# TODO: Calculate retention probability and adjustments\n",
    "# \n",
    "# Step 1: Set base retention probability by risk category\n",
    "# TODO: Add retention_probability column using when/otherwise:\n",
    "#       - When risk_category == \"Low\": 0.85\n",
    "#       - When risk_category == \"Medium\": 0.75\n",
    "#       - Otherwise: 0.65 (High risk)\n",
    "# \n",
    "# Step 2: Calculate satisfaction adjustment factor\n",
    "# TODO: Add satisfaction_adjustment column using when/otherwise:\n",
    "#       - When avg_satisfaction_score >= 4.0: 1.15\n",
    "#       - When avg_satisfaction_score >= 3.5: 1.0\n",
    "#       - When avg_satisfaction_score >= 3.0: 0.9\n",
    "#       - Otherwise: 0.8\n",
    "# \n",
    "# Step 3: Calculate payment reliability adjustment\n",
    "# TODO: Add payment_reliability_adjustment column using when/otherwise:\n",
    "#       - When payment_reliability_score >= 0.95: 1.1\n",
    "#       - When payment_reliability_score >= 0.85: 1.0\n",
    "#       - Otherwise: 0.9\n",
    "# \n",
    "# Step 4: Calculate adjusted retention probability\n",
    "# TODO: Add adjusted_retention_probability column using least():\n",
    "#       - retention_probability * satisfaction_adjustment * payment_reliability_adjustment\n",
    "#       - Cap at 0.95 using least(calculation, lit(0.95))\n",
    "#\n",
    "# EXPECTED OUTPUT: All customers have adjusted retention probability between 0.4-0.95\n",
    "# Target: Most customers 0.7-0.9 retention probability\n",
    "\n",
    "# Calculate base CLPV components\n",
    "clpv_df = clpv_base_df.withColumn(\n",
    "    \"retention_probability\",\n",
    "    # Base retention probability adjusted by risk and satisfaction\n",
    "    when(col(\"risk_category\") == \"Low\", 0.85)\n",
    "    .when(col(\"risk_category\") == \"Medium\", 0.75)\n",
    "    .otherwise(0.65)\n",
    ").withColumn(\n",
    "    \"satisfaction_adjustment\",\n",
    "    # Satisfaction score impact on retention\n",
    "    when(col(\"avg_satisfaction_score\") >= 4.0, 1.15)\n",
    "    .when(col(\"avg_satisfaction_score\") >= 3.5, 1.0)\n",
    "    .when(col(\"avg_satisfaction_score\") >= 3.0, 0.9)\n",
    "    .otherwise(0.8)\n",
    ").withColumn(\n",
    "    \"payment_reliability_adjustment\",\n",
    "    # Payment reliability impact\n",
    "    when(col(\"payment_reliability_score\") >= 0.95, 1.1)\n",
    "    .when(col(\"payment_reliability_score\") >= 0.85, 1.0)\n",
    "    .otherwise(0.9)\n",
    ")\n",
    "\n",
    "# Calculate adjusted retention probability\n",
    "clpv_df = clpv_df.withColumn(\n",
    "    \"adjusted_retention_probability\",\n",
    "    least(\n",
    "        col(\"retention_probability\") * \n",
    "        col(\"satisfaction_adjustment\") * \n",
    "        col(\"payment_reliability_adjustment\"),\n",
    "        lit(0.95)  # Cap at 95%\n",
    "    )\n",
    ")\n",
    "\n",
    "# BUSINESS CONTEXT: Expected lifetime and premium multipliers determine final CLPV\n",
    "# Industry standard policy terms and risk-based pricing inform these calculations\n",
    "\n",
    "# TODO: Calculate expected lifetime and risk adjustments\n",
    "# \n",
    "# Step 1: Calculate expected customer lifetime\n",
    "# TODO: Add expected_lifetime_years column:\n",
    "#       - 3.0 * adjusted_retention_probability + (1.0 - adjusted_retention_probability) * 1.5\n",
    "#       - This assumes 3-year base term, shortened for non-retained customers\n",
    "# \n",
    "# Step 2: Calculate risk premium multiplier\n",
    "# TODO: Add risk_premium_multiplier column using when/otherwise:\n",
    "#       - When risk_category == \"Low\": 0.9 (discount for low risk)\n",
    "#       - When risk_category == \"Medium\": 1.0 (base rate)\n",
    "#       - Otherwise: 1.2 (premium for high risk)\n",
    "# \n",
    "# Step 3: Calculate predicted annual premium\n",
    "# TODO: Add predicted_annual_premium column:\n",
    "#       - annualized_premium * risk_premium_multiplier\n",
    "# \n",
    "# Step 4: Calculate final CLPV\n",
    "# TODO: Add customer_lifetime_premium_value column:\n",
    "#       - predicted_annual_premium * expected_lifetime_years\n",
    "# \n",
    "# Step 5: Display CLPV distribution\n",
    "# TODO: Show describe() statistics for customer_lifetime_premium_value\n",
    "# TODO: Show CLPV by risk category using groupBy and agg functions\n",
    "#\n",
    "# EXPECTED OUTPUT: CLPV calculated for all customers with realistic distribution\n",
    "# Target: Average CLPV $5,000-$15,000, higher for low-risk customers\n",
    "\n",
    "# Calculate expected customer lifetime (in years)\n",
    "clpv_df = clpv_df.withColumn(\n",
    "    \"expected_lifetime_years\",\n",
    "    # Average policy term is 3 years, adjusted by retention probability\n",
    "    3.0 * col(\"adjusted_retention_probability\") + \n",
    "    (1.0 - col(\"adjusted_retention_probability\")) * 1.5\n",
    ")\n",
    "\n",
    "# Calculate risk-adjusted premium multiplier\n",
    "clpv_df = clpv_df.withColumn(\n",
    "    \"risk_premium_multiplier\",\n",
    "    when(col(\"risk_category\") == \"Low\", 0.9)   # Low risk gets discount\n",
    "    .when(col(\"risk_category\") == \"Medium\", 1.0)  # Medium risk is base\n",
    "    .otherwise(1.2)  # High risk pays premium\n",
    ")\n",
    "\n",
    "# Calculate final CLPV\n",
    "clpv_df = clpv_df.withColumn(\n",
    "    \"predicted_annual_premium\",\n",
    "    col(\"annualized_premium\") * col(\"risk_premium_multiplier\")\n",
    ").withColumn(\n",
    "    \"customer_lifetime_premium_value\",\n",
    "    col(\"predicted_annual_premium\") * col(\"expected_lifetime_years\")\n",
    ")\n",
    "\n",
    "print(\"\uD83D\uDCCA CLPV Distribution Analysis:\")\n",
    "clpv_df.select(\"customer_lifetime_premium_value\").describe().show()\n",
    "\n",
    "# CLPV by customer segments\n",
    "print(\"\uD83D\uDCCA CLPV by Risk Category:\")\n",
    "clpv_by_risk = clpv_df.groupBy(\"risk_category\").agg(\n",
    "    count(\"*\").alias(\"customer_count\"),\n",
    "    avg(\"customer_lifetime_premium_value\").alias(\"avg_clpv\"),\n",
    "    sum(\"customer_lifetime_premium_value\").alias(\"total_clpv\"),\n",
    "    avg(\"adjusted_retention_probability\").alias(\"avg_retention_prob\")\n",
    ").orderBy(\"avg_clpv\", ascending=False)\n",
    "\n",
    "clpv_by_risk.show()\n",
    "\n",
    "print(\"✅ Risk-adjusted CLPV calculation completed\")"
   ]
  },
  {
   "cell_type": "markdown",
   "metadata": {
    "application/vnd.databricks.v1+cell": {
     "cellMetadata": {
      "byteLimit": 2048000,
      "rowLimit": 10000
     },
     "inputWidgets": {},
     "nuid": "77fba78a-5671-4693-b2b5-ab2670cac843",
     "showTitle": false,
     "tableResultSettingsMap": {},
     "title": ""
    }
   },
   "source": [
    "### 1.4 Customer Value Segmentation Based on CLPV"
   ]
  },
  {
   "cell_type": "code",
   "execution_count": 0,
   "metadata": {
    "application/vnd.databricks.v1+cell": {
     "cellMetadata": {
      "byteLimit": 2048000,
      "rowLimit": 10000
     },
     "inputWidgets": {},
     "nuid": "29e199d6-3fd4-4abc-9628-b6b8293b67f1",
     "showTitle": false,
     "tableResultSettingsMap": {},
     "title": ""
    }
   },
   "outputs": [
    {
     "output_type": "stream",
     "name": "stdout",
     "output_type": "stream",
     "text": [
      "\uD83C\uDFAF Creating CLPV-based customer value segmentation...\n\uD83D\uDCCA CLPV Segmentation Thresholds:\n   Premium Customers (top 5%): $9,651,252.51+\n   High Value (60-95%): $62,775.42 - $9,651,252.51\n   Medium Value (15-85%): $26,495.37 - $62,775.42\n   Low Value (bottom 60%): < $26,495.37\n\uD83D\uDCCA CLPV Segment Distribution:\n+------------+--------------+------------------+--------------------+------------------+\n|clpv_segment|customer_count|          avg_clpv|  total_segment_clpv|avg_retention_prob|\n+------------+--------------+------------------+--------------------+------------------+\n|     Premium|             1| 9651252.508549804|   9651252.508549804|           0.77625|\n|  High Value|          2917| 298504.1813770293| 8.707366970767944E8| 0.654771597531702|\n|Medium Value|          3328| 40867.61487313423|1.3600742229779074E8|0.6511836688701845|\n|   Low Value|          8754|10624.421084925947| 9.300618217744175E7|0.6585904729266949|\n+------------+--------------+------------------+--------------------+------------------+\n\n\uD83D\uDCCA Risk Category vs CLPV Segment Matrix:\n+-------------+------------+-----+\n|risk_category|clpv_segment|count|\n+-------------+------------+-----+\n|         High|  High Value|  446|\n|         High|   Low Value|  679|\n|         High|Medium Value|  426|\n|          Low|  High Value|  526|\n|          Low|   Low Value| 1934|\n|          Low|Medium Value|  525|\n|       Medium|  High Value| 1945|\n|       Medium|   Low Value| 6141|\n|       Medium|Medium Value| 2377|\n|       Medium|     Premium|    1|\n+-------------+------------+-----+\n\n✅ CLPV-based customer segmentation completed\n"
     ]
    }
   ],
   "source": [
    "print(\"\uD83C\uDFAF Creating CLPV-based customer value segmentation...\")\n",
    "\n",
    "# BUSINESS CONTEXT: CLPV segmentation enables strategic customer investment decisions\n",
    "# Different customer segments require different service levels and investment strategies\n",
    "\n",
    "# TODO: Create CLPV-based customer segments\n",
    "# \n",
    "# Step 1: Calculate CLPV percentiles for segmentation\n",
    "# TODO: Use approxQuantile on customer_lifetime_premium_value with [0.6, 0.85, 0.95] percentiles\n",
    "# TODO: Store results as clpv_medium_threshold, clpv_high_threshold, clpv_premium_threshold\n",
    "# \n",
    "# Step 2: Print segmentation thresholds\n",
    "# TODO: Print each threshold with descriptive labels and dollar formatting\n",
    "# \n",
    "# Step 3: Assign CLPV segments\n",
    "# TODO: Add clpv_segment column using when/otherwise:\n",
    "#       - >= premium_threshold: \"Premium\"\n",
    "#       - >= high_threshold: \"High Value\"\n",
    "#       - >= medium_threshold: \"Medium Value\"\n",
    "#       - Otherwise: \"Low Value\"\n",
    "# \n",
    "# Step 4: Analyze segment distribution\n",
    "# TODO: Group by clpv_segment and calculate:\n",
    "#       - count(*) as customer_count\n",
    "#       - avg(customer_lifetime_premium_value) as avg_clpv\n",
    "#       - sum(customer_lifetime_premium_value) as total_segment_clpv\n",
    "#       - avg(adjusted_retention_probability) as avg_retention_prob\n",
    "# TODO: Order by avg_clpv descending and show results\n",
    "#\n",
    "# EXPECTED OUTPUT: Four CLPV segments with Premium (5%), High Value (25%), Medium Value (30%), Low Value (40%)\n",
    "# Target: Premium segment avg CLPV >$20K, High Value >$10K\n",
    "\n",
    "# Calculate CLPV percentiles for segmentation\n",
    "clpv_percentiles = clpv_df.approxQuantile(\"customer_lifetime_premium_value\", [0.6, 0.85, 0.95], 0.05)\n",
    "clpv_medium_threshold = clpv_percentiles[0]\n",
    "clpv_high_threshold = clpv_percentiles[1]  \n",
    "clpv_premium_threshold = clpv_percentiles[2]\n",
    "\n",
    "print(f\"\uD83D\uDCCA CLPV Segmentation Thresholds:\")\n",
    "print(f\"   Premium Customers (top 5%): ${clpv_premium_threshold:,.2f}+\")\n",
    "print(f\"   High Value (60-95%): ${clpv_high_threshold:,.2f} - ${clpv_premium_threshold:,.2f}\")\n",
    "print(f\"   Medium Value (15-85%): ${clpv_medium_threshold:,.2f} - ${clpv_high_threshold:,.2f}\")\n",
    "print(f\"   Low Value (bottom 60%): < ${clpv_medium_threshold:,.2f}\")\n",
    "\n",
    "# Assign CLPV-based segments\n",
    "clpv_df = clpv_df.withColumn(\n",
    "    \"clpv_segment\",\n",
    "    when(col(\"customer_lifetime_premium_value\") >= clpv_premium_threshold, lit(\"Premium\"))\n",
    "    .when(col(\"customer_lifetime_premium_value\") >= clpv_high_threshold, lit(\"High Value\"))\n",
    "    .when(col(\"customer_lifetime_premium_value\") >= clpv_medium_threshold, lit(\"Medium Value\"))\n",
    "    .otherwise(lit(\"Low Value\"))\n",
    ")\n",
    "\n",
    "# CLPV segment distribution\n",
    "print(\"\uD83D\uDCCA CLPV Segment Distribution:\")\n",
    "clpv_segment_dist = clpv_df.groupBy(\"clpv_segment\").agg(\n",
    "    count(\"*\").alias(\"customer_count\"),\n",
    "    avg(\"customer_lifetime_premium_value\").alias(\"avg_clpv\"),\n",
    "    sum(\"customer_lifetime_premium_value\").alias(\"total_segment_clpv\"),\n",
    "    avg(\"adjusted_retention_probability\").alias(\"avg_retention_prob\")\n",
    ").orderBy(\"avg_clpv\", ascending=False)\n",
    "\n",
    "clpv_segment_dist.show()\n",
    "\n",
    "# Cross-tabulation: Risk vs CLPV segments\n",
    "print(\"\uD83D\uDCCA Risk Category vs CLPV Segment Matrix:\")\n",
    "risk_clpv_matrix = clpv_df.groupBy(\"risk_category\", \"clpv_segment\").count().orderBy(\"risk_category\", \"clpv_segment\")\n",
    "risk_clpv_matrix.show()\n",
    "\n",
    "print(\"✅ CLPV-based customer segmentation completed\")"
   ]
  },
  {
   "cell_type": "markdown",
   "metadata": {
    "application/vnd.databricks.v1+cell": {
     "cellMetadata": {
      "byteLimit": 2048000,
      "rowLimit": 10000
     },
     "inputWidgets": {},
     "nuid": "e16af957-17a8-4df2-bdbe-84dc48e9a235",
     "showTitle": false,
     "tableResultSettingsMap": {},
     "title": ""
    }
   },
   "source": [
    "## 2. Renewal Prediction Modeling"
   ]
  },
  {
   "cell_type": "markdown",
   "metadata": {
    "application/vnd.databricks.v1+cell": {
     "cellMetadata": {
      "byteLimit": 2048000,
      "rowLimit": 10000
     },
     "inputWidgets": {},
     "nuid": "848b84a1-b12c-4fdc-b0f3-b06706648b32",
     "showTitle": false,
     "tableResultSettingsMap": {},
     "title": ""
    }
   },
   "source": [
    "### 2.1 Renewal Data Preparation"
   ]
  },
  {
   "cell_type": "code",
   "execution_count": 0,
   "metadata": {
    "application/vnd.databricks.v1+cell": {
     "cellMetadata": {
      "byteLimit": 2048000,
      "rowLimit": 10000
     },
     "inputWidgets": {},
     "nuid": "0555671f-6e9d-470f-bc8c-2b179aece0d1",
     "showTitle": false,
     "tableResultSettingsMap": {},
     "title": ""
    }
   },
   "outputs": [
    {
     "output_type": "stream",
     "name": "stdout",
     "output_type": "stream",
     "text": [
      "\uD83D\uDD04 Preparing renewal prediction dataset...\n\uD83D\uDCCA Renewal prediction dataset: 75,000 policies\n✅ Renewal prediction features prepared\n"
     ]
    }
   ],
   "source": [
    "print(\"\uD83D\uDD04 Preparing renewal prediction dataset...\")\n",
    "\n",
    "# BUSINESS CONTEXT: Renewal prediction enables proactive retention efforts\n",
    "# Identifying customers likely to leave allows targeted intervention strategies\n",
    "\n",
    "# TODO: Prepare renewal prediction features\n",
    "# \n",
    "# Step 1: Create renewal dataset with key metrics\n",
    "# TODO: Add days_to_renewal column using datediff(renewal_date, current_date())\n",
    "# TODO: Add renewal_within_90_days column: 1 if days_to_renewal <= 90, else 0\n",
    "# \n",
    "# Step 2: Create renewal target variable\n",
    "# TODO: Add renewed_successfully column using when/otherwise:\n",
    "#       - When policy_status == \"Active\": 1\n",
    "#       - When policy_status == \"Renewed\": 1\n",
    "#       - Otherwise: 0\n",
    "# \n",
    "# Step 3: Join with customer risk profiles\n",
    "# TODO: Join renewal_df with clpv_df on customer_id\n",
    "# TODO: Select relevant columns: customer_id, first_name, last_name, risk_category, clpv_segment,\n",
    "#       composite_risk_score, adjusted_retention_probability, customer_lifetime_premium_value,\n",
    "#       avg_satisfaction_score, payment_reliability_score, total_claims,\n",
    "#       customer_tenure_years, total_policies, policy_types_count\n",
    "# \n",
    "# Step 4: Add feature engineering\n",
    "# TODO: Add policy_age_years: datediff(current_date(), start_date) / 365.25\n",
    "# TODO: Add claims_frequency: when policy_age_years > 0, total_claims / policy_age_years, else 0\n",
    "# TODO: Store final result in renewal_features_df\n",
    "#\n",
    "# EXPECTED OUTPUT: Renewal prediction dataset with customer features and target variable\n",
    "# Target: 75K policies with renewal prediction features\n",
    "\n",
    "# Create renewal prediction dataset\n",
    "# Calculate days until renewal for active policies\n",
    "renewal_df = policies_df.withColumn(\n",
    "    \"days_to_renewal\",\n",
    "    datediff(col(\"renewal_date\"), current_date())\n",
    ").withColumn(\n",
    "    \"renewal_within_90_days\",\n",
    "    when(col(\"days_to_renewal\") <= 90, 1).otherwise(0)\n",
    ")\n",
    "\n",
    "# Create renewal target variable (historical renewals)\n",
    "renewal_df = renewal_df.withColumn(\n",
    "    \"renewed_successfully\",\n",
    "    when(col(\"policy_status\") == \"Active\", 1)\n",
    "    .when(col(\"policy_status\") == \"Renewed\", 1)\n",
    "    .otherwise(0)\n",
    ")\n",
    "\n",
    "# Join with customer risk profiles for features\n",
    "renewal_prediction_df = renewal_df.join(\n",
    "    clpv_df.select(\n",
    "        \"customer_id\", \"first_name\", \"last_name\", \"risk_category\", \"clpv_segment\", \n",
    "        \"composite_risk_score\", \"adjusted_retention_probability\", \"customer_lifetime_premium_value\",\n",
    "        \"avg_satisfaction_score\", \"payment_reliability_score\", \"total_claims\",\n",
    "        \"customer_tenure_years\", \"total_policies\", \"policy_types_count\"\n",
    "    ),\n",
    "    \"customer_id\"\n",
    ")\n",
    "\n",
    "print(f\"\uD83D\uDCCA Renewal prediction dataset: {renewal_prediction_df.count():,} policies\")\n",
    "\n",
    "# Feature engineering for prediction\n",
    "renewal_features_df = renewal_prediction_df.withColumn(\n",
    "    \"premium_to_income_ratio\",\n",
    "    col(\"premium_amount\") / (col(\"customer_lifetime_premium_value\") / col(\"customer_tenure_years\"))\n",
    ").withColumn(\n",
    "    \"policy_age_years\",\n",
    "    datediff(current_date(), col(\"start_date\")) / 365.25\n",
    ").withColumn(\n",
    "    \"claims_frequency\",\n",
    "    when(col(\"policy_age_years\") > 0, col(\"total_claims\") / col(\"policy_age_years\")).otherwise(0)\n",
    ")\n",
    "\n",
    "print(\"✅ Renewal prediction features prepared\")"
   ]
  },
  {
   "cell_type": "markdown",
   "metadata": {
    "application/vnd.databricks.v1+cell": {
     "cellMetadata": {
      "byteLimit": 2048000,
      "rowLimit": 10000
     },
     "inputWidgets": {},
     "nuid": "3be55e55-84e0-4a1a-9546-de25e0292cf5",
     "showTitle": false,
     "tableResultSettingsMap": {},
     "title": ""
    }
   },
   "source": [
    "### 2.2 Renewal Probability Scoring"
   ]
  },
  {
   "cell_type": "code",
   "execution_count": 0,
   "metadata": {
    "application/vnd.databricks.v1+cell": {
     "cellMetadata": {
      "byteLimit": 2048000,
      "rowLimit": 10000
     },
     "inputWidgets": {},
     "nuid": "b2d2dc57-2a5b-416b-b514-5f513aa00e89",
     "showTitle": false,
     "tableResultSettingsMap": {},
     "title": ""
    }
   },
   "outputs": [
    {
     "output_type": "stream",
     "name": "stdout",
     "output_type": "stream",
     "text": [
      "\uD83D\uDCCA Calculating renewal probability scores...\n\uD83D\uDCCA Renewal Risk Distribution:\n+---------------------+------------+------------------+---------------------+\n|renewal_risk_category|policy_count|  avg_renewal_prob|total_premium_at_risk|\n+---------------------+------------+------------------+---------------------+\n|             Low Risk|       39052|0.9009103678523406| 2.1496561384000006E8|\n|          Medium Risk|       32332|0.7101577001963082|  1.843529874599988E8|\n|            High Risk|        3616|0.5563081704922638|  2.233070274000003E7|\n+---------------------+------------+------------------+---------------------+\n\n✅ Renewal probability scoring completed\n"
     ]
    }
   ],
   "source": [
    "print(\"\uD83D\uDCCA Calculating renewal probability scores...\")\n",
    "\n",
    "# BUSINESS CONTEXT: Business rule-based scoring provides interpretable renewal probabilities\n",
    "# This approach is more transparent than machine learning for business stakeholders\n",
    "\n",
    "# TODO: Calculate renewal probability using business rules\n",
    "# \n",
    "# Step 1: Apply tenure adjustment\n",
    "# TODO: Add tenure_adjustment column using when/otherwise:\n",
    "#       - When customer_tenure_years >= 5: 1.15\n",
    "#       - When customer_tenure_years >= 3: 1.1\n",
    "#       - When customer_tenure_years >= 1: 1.0\n",
    "#       - Otherwise: 0.9\n",
    "# \n",
    "# Step 2: Apply policy count adjustment\n",
    "# TODO: Add policy_count_adjustment column using when/otherwise:\n",
    "#       - When total_policies >= 3: 1.2\n",
    "#       - When total_policies >= 2: 1.1\n",
    "#       - Otherwise: 1.0\n",
    "# \n",
    "# Step 3: Apply claims adjustment\n",
    "# TODO: Add claims_adjustment column using when/otherwise:\n",
    "#       - When total_claims == 0: 1.05\n",
    "#       - When total_claims <= 1: 1.0\n",
    "#       - When total_claims <= 2: 0.95\n",
    "#       - Otherwise: 0.9\n",
    "# \n",
    "# Step 4: Calculate final renewal probability\n",
    "# TODO: Add renewal_probability_score column using least():\n",
    "#       - adjusted_retention_probability * tenure_adjustment * policy_count_adjustment * claims_adjustment\n",
    "#       - Cap at 0.98 using least(calculation, lit(0.98))\n",
    "# \n",
    "# Step 5: Create renewal risk categories\n",
    "# TODO: Add renewal_risk_category column using when/otherwise:\n",
    "#       - When renewal_probability_score >= 0.8: \"Low Risk\"\n",
    "#       - When renewal_probability_score >= 0.6: \"Medium Risk\"\n",
    "#       - Otherwise: \"High Risk\"\n",
    "#\n",
    "# EXPECTED OUTPUT: All policies have renewal probability scores and risk categories\n",
    "# Target: Most policies 0.6-0.9 renewal probability, ~20% high risk\n",
    "\n",
    "# Create renewal probability model using business rules\n",
    "renewal_scored_df = renewal_features_df.withColumn(\n",
    "    \"base_renewal_probability\",\n",
    "    col(\"adjusted_retention_probability\")\n",
    ").withColumn(\n",
    "    \"tenure_adjustment\",\n",
    "    # Longer tenure customers are more likely to renew\n",
    "    when(col(\"customer_tenure_years\") >= 5, 1.15)\n",
    "    .when(col(\"customer_tenure_years\") >= 3, 1.1)\n",
    "    .when(col(\"customer_tenure_years\") >= 1, 1.0)\n",
    "    .otherwise(0.9)\n",
    ").withColumn(\n",
    "    \"policy_count_adjustment\",\n",
    "    # Multi-policy customers are more likely to renew\n",
    "    when(col(\"total_policies\") >= 3, 1.2)\n",
    "    .when(col(\"total_policies\") >= 2, 1.1)\n",
    "    .otherwise(1.0)\n",
    ").withColumn(\n",
    "    \"claims_adjustment\",\n",
    "    # Recent claims may affect renewal\n",
    "    when(col(\"total_claims\") == 0, 1.05)\n",
    "    .when(col(\"total_claims\") <= 1, 1.0)\n",
    "    .when(col(\"total_claims\") <= 2, 0.95)\n",
    "    .otherwise(0.9)\n",
    ")\n",
    "\n",
    "# Calculate final renewal probability\n",
    "renewal_scored_df = renewal_scored_df.withColumn(\n",
    "    \"renewal_probability_score\",\n",
    "    least(\n",
    "        col(\"base_renewal_probability\") * \n",
    "        col(\"tenure_adjustment\") * \n",
    "        col(\"policy_count_adjustment\") * \n",
    "        col(\"claims_adjustment\"),\n",
    "        lit(0.98)  # Cap at 98%\n",
    "    )\n",
    ")\n",
    "\n",
    "# Classify renewal risk\n",
    "renewal_scored_df = renewal_scored_df.withColumn(\n",
    "    \"renewal_risk_category\",\n",
    "    when(col(\"renewal_probability_score\") >= 0.8, lit(\"Low Risk\"))\n",
    "    .when(col(\"renewal_probability_score\") >= 0.6, lit(\"Medium Risk\"))\n",
    "    .otherwise(lit(\"High Risk\"))\n",
    ")\n",
    "\n",
    "print(\"\uD83D\uDCCA Renewal Risk Distribution:\")\n",
    "renewal_risk_dist = renewal_scored_df.groupBy(\"renewal_risk_category\").agg(\n",
    "    count(\"*\").alias(\"policy_count\"),\n",
    "    avg(\"renewal_probability_score\").alias(\"avg_renewal_prob\"),\n",
    "    sum(\"premium_amount\").alias(\"total_premium_at_risk\")\n",
    ").orderBy(\"avg_renewal_prob\", ascending=False)\n",
    "\n",
    "renewal_risk_dist.show()\n",
    "\n",
    "print(\"✅ Renewal probability scoring completed\")"
   ]
  },
  {
   "cell_type": "markdown",
   "metadata": {
    "application/vnd.databricks.v1+cell": {
     "cellMetadata": {
      "byteLimit": 2048000,
      "rowLimit": 10000
     },
     "inputWidgets": {},
     "nuid": "8978ac12-88c1-49ec-aac1-ee5831bde3b7",
     "showTitle": false,
     "tableResultSettingsMap": {},
     "title": ""
    }
   },
   "source": [
    "### 2.3 At-Risk Customer Identification"
   ]
  },
  {
   "cell_type": "code",
   "execution_count": 0,
   "metadata": {
    "application/vnd.databricks.v1+cell": {
     "cellMetadata": {
      "byteLimit": 2048000,
      "rowLimit": 10000
     },
     "inputWidgets": {},
     "nuid": "e45e0c9e-dcb1-498a-96e2-b29488d0c6f4",
     "showTitle": false,
     "tableResultSettingsMap": {},
     "title": ""
    }
   },
   "outputs": [
    {
     "output_type": "stream",
     "name": "stdout",
     "output_type": "stream",
     "text": [
      "⚠️ Identifying at-risk customers for retention efforts...\n\uD83D\uDCCA At-Risk Customers Identified: 1,543\n\uD83D\uDCCA At-Risk Customer Segments:\n+------------+-------------+--------------+------------------+------------------+\n|clpv_segment|risk_category|customer_count|   premium_at_risk|  avg_renewal_prob|\n+------------+-------------+--------------+------------------+------------------+\n|  High Value|         High|           370|        4264395.28|0.5482136189189194|\n|Medium Value|         High|           431|2729219.5199999986|0.5561398190255208|\n|   Low Value|         High|           514|1603616.5900000008|0.5578860466926084|\n|Medium Value|       Medium|            61| 598727.9600000002|0.5792872131147544|\n|  High Value|       Medium|            59| 391860.6599999999|0.5755393220338989|\n|   Low Value|       Medium|           108|         259655.71|0.5823625000000004|\n+------------+-------------+--------------+------------------+------------------+\n\n\uD83D\uDCB0 Total Premium at Risk: $9,847,475.72\n✅ At-risk customer identification completed\n"
     ]
    }
   ],
   "source": [
    "print(\"⚠️ Identifying at-risk customers for retention efforts...\")\n",
    "\n",
    "# BUSINESS CONTEXT: Early identification of at-risk customers enables intervention\n",
    "# High-value customers at risk of leaving require immediate attention and investment\n",
    "\n",
    "# TODO: Identify at-risk customers for retention campaigns\n",
    "# \n",
    "# Step 1: Filter high-risk customers\n",
    "# TODO: Filter renewal_scored_df for customers with:\n",
    "#       - renewal_risk_category == \"High Risk\"\n",
    "#       - days_to_renewal <= 120\n",
    "#       - policy_status == \"Active\"\n",
    "# \n",
    "# Step 2: Select relevant columns for analysis\n",
    "# TODO: Select customer_id, policy_id, first_name, last_name, policy_type, premium_amount,\n",
    "#       renewal_probability_score, days_to_renewal, risk_category, clpv_segment,\n",
    "#       customer_lifetime_premium_value, avg_satisfaction_score, total_claims, payment_reliability_score\n",
    "# \n",
    "# Step 3: Create priority scoring\n",
    "# TODO: Add priority_score column:\n",
    "#       - (customer_lifetime_premium_value * 0.6) + (premium_amount * 0.4) - (renewal_probability_score * 1000)\n",
    "# TODO: Order by priority_score descending (highest priority first)\n",
    "# \n",
    "# Step 4: Analyze at-risk segments\n",
    "# TODO: Group by clpv_segment and risk_category, calculate:\n",
    "#       - count(*) as customer_count\n",
    "#       - sum(premium_amount) as premium_at_risk\n",
    "#       - avg(renewal_probability_score) as avg_renewal_prob\n",
    "# TODO: Order by premium_at_risk descending and display results\n",
    "# \n",
    "# Step 5: Calculate total risk exposure\n",
    "# TODO: Calculate total_premium_at_risk using sum(premium_amount) on at_risk_customers\n",
    "# TODO: Print formatted result\n",
    "#\n",
    "# EXPECTED OUTPUT: Priority-ranked at-risk customers with value-based scoring\n",
    "# Target: 2,000-5,000 at-risk customers, $5-15M premium at risk\n",
    "\n",
    "# Identify customers with high-value policies at risk of non-renewal\n",
    "at_risk_customers = renewal_scored_df.filter(\n",
    "    (col(\"renewal_risk_category\") == \"High Risk\") & \n",
    "    (col(\"days_to_renewal\") <= 120) &\n",
    "    (col(\"policy_status\") == \"Active\")\n",
    ").select(\n",
    "    \"customer_id\", \"policy_id\", \"first_name\", \"last_name\", \n",
    "    \"policy_type\", \"premium_amount\", \"renewal_probability_score\",\n",
    "    \"days_to_renewal\", \"risk_category\", \"clpv_segment\",\n",
    "    \"customer_lifetime_premium_value\", \"avg_satisfaction_score\",\n",
    "    \"total_claims\", \"payment_reliability_score\"\n",
    ")\n",
    "\n",
    "# Prioritize by value at risk\n",
    "at_risk_customers = at_risk_customers.withColumn(\n",
    "    \"priority_score\",\n",
    "    (col(\"customer_lifetime_premium_value\") * 0.6) + \n",
    "    (col(\"premium_amount\") * 0.4) -\n",
    "    (col(\"renewal_probability_score\") * 1000)\n",
    ").orderBy(\"priority_score\", ascending=False)\n",
    "\n",
    "print(f\"\uD83D\uDCCA At-Risk Customers Identified: {at_risk_customers.count():,}\")\n",
    "\n",
    "# At-risk customer segments\n",
    "at_risk_summary = at_risk_customers.groupBy(\"clpv_segment\", \"risk_category\").agg(\n",
    "    count(\"*\").alias(\"customer_count\"),\n",
    "    sum(\"premium_amount\").alias(\"premium_at_risk\"),\n",
    "    avg(\"renewal_probability_score\").alias(\"avg_renewal_prob\")\n",
    ").orderBy(\"premium_at_risk\", ascending=False)\n",
    "\n",
    "print(\"\uD83D\uDCCA At-Risk Customer Segments:\")\n",
    "at_risk_summary.show()\n",
    "\n",
    "# Calculate total premium at risk\n",
    "total_premium_at_risk = at_risk_customers.agg(sum(\"premium_amount\")).collect()[0][0]\n",
    "print(f\"\uD83D\uDCB0 Total Premium at Risk: ${total_premium_at_risk:,.2f}\")\n",
    "\n",
    "print(\"✅ At-risk customer identification completed\")"
   ]
  },
  {
   "cell_type": "markdown",
   "metadata": {
    "application/vnd.databricks.v1+cell": {
     "cellMetadata": {
      "byteLimit": 2048000,
      "rowLimit": 10000
     },
     "inputWidgets": {},
     "nuid": "9408b68b-00db-45c4-aa22-ae5cb23fac7b",
     "showTitle": false,
     "tableResultSettingsMap": {},
     "title": ""
    }
   },
   "source": [
    "## 3. Pricing Optimization Analysis"
   ]
  },
  {
   "cell_type": "markdown",
   "metadata": {
    "application/vnd.databricks.v1+cell": {
     "cellMetadata": {
      "byteLimit": 2048000,
      "rowLimit": 10000
     },
     "inputWidgets": {},
     "nuid": "7a3a1ff6-f47c-4b82-a838-c8c3d741338e",
     "showTitle": false,
     "tableResultSettingsMap": {},
     "title": ""
    }
   },
   "source": [
    "### 3.1 Risk-Based Pricing Analysis"
   ]
  },
  {
   "cell_type": "code",
   "execution_count": 0,
   "metadata": {
    "application/vnd.databricks.v1+cell": {
     "cellMetadata": {
      "byteLimit": 2048000,
      "rowLimit": 10000
     },
     "inputWidgets": {},
     "nuid": "02004928-3bf7-4dd3-9d4d-f3d405d47010",
     "showTitle": false,
     "tableResultSettingsMap": {},
     "title": ""
    }
   },
   "outputs": [
    {
     "output_type": "stream",
     "name": "stdout",
     "output_type": "stream",
     "text": [
      "\uD83D\uDCB2 Analyzing risk-based pricing opportunities...\n\uD83D\uDCCA Pricing Analysis by Risk Category:\n+-------------+--------------+-------------------+------------------+-------------------+-----------------------+\n|risk_category|customer_count|   avg_claims_ratio| avg_profitability|current_avg_premium|recommended_avg_premium|\n+-------------+--------------+-------------------+------------------+-------------------+-----------------------+\n|         High|          1551|  9.013989451433977|-147279.2187362988| 29092.338726194586|      34910.80647143355|\n|       Medium|         10464|  6.236164751932708| -63771.6617163611|  28973.40392784565|      28973.40392784565|\n|          Low|          2985|0.15078499548578708|  21763.8966499162|  32865.13186306955|      29578.61867676258|\n+-------------+--------------+-------------------+------------------+-------------------+-----------------------+\n\n\uD83D\uDCCA Pricing Adjustment Recommendations:\n+-------------+--------------+-------------------+------------------+-------------------+-----------------------+----------------------+---------------------+\n|risk_category|customer_count|   avg_claims_ratio| avg_profitability|current_avg_premium|recommended_avg_premium|pricing_adjustment_pct|annual_revenue_impact|\n+-------------+--------------+-------------------+------------------+-------------------+-----------------------+----------------------+---------------------+\n|         High|          1551|  9.013989451433977|-147279.2187362988| 29092.338726194586|      34910.80647143355|    20.000000000000153|     9024443.47286563|\n|       Medium|         10464|  6.236164751932708| -63771.6617163611|  28973.40392784565|      28973.40392784565|                   0.0|                  0.0|\n|          Low|          2985|0.15078499548578708|  21763.8966499162|  32865.13186306955|      29578.61867676258|   -10.000000000000053|   -9810241.861126313|\n+-------------+--------------+-------------------+------------------+-------------------+-----------------------+----------------------+---------------------+\n\n\uD83D\uDCB0 Total Annual Revenue Impact: $-785,798.39\n✅ Risk-based pricing analysis completed\n"
     ]
    }
   ],
   "source": [
    "print(\"\uD83D\uDCB2 Analyzing risk-based pricing opportunities...\")\n",
    "\n",
    "# BUSINESS CONTEXT: Risk-based pricing ensures premiums reflect actual risk levels\n",
    "# Proper pricing protects profitability while maintaining competitiveness\n",
    "\n",
    "# TODO: Analyze current pricing efficiency and optimization opportunities\n",
    "# \n",
    "# Step 1: Calculate pricing metrics\n",
    "# TODO: Add claims_ratio column: when total_premium > 0, total_claim_amount / total_premium, else 0\n",
    "# TODO: Add profitability_score column: total_premium - total_claim_amount\n",
    "# TODO: Add risk_adjusted_rate column: annualized_premium * risk_premium_multiplier\n",
    "# \n",
    "# Step 2: Analyze pricing by risk category\n",
    "# TODO: Group clpv_df by risk_category and calculate:\n",
    "#       - count(*) as customer_count\n",
    "#       - avg(claims_ratio) as avg_claims_ratio\n",
    "#       - avg(profitability_score) as avg_profitability\n",
    "#       - avg(annualized_premium) as current_avg_premium\n",
    "#       - avg(risk_adjusted_rate) as recommended_avg_premium\n",
    "# TODO: Order by avg_claims_ratio descending and display results\n",
    "# \n",
    "# Step 3: Calculate pricing adjustments\n",
    "# TODO: Add pricing_adjustment_pct column:\n",
    "#       - ((recommended_avg_premium - current_avg_premium) / current_avg_premium) * 100\n",
    "# TODO: Add annual_revenue_impact column:\n",
    "#       - customer_count * (recommended_avg_premium - current_avg_premium)\n",
    "# \n",
    "# Step 4: Calculate total revenue impact\n",
    "# TODO: Calculate total_revenue_impact using sum(annual_revenue_impact)\n",
    "# TODO: Print formatted result\n",
    "#\n",
    "# EXPECTED OUTPUT: Pricing analysis showing adjustment recommendations by risk category\n",
    "# Target: 5-15% pricing adjustments, $2-8M annual revenue impact\n",
    "\n",
    "# Calculate current pricing efficiency\n",
    "pricing_analysis_df = clpv_df.withColumn(\n",
    "    \"claims_ratio\",\n",
    "    when(col(\"total_premium\") > 0, col(\"total_claim_amount\") / col(\"total_premium\")).otherwise(0)\n",
    ").withColumn(\n",
    "    \"profitability_score\",\n",
    "    col(\"total_premium\") - col(\"total_claim_amount\")\n",
    ").withColumn(\n",
    "    \"risk_adjusted_rate\",\n",
    "    col(\"annualized_premium\") * col(\"risk_premium_multiplier\")\n",
    ")\n",
    "\n",
    "# Pricing optimization by risk category\n",
    "pricing_by_risk = pricing_analysis_df.groupBy(\"risk_category\").agg(\n",
    "    count(\"*\").alias(\"customer_count\"),\n",
    "    avg(\"claims_ratio\").alias(\"avg_claims_ratio\"),\n",
    "    avg(\"profitability_score\").alias(\"avg_profitability\"),\n",
    "    avg(\"annualized_premium\").alias(\"current_avg_premium\"),\n",
    "    avg(\"risk_adjusted_rate\").alias(\"recommended_avg_premium\")\n",
    ").orderBy(\"avg_claims_ratio\", ascending=False)\n",
    "\n",
    "print(\"\uD83D\uDCCA Pricing Analysis by Risk Category:\")\n",
    "pricing_by_risk.show()\n",
    "\n",
    "# Calculate pricing adjustment recommendations\n",
    "pricing_recommendations = pricing_by_risk.withColumn(\n",
    "    \"pricing_adjustment_pct\",\n",
    "    ((col(\"recommended_avg_premium\") - col(\"current_avg_premium\")) / col(\"current_avg_premium\")) * 100\n",
    ").withColumn(\n",
    "    \"annual_revenue_impact\",\n",
    "    col(\"customer_count\") * (col(\"recommended_avg_premium\") - col(\"current_avg_premium\"))\n",
    ")\n",
    "\n",
    "print(\"\uD83D\uDCCA Pricing Adjustment Recommendations:\")\n",
    "pricing_recommendations.show()\n",
    "\n",
    "# Total potential revenue impact\n",
    "total_revenue_impact = pricing_recommendations.agg(sum(\"annual_revenue_impact\")).collect()[0][0]\n",
    "print(f\"\uD83D\uDCB0 Total Annual Revenue Impact: ${total_revenue_impact:,.2f}\")\n",
    "\n",
    "print(\"✅ Risk-based pricing analysis completed\")"
   ]
  },
  {
   "cell_type": "markdown",
   "metadata": {
    "application/vnd.databricks.v1+cell": {
     "cellMetadata": {
      "byteLimit": 2048000,
      "rowLimit": 10000
     },
     "inputWidgets": {},
     "nuid": "e0fe572f-4064-499a-b93b-8ad171fdbe92",
     "showTitle": false,
     "tableResultSettingsMap": {},
     "title": ""
    }
   },
   "source": [
    "### 3.2 Customer Segment Pricing Strategy"
   ]
  },
  {
   "cell_type": "code",
   "execution_count": 0,
   "metadata": {
    "application/vnd.databricks.v1+cell": {
     "cellMetadata": {
      "byteLimit": 2048000,
      "rowLimit": 10000
     },
     "inputWidgets": {},
     "nuid": "d8e0aea6-2f38-4722-bdc8-36853b34f804",
     "showTitle": false,
     "tableResultSettingsMap": {},
     "title": ""
    }
   },
   "outputs": [
    {
     "output_type": "stream",
     "name": "stdout",
     "output_type": "stream",
     "text": [
      "\uD83C\uDFAF Developing segment-specific pricing strategies...\n\uD83D\uDCCA Segment Pricing Strategy:\n+------------+-------------+--------------+-------------------+-------------------+------------------+------------------+-------------------+\n|clpv_segment|risk_category|customer_count|current_avg_premium|recommended_premium|          avg_clpv|avg_retention_prob|   pricing_strategy|\n+------------+-------------+--------------+-------------------+-------------------+------------------+------------------+-------------------+\n|Medium Value|         High|           426|  14981.51344295089| 19775.597744695162| 41868.17515167659|0.5558873239436614|Competitive Pricing|\n|  High Value|          Low|           526|  155675.8953980653| 126097.47527243299|365927.04057568975|0.7399847908745203|Value-Based Pricing|\n|  High Value|       Medium|          1945| 119793.65303415888| 107814.28773074283|297330.70457297435|0.6523727506426595|Value-Based Pricing|\n|Medium Value|       Medium|          2377| 16548.080694707518| 18202.888764178235|40825.065374083235|0.6486758519141628|Competitive Pricing|\n|   Low Value|       Medium|          6141|  4432.816008045392|  5319.379209654484| 10923.77652853627|0.6451905227161842|Penetration Pricing|\n|     Premium|       Medium|             1|    3622332.6328125|      2897866.10625| 9651252.508549804|           0.77625|    Premium Pricing|\n|Medium Value|          Low|           525|  17188.77898291984| 17016.891193090632|  40248.3795980585|0.7398642857142824|Competitive Pricing|\n|  High Value|         High|           446|  79592.18310315594|  85959.55775140846| 224105.0523308252|0.5647348654708522|Value-Based Pricing|\n|   Low Value|         High|           679|  4774.637663657109|  6875.478235666248|13359.467954771431|0.5561807805596455|Penetration Pricing|\n|   Low Value|          Low|          1934|  3719.125473550826|  4016.655511434881|  8713.64621220799|0.7370937176835582|Penetration Pricing|\n+------------+-------------+--------------+-------------------+-------------------+------------------+------------------+-------------------+\n\n\uD83D\uDCCA Revenue Impact by Segment:\n+------------+-------------+--------------+----------------------+\n|clpv_segment|risk_category|customer_count|segment_revenue_impact|\n+------------+-------------+--------------+----------------------+\n|Medium Value|         High|           426|    2042279.9125430596|\n|  High Value|          Low|           526|  -1.55582489860825...|\n|  High Value|       Medium|          1945|  -2.329986551514422E7|\n|Medium Value|       Medium|          2377|     3933478.781131894|\n|   Low Value|       Medium|          6141|     5444384.621081435|\n|     Premium|       Medium|             1|    -724466.5265624998|\n|Medium Value|          Low|           525|    -90241.08966033446|\n|  High Value|         High|           446|    2839849.0931206224|\n|   Low Value|         High|           679|    1426470.7483942052|\n|   Low Value|          Low|          1934|     575423.0932677628|\n+------------+-------------+--------------+----------------------+\n\n✅ Segment-specific pricing strategy completed\n"
     ]
    }
   ],
   "source": [
    "print(\"\uD83C\uDFAF Developing segment-specific pricing strategies...\")\n",
    "\n",
    "# BUSINESS CONTEXT: Different customer segments have different price sensitivity\n",
    "# Premium customers are less price-sensitive, while budget customers require competitive pricing\n",
    "\n",
    "# TODO: Develop pricing strategy by customer segment\n",
    "# \n",
    "# Step 1: Calculate price sensitivity by segment\n",
    "# TODO: Add price_sensitivity column using when/otherwise:\n",
    "#       - When clpv_segment == \"Premium\": 0.8\n",
    "#       - When clpv_segment == \"High Value\": 0.9\n",
    "#       - When clpv_segment == \"Medium Value\": 1.1\n",
    "#       - Otherwise: 1.2\n",
    "# \n",
    "# Step 2: Calculate optimal premium\n",
    "# TODO: Add optimal_premium column:\n",
    "#       - annualized_premium * risk_premium_multiplier * price_sensitivity\n",
    "# \n",
    "# Step 3: Create segment pricing strategy\n",
    "# TODO: Group by clpv_segment and risk_category, calculate:\n",
    "#       - count(*) as customer_count\n",
    "#       - avg(annualized_premium) as current_avg_premium\n",
    "#       - avg(optimal_premium) as recommended_premium\n",
    "#       - avg(customer_lifetime_premium_value) as avg_clpv\n",
    "#       - avg(adjusted_retention_probability) as avg_retention_prob\n",
    "# \n",
    "# Step 4: Add pricing strategy labels\n",
    "# TODO: Add pricing_strategy column using when/otherwise:\n",
    "#       - When clpv_segment == \"Premium\": \"Premium Pricing\"\n",
    "#       - When clpv_segment == \"High Value\": \"Value-Based Pricing\"\n",
    "#       - When clpv_segment == \"Medium Value\": \"Competitive Pricing\"\n",
    "#       - Otherwise: \"Penetration Pricing\"\n",
    "# \n",
    "# Step 5: Calculate segment revenue impact\n",
    "# TODO: Add segment_revenue_impact column:\n",
    "#       - customer_count * (recommended_premium - current_avg_premium)\n",
    "# TODO: Display results ordered by segment_revenue_impact descending\n",
    "#\n",
    "# EXPECTED OUTPUT: Segment-specific pricing strategies with revenue impact\n",
    "# Target: Different pricing approaches for each segment, $3-10M total impact\n",
    "\n",
    "# Pricing elasticity by customer segment\n",
    "segment_pricing_df = clpv_df.withColumn(\n",
    "    \"price_sensitivity\",\n",
    "    # High-value customers are less price-sensitive\n",
    "    when(col(\"clpv_segment\") == \"Premium\", 0.8)\n",
    "    .when(col(\"clpv_segment\") == \"High Value\", 0.9)\n",
    "    .when(col(\"clpv_segment\") == \"Medium Value\", 1.1)\n",
    "    .otherwise(1.2)\n",
    ").withColumn(\n",
    "    \"optimal_premium\",\n",
    "    col(\"annualized_premium\") * col(\"risk_premium_multiplier\") * col(\"price_sensitivity\")\n",
    ")\n",
    "\n",
    "# Segment pricing strategy\n",
    "segment_pricing_strategy = segment_pricing_df.groupBy(\"clpv_segment\", \"risk_category\").agg(\n",
    "    count(\"*\").alias(\"customer_count\"),\n",
    "    avg(\"annualized_premium\").alias(\"current_avg_premium\"),\n",
    "    avg(\"optimal_premium\").alias(\"recommended_premium\"),\n",
    "    avg(\"customer_lifetime_premium_value\").alias(\"avg_clpv\"),\n",
    "    avg(\"adjusted_retention_probability\").alias(\"avg_retention_prob\")\n",
    ").withColumn(\n",
    "    \"pricing_strategy\",\n",
    "    when(col(\"clpv_segment\") == \"Premium\", lit(\"Premium Pricing\"))\n",
    "    .when(col(\"clpv_segment\") == \"High Value\", lit(\"Value-Based Pricing\"))\n",
    "    .when(col(\"clpv_segment\") == \"Medium Value\", lit(\"Competitive Pricing\"))\n",
    "    .otherwise(lit(\"Penetration Pricing\"))\n",
    ")\n",
    "\n",
    "print(\"\uD83D\uDCCA Segment Pricing Strategy:\")\n",
    "segment_pricing_strategy.show()\n",
    "\n",
    "# Calculate segment-specific revenue impact\n",
    "segment_revenue_impact = segment_pricing_strategy.withColumn(\n",
    "    \"segment_revenue_impact\",\n",
    "    col(\"customer_count\") * (col(\"recommended_premium\") - col(\"current_avg_premium\"))\n",
    ")\n",
    "\n",
    "print(\"\uD83D\uDCCA Revenue Impact by Segment:\")\n",
    "segment_revenue_impact.select(\"clpv_segment\", \"risk_category\", \"customer_count\", \"segment_revenue_impact\").show()\n",
    "\n",
    "print(\"✅ Segment-specific pricing strategy completed\")"
   ]
  },
  {
   "cell_type": "markdown",
   "metadata": {
    "application/vnd.databricks.v1+cell": {
     "cellMetadata": {
      "byteLimit": 2048000,
      "rowLimit": 10000
     },
     "inputWidgets": {},
     "nuid": "bac0cc7d-89d4-43c9-b158-2ab5791cf0b7",
     "showTitle": false,
     "tableResultSettingsMap": {},
     "title": ""
    }
   },
   "source": [
    "## 4. Advanced Claims Pattern Analysis and Fraud Detection"
   ]
  },
  {
   "cell_type": "markdown",
   "metadata": {
    "application/vnd.databricks.v1+cell": {
     "cellMetadata": {
      "byteLimit": 2048000,
      "rowLimit": 10000
     },
     "inputWidgets": {},
     "nuid": "ef3fb7a4-ec14-4dd4-95cc-64d9b42ea2ac",
     "showTitle": false,
     "tableResultSettingsMap": {},
     "title": ""
    }
   },
   "source": [
    "### 4.1 Fraud Detection Indicators"
   ]
  },
  {
   "cell_type": "code",
   "execution_count": 0,
   "metadata": {
    "application/vnd.databricks.v1+cell": {
     "cellMetadata": {
      "byteLimit": 2048000,
      "rowLimit": 10000
     },
     "inputWidgets": {},
     "nuid": "f683a982-842c-4cb4-828f-9e42e07b3c43",
     "showTitle": false,
     "tableResultSettingsMap": {},
     "title": ""
    }
   },
   "outputs": [
    {
     "output_type": "stream",
     "name": "stdout",
     "output_type": "stream",
     "text": [
      "\uD83D\uDD0D Analyzing fraud detection patterns...\n\uD83D\uDCCA Fraud Risk Distribution:\n+-------------------+-----------+--------------------+------------------+------------------+\n|fraud_risk_category|claim_count|  total_claim_amount|  avg_claim_amount|   avg_fraud_score|\n+-------------------+-----------+--------------------+------------------+------------------+\n|          High Risk|        686|2.1944692268999943E8| 319893.4733090371| 6.045189504373178|\n|        Medium Risk|       3249| 9.000498287299998E8| 277023.6468851954| 3.903047091412742|\n|           Low Risk|       6708|1.3292405757999998E8|19815.750980918303|1.4019081693500297|\n+-------------------+-----------+--------------------+------------------+------------------+\n\n\uD83D\uDCCA High-Risk Claims for Investigation: 686\n\uD83D\uDCCA Fraud Exposure Analysis:\n+-------------------+--------------------+-----------+------------------+\n|fraud_risk_category|      total_exposure|claim_count|fraud_exposure_pct|\n+-------------------+--------------------+-----------+------------------+\n|           Low Risk|1.3292405757999998E8|       6708|10.613370252617724|\n|        Medium Risk| 9.000498287299998E8|       3249|  71.8648095162719|\n|          High Risk|2.1944692268999943E8|        686|17.521820231110503|\n+-------------------+--------------------+-----------+------------------+\n\n✅ Fraud detection analysis completed\n"
     ]
    }
   ],
   "source": [
    "print(\"\uD83D\uDD0D Analyzing fraud detection patterns...\")\n",
    "\n",
    "# BUSINESS CONTEXT: Fraud detection protects company profitability and honest customers\n",
    "# Statistical outliers and behavioral patterns can indicate potential fraud\n",
    "\n",
    "# TODO: Implement enhanced fraud detection analysis\n",
    "# \n",
    "# Step 1: Calculate fraud risk indicators\n",
    "# TODO: Add claim_amount_zscore column: (claim_amount - 5000) / 10000 (simplified z-score)\n",
    "# TODO: Add days_policy_to_claim column: datediff(claim_date, current_date()) (simplified)\n",
    "# \n",
    "# Step 2: Join with customer risk data\n",
    "# TODO: Join claims_df with clpv_df on customer_id\n",
    "# TODO: Select customer_id, risk_category, composite_risk_score, total_claims, payment_reliability_score\n",
    "# \n",
    "# Step 3: Calculate comprehensive fraud risk score\n",
    "# TODO: Add fraud_risk_score column by adding these components:\n",
    "#       - when(claim_amount > 50000, 2).otherwise(0)  # Large claims\n",
    "#       - when(fraud_indicator == True, 3).otherwise(0)  # Existing fraud flag\n",
    "#       - when(claim_amount_zscore > 2, 1).otherwise(0)  # Statistical outlier\n",
    "#       - when(days_to_settle < 5, 1).otherwise(0)  # Quick settlement\n",
    "#       - when(payment_reliability_score < 0.8, 1).otherwise(0)  # Poor payment history\n",
    "# \n",
    "# Step 4: Categorize fraud risk\n",
    "# TODO: Add fraud_risk_category column using when/otherwise:\n",
    "#       - When fraud_risk_score >= 5: \"High Risk\"\n",
    "#       - When fraud_risk_score >= 3: \"Medium Risk\"\n",
    "#       - Otherwise: \"Low Risk\"\n",
    "# \n",
    "# Step 5: Analyze fraud risk distribution\n",
    "# TODO: Group by fraud_risk_category and calculate:\n",
    "#       - count(*) as claim_count\n",
    "#       - sum(claim_amount) as total_claim_amount\n",
    "#       - avg(claim_amount) as avg_claim_amount\n",
    "#       - avg(fraud_risk_score) as avg_fraud_score\n",
    "# TODO: Order by avg_fraud_score descending and display results\n",
    "#\n",
    "# EXPECTED OUTPUT: Fraud risk analysis with high-risk claims identified\n",
    "# Target: 5-15% high-risk claims, $1-5M in high-risk exposure\n",
    "\n",
    "# Enhanced fraud detection analysis\n",
    "fraud_analysis_df = claims_df.withColumn(\n",
    "    \"claim_to_premium_ratio\",\n",
    "    col(\"claim_amount\") / 1000  # Normalize for analysis\n",
    ").withColumn(\n",
    "    \"days_policy_to_claim\",\n",
    "    datediff(col(\"claim_date\"), current_date()) # Simplified for demo\n",
    ").withColumn(\n",
    "    \"claim_amount_zscore\",\n",
    "    # Z-score calculation for outlier detection\n",
    "    (col(\"claim_amount\") - 5000) / 10000  # Simplified calculation\n",
    ")\n",
    "\n",
    "# Join with customer risk profiles\n",
    "fraud_analysis_df = fraud_analysis_df.join(\n",
    "    clpv_df.select(\"customer_id\", \"risk_category\", \"composite_risk_score\", \"total_claims\", \"payment_reliability_score\"),\n",
    "    \"customer_id\"\n",
    ")\n",
    "\n",
    "# Enhanced fraud scoring\n",
    "fraud_scored_df = fraud_analysis_df.withColumn(\n",
    "    \"fraud_risk_score\",\n",
    "    # Combine multiple fraud indicators\n",
    "    (when(col(\"claim_amount\") > 50000, 2).otherwise(0)) +  # Large claims\n",
    "    (when(col(\"fraud_indicator\") == True, 3).otherwise(0)) +  # Existing fraud flag\n",
    "    (when(col(\"claim_amount_zscore\") > 2, 1).otherwise(0)) +  # Statistical outlier\n",
    "    (when(col(\"days_to_settle\") < 5, 1).otherwise(0)) +  # Quick settlement\n",
    "    (when(col(\"payment_reliability_score\") < 0.8, 1).otherwise(0))  # Poor payment history\n",
    ").withColumn(\n",
    "    \"fraud_risk_category\",\n",
    "    when(col(\"fraud_risk_score\") >= 5, lit(\"High Risk\"))\n",
    "    .when(col(\"fraud_risk_score\") >= 3, lit(\"Medium Risk\"))\n",
    "    .otherwise(lit(\"Low Risk\"))\n",
    ")\n",
    "\n",
    "print(\"\uD83D\uDCCA Fraud Risk Distribution:\")\n",
    "fraud_risk_dist = fraud_scored_df.groupBy(\"fraud_risk_category\").agg(\n",
    "    count(\"*\").alias(\"claim_count\"),\n",
    "    sum(\"claim_amount\").alias(\"total_claim_amount\"),\n",
    "    avg(\"claim_amount\").alias(\"avg_claim_amount\"),\n",
    "    avg(\"fraud_risk_score\").alias(\"avg_fraud_score\")\n",
    ").orderBy(\"avg_fraud_score\", ascending=False)\n",
    "\n",
    "fraud_risk_dist.show()\n",
    "\n",
    "# High-risk claims requiring investigation\n",
    "high_risk_claims = fraud_scored_df.filter(\n",
    "    col(\"fraud_risk_category\") == \"High Risk\"\n",
    ").select(\n",
    "    \"claim_id\", \"customer_id\", \"policy_id\", \"claim_amount\", \"claim_date\",\n",
    "    \"fraud_risk_score\", \"fraud_indicator\", \"days_to_settle\"\n",
    ").orderBy(\"fraud_risk_score\", ascending=False)\n",
    "\n",
    "print(f\"\uD83D\uDCCA High-Risk Claims for Investigation: {high_risk_claims.count():,}\")\n",
    "\n",
    "# Fraud impact analysis\n",
    "fraud_impact = fraud_scored_df.groupBy(\"fraud_risk_category\").agg(\n",
    "    sum(\"claim_amount\").alias(\"total_exposure\"),\n",
    "    count(\"*\").alias(\"claim_count\")\n",
    ").withColumn(\n",
    "    \"fraud_exposure_pct\",\n",
    "    col(\"total_exposure\") / fraud_scored_df.agg(sum(\"claim_amount\")).collect()[0][0] * 100\n",
    ")\n",
    "\n",
    "print(\"\uD83D\uDCCA Fraud Exposure Analysis:\")\n",
    "fraud_impact.show()\n",
    "\n",
    "print(\"✅ Fraud detection analysis completed\")"
   ]
  },
  {
   "cell_type": "markdown",
   "metadata": {
    "application/vnd.databricks.v1+cell": {
     "cellMetadata": {
      "byteLimit": 2048000,
      "rowLimit": 10000
     },
     "inputWidgets": {},
     "nuid": "39a24e8b-a25e-4f93-96b8-53dfa8982f32",
     "showTitle": false,
     "tableResultSettingsMap": {},
     "title": ""
    }
   },
   "source": [
    "### 4.2 Claims Seasonality and Pattern Analysis"
   ]
  },
  {
   "cell_type": "code",
   "execution_count": 0,
   "metadata": {
    "application/vnd.databricks.v1+cell": {
     "cellMetadata": {
      "byteLimit": 2048000,
      "rowLimit": 10000
     },
     "inputWidgets": {},
     "nuid": "9b1f7790-0d52-405f-9f3d-a673b4f5880a",
     "showTitle": false,
     "tableResultSettingsMap": {},
     "title": ""
    }
   },
   "outputs": [
    {
     "output_type": "stream",
     "name": "stdout",
     "output_type": "stream",
     "text": [
      "\uD83D\uDCC5 Analyzing advanced claims patterns...\n\uD83D\uDCCA Seasonal Claims by Risk Category:\n+-------------+-------------+-----------+--------------------+------------------+\n|claim_quarter|risk_category|claim_count|  total_claim_amount|  avg_claim_amount|\n+-------------+-------------+-----------+--------------------+------------------+\n|            1|         High|        777| 8.035239267000006E7|103413.63277992286|\n|            1|          Low|          4|   60197.93000000001|15049.482500000002|\n|            1|       Medium|       1872| 2.496105686399998E8|133338.97897435888|\n|            2|         High|        941| 9.691649220000003E7|102993.08416578113|\n|            2|          Low|          8|           348177.62|        43522.2025|\n|            2|       Medium|       2552| 3.214696203799996E8|125967.71958463933|\n|            3|         High|        610| 5.643221440000002E7| 92511.82688524593|\n|            3|          Low|          5|  101670.87999999999|         20334.176|\n|            3|       Medium|       1584|1.8716696869999987E8|118160.96508838376|\n|            4|         High|        631|5.4934257230000034E7| 87059.04473851036|\n|            4|          Low|          6|   97361.48000000001|16226.913333333336|\n|            4|       Medium|       1653|2.0493088686999997E8|123975.12817301873|\n+-------------+-------------+-----------+--------------------+------------------+\n\n\uD83D\uDCCA Claims by Day of Week:\n+-----------------+-----------+--------------------+------------------+\n|claim_day_of_week|claim_count|  total_claim_amount|  avg_claim_amount|\n+-----------------+-----------+--------------------+------------------+\n|                1|       1535|1.7875863998000005E8|116455.14005211729|\n|                2|       1498|1.8521057439000008E8|123638.56768357815|\n|                3|       1500| 1.767366235699999E8|117824.41571333326|\n|                4|       1543|1.8561449198999998E8|120294.55086843809|\n|                5|       1503| 1.787192104199999E8|118908.32363273446|\n|                6|       1520|      1.7013536621E8|111931.16198026316|\n|                7|       1544|1.7724590244000018E8|114796.56893782395|\n+-----------------+-----------+--------------------+------------------+\n\n\uD83D\uDCCA Claims Analysis by Policy Type and Risk:\n+-----------+-------------+-----------+--------------------+------------------+\n|policy_type|risk_category|claim_count|  total_claim_amount|  avg_claim_amount|\n+-----------+-------------+-----------+--------------------+------------------+\n|       Life|       Medium|       1602| 7.655343566300011E8| 477861.6458364551|\n|       Life|         High|        565|2.2062944218999985E8| 390494.5879469024|\n|       Home|       Medium|       2033|1.0238480051000005E8| 50361.43655189378|\n|       Auto|       Medium|       2163| 4.306496151999996E7|19909.829644012927|\n|     Health|       Medium|       1167|       4.125610363E7|35352.273890317054|\n|       Home|         High|        657|2.6895854339999996E7|40937.373424657526|\n|       Auto|         High|        973| 1.977169321999997E7| 20320.34246659812|\n|     Health|         High|        485| 1.799416181999999E7| 37101.36457731957|\n|   Business|       Medium|        353|   7969137.490000003| 22575.46031161474|\n|     Travel|       Medium|        343|   2968684.809999999| 8655.057755102038|\n|   Business|         High|        124|   2107384.430000001| 16995.03572580646|\n|     Travel|         High|        155|  1236820.4999999998| 7979.487096774192|\n|       Home|          Low|         12|           302217.05|25184.754166666666|\n|       Life|          Low|          1|           228205.93|         228205.93|\n|       Auto|          Low|          6|            39803.18| 6633.863333333334|\n|   Business|          Low|          1|            28608.23|          28608.23|\n|     Travel|          Low|          3|             8573.52|           2857.84|\n+-----------+-------------+-----------+--------------------+------------------+\n\n✅ Advanced claims pattern analysis completed\n"
     ]
    }
   ],
   "source": [
    "print(\"\uD83D\uDCC5 Analyzing advanced claims patterns...\")\n",
    "\n",
    "# BUSINESS CONTEXT: Seasonal patterns help predict claim volumes and resource planning\n",
    "# Day-of-week patterns may indicate fraudulent behavior or operational issues\n",
    "\n",
    "# TODO: Analyze comprehensive claims patterns\n",
    "# \n",
    "# Step 1: Add temporal components to claims data\n",
    "# TODO: Add claim_month column using month(claim_date)\n",
    "# TODO: Add claim_quarter column using quarter(claim_date)\n",
    "# TODO: Add claim_day_of_week column using dayofweek(claim_date)\n",
    "# \n",
    "# Step 2: Join with customer risk data\n",
    "# TODO: Join claims_df with clpv_df on customer_id\n",
    "# TODO: Select customer_id, risk_category, clpv_segment for analysis\n",
    "# \n",
    "# Step 3: Analyze seasonal claims by risk category\n",
    "# TODO: Group by claim_quarter and risk_category, calculate:\n",
    "#       - count(claim_id) as claim_count\n",
    "#       - sum(claim_amount) as total_claim_amount\n",
    "#       - avg(claim_amount) as avg_claim_amount\n",
    "# TODO: Order by claim_quarter and risk_category, display results\n",
    "# \n",
    "# Step 4: Analyze claims by day of week\n",
    "# TODO: Group by claim_day_of_week, calculate:\n",
    "#       - count(claim_id) as claim_count\n",
    "#       - sum(claim_amount) as total_claim_amount\n",
    "#       - avg(claim_amount) as avg_claim_amount\n",
    "# TODO: Order by claim_day_of_week and display results\n",
    "# \n",
    "# Step 5: Analyze policy type claims patterns\n",
    "# TODO: Join with policies_df on policy_id to get policy_type\n",
    "# TODO: Group by policy_type and risk_category, calculate:\n",
    "#       - count(claim_id) as claim_count\n",
    "#       - sum(claim_amount) as total_claim_amount\n",
    "#       - avg(claim_amount) as avg_claim_amount\n",
    "# TODO: Order by total_claim_amount descending and display results\n",
    "#\n",
    "# EXPECTED OUTPUT: Comprehensive claims pattern analysis showing seasonal and operational trends\n",
    "# Target: Identify peak claim periods, unusual day-of-week patterns, high-risk policy types\n",
    "\n",
    "# Claims pattern analysis with customer risk integration\n",
    "claims_patterns_df = claims_df.withColumn(\n",
    "    \"claim_month\", month(\"claim_date\")\n",
    ").withColumn(\n",
    "    \"claim_quarter\", quarter(\"claim_date\")\n",
    ").withColumn(\n",
    "    \"claim_day_of_week\", dayofweek(\"claim_date\")\n",
    ").join(\n",
    "    clpv_df.select(\"customer_id\", \"risk_category\", \"clpv_segment\"),\n",
    "    \"customer_id\"\n",
    ")\n",
    "\n",
    "# Seasonal claims by risk category\n",
    "seasonal_risk_claims = claims_patterns_df.groupBy(\"claim_quarter\", \"risk_category\").agg(\n",
    "    count(\"claim_id\").alias(\"claim_count\"),\n",
    "    sum(\"claim_amount\").alias(\"total_claim_amount\"),\n",
    "    avg(\"claim_amount\").alias(\"avg_claim_amount\")\n",
    ").orderBy(\"claim_quarter\", \"risk_category\")\n",
    "\n",
    "print(\"\uD83D\uDCCA Seasonal Claims by Risk Category:\")\n",
    "seasonal_risk_claims.show()\n",
    "\n",
    "# Claims by day of week (might indicate fraud patterns)\n",
    "dow_claims = claims_patterns_df.groupBy(\"claim_day_of_week\").agg(\n",
    "    count(\"claim_id\").alias(\"claim_count\"),\n",
    "    sum(\"claim_amount\").alias(\"total_claim_amount\"),\n",
    "    avg(\"claim_amount\").alias(\"avg_claim_amount\")\n",
    ").orderBy(\"claim_day_of_week\")\n",
    "\n",
    "print(\"\uD83D\uDCCA Claims by Day of Week:\")\n",
    "dow_claims.show()\n",
    "\n",
    "# Policy type claims analysis\n",
    "policy_claims_analysis = claims_patterns_df.join(\n",
    "    policies_df.select(\"policy_id\", \"policy_type\"),\n",
    "    \"policy_id\"\n",
    ").groupBy(\"policy_type\", \"risk_category\").agg(\n",
    "    count(\"claim_id\").alias(\"claim_count\"),\n",
    "    sum(\"claim_amount\").alias(\"total_claim_amount\"),\n",
    "    avg(\"claim_amount\").alias(\"avg_claim_amount\")\n",
    ").orderBy(\"total_claim_amount\", ascending=False)\n",
    "\n",
    "print(\"\uD83D\uDCCA Claims Analysis by Policy Type and Risk:\")\n",
    "policy_claims_analysis.show()\n",
    "\n",
    "print(\"✅ Advanced claims pattern analysis completed\")"
   ]
  },
  {
   "cell_type": "markdown",
   "metadata": {
    "application/vnd.databricks.v1+cell": {
     "cellMetadata": {
      "byteLimit": 2048000,
      "rowLimit": 10000
     },
     "inputWidgets": {},
     "nuid": "a25940a8-6df1-4e43-8fae-05f3a168de54",
     "showTitle": false,
     "tableResultSettingsMap": {},
     "title": ""
    }
   },
   "source": [
    "## 5. Save Advanced Analytics Results to Database Tables"
   ]
  },
  {
   "cell_type": "code",
   "execution_count": 0,
   "metadata": {
    "application/vnd.databricks.v1+cell": {
     "cellMetadata": {
      "byteLimit": 2048000,
      "rowLimit": 10000
     },
     "inputWidgets": {},
     "nuid": "28dea7ca-768a-44da-bb26-416641b2637b",
     "showTitle": false,
     "tableResultSettingsMap": {},
     "title": ""
    }
   },
   "outputs": [
    {
     "output_type": "stream",
     "name": "stdout",
     "output_type": "stream",
     "text": [
      "\uD83D\uDCBE Saving advanced analytics results to database tables...\n✅ Saved customer_clpv_analysis table: 15,000 records\n✅ Saved customer_renewal_analysis table: 75,000 records\n✅ Saved at_risk_customers table: 1,543 records\n✅ Saved pricing_optimization_recommendations table: 10 records\n✅ Saved fraud_detection_analysis table: 10,643 records\n✅ Saved seasonal_claims_patterns table: 12 records\n✅ Saved policy_claims_analysis table: 17 records\n\n\uD83C\uDFAF All advanced analytics tables saved successfully!\n"
     ]
    }
   ],
   "source": [
    "print(\"\uD83D\uDCBE Saving advanced analytics results to database tables...\")\n",
    "\n",
    "# BUSINESS CONTEXT: Persistent storage enables reliable pipeline execution and Power BI integration\n",
    "# All advanced analytics results must be saved for executive dashboard consumption\n",
    "\n",
    "# TODO: Save all advanced analytics results to database tables\n",
    "# \n",
    "# Step 1: Save CLPV Analysis Results\n",
    "# TODO: Select key columns from clpv_df for CLPV analysis:\n",
    "#       - customer_id, customer_tenure_years, annualized_premium, retention_probability,\n",
    "#       - adjusted_retention_probability, expected_lifetime_years, risk_premium_multiplier,\n",
    "#       - predicted_annual_premium, customer_lifetime_premium_value, clpv_segment,\n",
    "#       - satisfaction_adjustment, payment_reliability_adjustment, avg_satisfaction_score,\n",
    "#       - satisfaction_resolution_rate\n",
    "# TODO: Save as table \"insurance_analytics.customer_clpv_analysis\" using overwrite mode\n",
    "# TODO: Print success message with record count\n",
    "# \n",
    "# Step 2: Save Renewal Analysis Results\n",
    "# TODO: Select key columns from renewal_scored_df for renewal analysis:\n",
    "#       - customer_id, policy_id, policy_type, premium_amount, days_to_renewal,\n",
    "#       - renewal_probability_score, renewal_risk_category, base_renewal_probability,\n",
    "#       - tenure_adjustment, policy_count_adjustment, claims_adjustment, policy_age_years, policy_status\n",
    "# TODO: Save as table \"insurance_analytics.customer_renewal_analysis\" using overwrite mode\n",
    "# TODO: Print success message with record count\n",
    "# \n",
    "# Step 3: Save At-Risk Customers\n",
    "# TODO: Save at_risk_customers as table \"insurance_analytics.at_risk_customers\" using overwrite mode\n",
    "# TODO: Print success message with record count\n",
    "# \n",
    "# Step 4: Save Pricing Optimization Results\n",
    "# TODO: Select key columns from segment_pricing_strategy for pricing optimization:\n",
    "#       - clpv_segment, risk_category, customer_count, current_avg_premium,\n",
    "#       - recommended_premium, avg_clpv, avg_retention_prob, pricing_strategy\n",
    "# TODO: Save as table \"insurance_analytics.pricing_optimization_recommendations\" using overwrite mode\n",
    "# TODO: Print success message with record count\n",
    "# \n",
    "# Step 5: Save Fraud Detection Results\n",
    "# TODO: Select key columns from fraud_scored_df for fraud detection:\n",
    "#       - claim_id, customer_id, policy_id, claim_amount, claim_date,\n",
    "#       - fraud_risk_score, fraud_risk_category, fraud_indicator, days_to_settle, claim_amount_zscore\n",
    "# TODO: Save as table \"insurance_analytics.fraud_detection_analysis\" using overwrite mode\n",
    "# TODO: Print success message with record count\n",
    "# \n",
    "# Step 6: Save Claims Pattern Analysis\n",
    "# TODO: Save seasonal_risk_claims as table \"insurance_analytics.seasonal_claims_patterns\" using overwrite mode\n",
    "# TODO: Save policy_claims_analysis as table \"insurance_analytics.policy_claims_analysis\" using overwrite mode\n",
    "# TODO: Print success messages with record counts\n",
    "#\n",
    "# EXPECTED OUTPUT: All 7 analytics tables saved to database successfully\n",
    "# Target: Tables ready for Notebook 3 executive dashboard creation\n",
    "\n",
    "# Save CLPV Analysis Results\n",
    "clpv_analysis_table = clpv_df.select(\n",
    "    \"customer_id\",\n",
    "    \"customer_tenure_years\",\n",
    "    \"annualized_premium\",\n",
    "    \"retention_probability\",\n",
    "    \"adjusted_retention_probability\",\n",
    "    \"expected_lifetime_years\",\n",
    "    \"risk_premium_multiplier\",\n",
    "    \"predicted_annual_premium\",\n",
    "    \"customer_lifetime_premium_value\",\n",
    "    \"clpv_segment\",\n",
    "    \"satisfaction_adjustment\",\n",
    "    \"payment_reliability_adjustment\",\n",
    "    \"avg_satisfaction_score\",\n",
    "    \"satisfaction_resolution_rate\"\n",
    ")\n",
    "\n",
    "clpv_analysis_table.write.mode(\"overwrite\").saveAsTable(f\"{DATABASE_NAME}.customer_clpv_analysis\")\n",
    "print(f\"✅ Saved customer_clpv_analysis table: {clpv_analysis_table.count():,} records\")\n",
    "\n",
    "# Save Renewal Analysis Results\n",
    "renewal_analysis_table = renewal_scored_df.select(\n",
    "    \"customer_id\",\n",
    "    \"policy_id\",\n",
    "    \"policy_type\",\n",
    "    \"premium_amount\",\n",
    "    \"days_to_renewal\",\n",
    "    \"renewal_probability_score\",\n",
    "    \"renewal_risk_category\",\n",
    "    \"base_renewal_probability\",\n",
    "    \"tenure_adjustment\",\n",
    "    \"policy_count_adjustment\",\n",
    "    \"claims_adjustment\",\n",
    "    \"policy_age_years\",\n",
    "    \"policy_status\"\n",
    ")\n",
    "\n",
    "renewal_analysis_table.write.mode(\"overwrite\").saveAsTable(f\"{DATABASE_NAME}.customer_renewal_analysis\")\n",
    "print(f\"✅ Saved customer_renewal_analysis table: {renewal_analysis_table.count():,} records\")\n",
    "\n",
    "# Save At-Risk Customers\n",
    "at_risk_customers.write.mode(\"overwrite\").saveAsTable(f\"{DATABASE_NAME}.at_risk_customers\")\n",
    "print(f\"✅ Saved at_risk_customers table: {at_risk_customers.count():,} records\")\n",
    "\n",
    "# Save Pricing Optimization Results\n",
    "pricing_optimization_table = segment_pricing_strategy.select(\n",
    "    \"clpv_segment\",\n",
    "    \"risk_category\",\n",
    "    \"customer_count\",\n",
    "    \"current_avg_premium\",\n",
    "    \"recommended_premium\",\n",
    "    \"avg_clpv\",\n",
    "    \"avg_retention_prob\",\n",
    "    \"pricing_strategy\"\n",
    ")\n",
    "\n",
    "pricing_optimization_table.write.mode(\"overwrite\").saveAsTable(f\"{DATABASE_NAME}.pricing_optimization_recommendations\")\n",
    "print(f\"✅ Saved pricing_optimization_recommendations table: {pricing_optimization_table.count():,} records\")\n",
    "\n",
    "# Save Fraud Detection Results\n",
    "fraud_detection_table = fraud_scored_df.select(\n",
    "    \"claim_id\",\n",
    "    \"customer_id\",\n",
    "    \"policy_id\",\n",
    "    \"claim_amount\",\n",
    "    \"claim_date\",\n",
    "    \"fraud_risk_score\",\n",
    "    \"fraud_risk_category\",\n",
    "    \"fraud_indicator\",\n",
    "    \"days_to_settle\",\n",
    "    \"claim_amount_zscore\"\n",
    ")\n",
    "\n",
    "fraud_detection_table.write.mode(\"overwrite\").saveAsTable(f\"{DATABASE_NAME}.fraud_detection_analysis\")\n",
    "print(f\"✅ Saved fraud_detection_analysis table: {fraud_detection_table.count():,} records\")\n",
    "\n",
    "# Save Claims Pattern Analysis\n",
    "claims_patterns_table = seasonal_risk_claims.select(\n",
    "    \"claim_quarter\",\n",
    "    \"risk_category\",\n",
    "    \"claim_count\",\n",
    "    \"total_claim_amount\",\n",
    "    \"avg_claim_amount\"\n",
    ")\n",
    "\n",
    "claims_patterns_table.write.mode(\"overwrite\").saveAsTable(f\"{DATABASE_NAME}.seasonal_claims_patterns\")\n",
    "print(f\"✅ Saved seasonal_claims_patterns table: {claims_patterns_table.count():,} records\")\n",
    "\n",
    "# Save Policy Claims Analysis\n",
    "policy_claims_analysis.write.mode(\"overwrite\").saveAsTable(f\"{DATABASE_NAME}.policy_claims_analysis\")\n",
    "print(f\"✅ Saved policy_claims_analysis table: {policy_claims_analysis.count():,} records\")\n",
    "\n",
    "print(\"\\n\uD83C\uDFAF All advanced analytics tables saved successfully!\")"
   ]
  },
  {
   "cell_type": "markdown",
   "metadata": {
    "application/vnd.databricks.v1+cell": {
     "cellMetadata": {
      "byteLimit": 2048000,
      "rowLimit": 10000
     },
     "inputWidgets": {},
     "nuid": "a0de9014-f2c1-4612-9b0c-a61b06a95fbe",
     "showTitle": false,
     "tableResultSettingsMap": {},
     "title": ""
    }
   },
   "source": [
    "## 6. Advanced Analytics Business Insights Summary"
   ]
  },
  {
   "cell_type": "code",
   "execution_count": 0,
   "metadata": {
    "application/vnd.databricks.v1+cell": {
     "cellMetadata": {
      "byteLimit": 2048000,
      "rowLimit": 10000
     },
     "inputWidgets": {},
     "nuid": "e41c79e8-3bec-47a7-86df-dfc13b6d1dbb",
     "showTitle": false,
     "tableResultSettingsMap": {},
     "title": ""
    }
   },
   "outputs": [
    {
     "output_type": "stream",
     "name": "stdout",
     "output_type": "stream",
     "text": [
      "\uD83C\uDFAF ADVANCED ANALYTICS BUSINESS INSIGHTS\n======================================================================\n\uD83D\uDCB0 CUSTOMER LIFETIME PREMIUM VALUE (CLPV) INSIGHTS:\n   Total Portfolio CLPV: $1,109,401,554.06\n   Average CLPV per Customer: $73,960.10\n   Premium: 1 customers (0.0%) - Avg CLPV: $9,651,252.51\n   Medium Value: 3,328 customers (22.2%) - Avg CLPV: $40,867.61\n   High Value: 2,917 customers (19.4%) - Avg CLPV: $298,504.18\n   Low Value: 8,754 customers (58.4%) - Avg CLPV: $10,624.42\n\n\uD83D\uDD04 RENEWAL PREDICTION INSIGHTS:\n   Customers at Risk of Non-Renewal: 1,543 (10.3%)\n   Total Premium at Risk: $9,847,475.72\n\n\uD83D\uDCB2 PRICING OPTIMIZATION INSIGHTS:\n   Potential Annual Revenue Impact: $-785,798.39\n\n\uD83D\uDD0D FRAUD DETECTION INSIGHTS:\n   High-Risk Claims Requiring Investigation: 686\n   Fraud Investigation Rate: 6.4% of total claims\n\n\uD83D\uDCCA BUSINESS IMPACT SUMMARY:\n   Customer Portfolio Value: $1,109,401,554.06\n   Revenue Optimization Potential: $-785,798.39\n   Premium at Risk from Churn: $9,847,475.72\n   Fraud Investigation Priority: 686 claims\n\n\uD83D\uDCCA DATABASE TABLES CREATED FOR EXECUTIVE DASHBOARD:\n   ✅ customer_clpv_analysis - Customer lifetime value calculations\n   ✅ customer_renewal_analysis - Renewal probability predictions\n   ✅ at_risk_customers - Priority retention targets\n   ✅ pricing_optimization_recommendations - Revenue optimization strategies\n   ✅ fraud_detection_analysis - Claims requiring investigation\n   ✅ seasonal_claims_patterns - Seasonal trend analysis\n   ✅ policy_claims_analysis - Policy type performance\n\n\uD83D\uDE80 READY FOR NOTEBOOK 3: EXECUTIVE DASHBOARD CREATION\n======================================================================\n"
     ]
    }
   ],
   "source": [
    "print(\"\uD83C\uDFAF ADVANCED ANALYTICS BUSINESS INSIGHTS\")\n",
    "print(\"=\" * 70)\n",
    "\n",
    "# BUSINESS CONTEXT: Executive summary demonstrates business value of analytics investment\n",
    "# Key metrics and insights enable data-driven strategic decisions\n",
    "\n",
    "# TODO: Generate comprehensive business insights summary\n",
    "# \n",
    "# Step 1: Calculate portfolio-level CLPV metrics\n",
    "# TODO: Calculate total_customers using clpv_df.count()\n",
    "# TODO: Calculate total_clpv using sum(customer_lifetime_premium_value)\n",
    "# TODO: Calculate avg_clpv as total_clpv / total_customers\n",
    "# TODO: Print formatted CLPV insights\n",
    "# \n",
    "# Step 2: Analyze CLPV by customer segments\n",
    "# TODO: Group clpv_df by clpv_segment and calculate:\n",
    "#       - count(*) as count\n",
    "#       - avg(customer_lifetime_premium_value) as avg_clpv\n",
    "# TODO: Use collect() to iterate through results and print segment analysis\n",
    "# \n",
    "# Step 3: Calculate renewal and retention insights\n",
    "# TODO: Calculate at_risk_count using at_risk_customers.count()\n",
    "# TODO: Calculate at_risk_pct as (at_risk_count / total_customers) * 100\n",
    "# TODO: Calculate total_premium_at_risk using sum(premium_amount) from at_risk_customers\n",
    "# TODO: Print formatted renewal insights\n",
    "# \n",
    "# Step 4: Calculate pricing optimization insights\n",
    "# TODO: Use total_revenue_impact calculated earlier\n",
    "# TODO: Print formatted pricing insights\n",
    "# \n",
    "# Step 5: Calculate fraud detection insights\n",
    "# TODO: Calculate high_risk_fraud_count using filter on fraud_scored_df\n",
    "# TODO: Calculate total_claims_count using fraud_scored_df.count()\n",
    "# TODO: Calculate fraud_rate as (high_risk_fraud_count / total_claims_count) * 100\n",
    "# TODO: Print formatted fraud insights\n",
    "# \n",
    "# Step 6: Print business impact summary\n",
    "# TODO: Calculate total business impact and print comprehensive summary\n",
    "# TODO: List all database tables created for executive dashboard\n",
    "# TODO: Print next steps for Notebook 3\n",
    "#\n",
    "# EXPECTED OUTPUT: Comprehensive business insights with quantified impact\n",
    "# Target: Clear ROI demonstration and strategic recommendations\n",
    "\n",
    "# CLPV Insights\n",
    "total_customers = clpv_df.count()\n",
    "total_clpv = clpv_df.agg(sum(\"customer_lifetime_premium_value\")).collect()[0][0]\n",
    "avg_clpv = total_clpv / total_customers\n",
    "\n",
    "print(\"\uD83D\uDCB0 CUSTOMER LIFETIME PREMIUM VALUE (CLPV) INSIGHTS:\")\n",
    "print(f\"   Total Portfolio CLPV: ${total_clpv:,.2f}\")\n",
    "print(f\"   Average CLPV per Customer: ${avg_clpv:,.2f}\")\n",
    "\n",
    "# CLPV by segment\n",
    "clpv_segments = clpv_df.groupBy(\"clpv_segment\").agg(\n",
    "    count(\"*\").alias(\"count\"),\n",
    "    avg(\"customer_lifetime_premium_value\").alias(\"avg_clpv\")\n",
    ").collect()\n",
    "\n",
    "for row in clpv_segments:\n",
    "    pct = (row['count'] / total_customers) * 100\n",
    "    print(f\"   {row['clpv_segment']}: {row['count']:,} customers ({pct:.1f}%) - Avg CLPV: ${row['avg_clpv']:,.2f}\")\n",
    "\n",
    "# Renewal Insights\n",
    "at_risk_count = at_risk_customers.count()\n",
    "at_risk_pct = (at_risk_count / total_customers) * 100\n",
    "print(f\"\\n\uD83D\uDD04 RENEWAL PREDICTION INSIGHTS:\")\n",
    "print(f\"   Customers at Risk of Non-Renewal: {at_risk_count:,} ({at_risk_pct:.1f}%)\")\n",
    "print(f\"   Total Premium at Risk: ${total_premium_at_risk:,.2f}\")\n",
    "\n",
    "# Pricing Insights\n",
    "print(f\"\\n\uD83D\uDCB2 PRICING OPTIMIZATION INSIGHTS:\")\n",
    "print(f\"   Potential Annual Revenue Impact: ${total_revenue_impact:,.2f}\")\n",
    "\n",
    "# Fraud Insights\n",
    "high_risk_fraud_count = fraud_scored_df.filter(col(\"fraud_risk_category\") == \"High Risk\").count()\n",
    "total_claims_count = fraud_scored_df.count()\n",
    "fraud_rate = (high_risk_fraud_count / total_claims_count) * 100\n",
    "\n",
    "print(f\"\\n\uD83D\uDD0D FRAUD DETECTION INSIGHTS:\")\n",
    "print(f\"   High-Risk Claims Requiring Investigation: {high_risk_fraud_count:,}\")\n",
    "print(f\"   Fraud Investigation Rate: {fraud_rate:.1f}% of total claims\")\n",
    "\n",
    "# Business Impact Summary\n",
    "print(f\"\\n\uD83D\uDCCA BUSINESS IMPACT SUMMARY:\")\n",
    "print(f\"   Customer Portfolio Value: ${total_clpv:,.2f}\")\n",
    "print(f\"   Revenue Optimization Potential: ${total_revenue_impact:,.2f}\")\n",
    "print(f\"   Premium at Risk from Churn: ${total_premium_at_risk:,.2f}\")\n",
    "print(f\"   Fraud Investigation Priority: {high_risk_fraud_count:,} claims\")\n",
    "\n",
    "print(\"\\n\uD83D\uDCCA DATABASE TABLES CREATED FOR EXECUTIVE DASHBOARD:\")\n",
    "print(\"   ✅ customer_clpv_analysis - Customer lifetime value calculations\")\n",
    "print(\"   ✅ customer_renewal_analysis - Renewal probability predictions\")\n",
    "print(\"   ✅ at_risk_customers - Priority retention targets\")\n",
    "print(\"   ✅ pricing_optimization_recommendations - Revenue optimization strategies\")\n",
    "print(\"   ✅ fraud_detection_analysis - Claims requiring investigation\")\n",
    "print(\"   ✅ seasonal_claims_patterns - Seasonal trend analysis\")\n",
    "print(\"   ✅ policy_claims_analysis - Policy type performance\")\n",
    "\n",
    "print(\"\\n\uD83D\uDE80 READY FOR NOTEBOOK 3: EXECUTIVE DASHBOARD CREATION\")\n",
    "print(\"=\" * 70)"
   ]
  },
  {
   "cell_type": "markdown",
   "metadata": {
    "application/vnd.databricks.v1+cell": {
     "cellMetadata": {
      "byteLimit": 2048000,
      "rowLimit": 10000
     },
     "inputWidgets": {},
     "nuid": "c819dc23-96b9-4a83-8ec7-b28857d536a3",
     "showTitle": false,
     "tableResultSettingsMap": {},
     "title": ""
    }
   },
   "source": [
    "## Summary and Next Steps\n",
    "\n",
    "### ✅ Advanced Analytics Complete:\n",
    "1. **Customer Lifetime Premium Value (CLPV)** - Risk-adjusted calculations with retention probabilities\n",
    "2. **Renewal Prediction** - Probability scoring with at-risk customer identification\n",
    "3. **Pricing Optimization** - Risk-based and segment-specific pricing strategies\n",
    "4. **Fraud Detection** - Advanced pattern analysis with investigation priorities\n",
    "5. **Claims Analytics** - Seasonal patterns and policy type performance\n",
    "6. **Database Integration** - All results persisted for executive dashboard consumption\n",
    "\n",
    "### \uD83C\uDFAF Key Business Outputs:\n",
    "- **Portfolio CLPV**: Comprehensive customer value assessment\n",
    "- **Retention Strategy**: At-risk customers identified with priority scoring\n",
    "- **Revenue Optimization**: Pricing recommendations with quantified impact\n",
    "- **Risk Management**: Fraud detection with investigation priorities\n",
    "- **Performance Analytics**: Seasonal trends and policy type insights\n",
    "\n",
    "### \uD83D\uDDC4️ Database Tables for Executive Dashboard:\n",
    "- `customer_clpv_analysis` - Customer lifetime value calculations\n",
    "- `customer_renewal_analysis` - Renewal probability predictions  \n",
    "- `at_risk_customers` - Priority retention targets\n",
    "- `pricing_optimization_recommendations` - Revenue optimization strategies\n",
    "- `fraud_detection_analysis` - Claims requiring investigation\n",
    "- `seasonal_claims_patterns` - Seasonal trend analysis\n",
    "- `policy_claims_analysis` - Policy type performance metrics\n",
    "\n",
    "### \uD83D\uDE80 Next Steps:\n",
    "- **Notebook 3**: Create executive dashboard using all accumulated analytics\n",
    "- **Notebook 3**: Generate strategic business recommendations\n",
    "- **Notebook 3**: Prepare executive KPIs and action items\n",
    "- **Power BI**: Connect to all analytics tables for comprehensive visualization\n",
    "\n",
    "### \uD83D\uDCA1 Business Value:\n",
    "This advanced analytics provides SecureLife Insurance with sophisticated customer intelligence, enabling data-driven decisions for customer retention, revenue optimization, and risk management. The predictive models and comprehensive segmentation support strategic business planning and operational excellence."
   ]
  }
 ],
 "metadata": {
  "application/vnd.databricks.v1+notebook": {
   "computePreferences": null,
   "dashboards": [],
   "environmentMetadata": null,
   "inputWidgetPreferences": null,
   "language": "python",
   "notebookMetadata": {
    "pythonIndentUnit": 4
   },
   "notebookName": "nbk_2_clpv_retention_student",
   "widgets": {}
  },
  "language_info": {
   "name": "python"
  }
 },
 "nbformat": 4,
 "nbformat_minor": 0
}