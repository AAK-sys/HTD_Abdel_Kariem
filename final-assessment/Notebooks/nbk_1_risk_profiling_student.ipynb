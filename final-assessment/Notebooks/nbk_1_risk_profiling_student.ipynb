{
 "cells": [
  {
   "cell_type": "markdown",
   "metadata": {
    "application/vnd.databricks.v1+cell": {
     "cellMetadata": {
      "byteLimit": 2048000,
      "rowLimit": 10000
     },
     "inputWidgets": {},
     "nuid": "174b8e8d-4e46-4fd2-b593-65d45a6fe74a",
     "showTitle": false,
     "tableResultSettingsMap": {},
     "title": ""
    }
   },
   "source": [
    "# Insurance Risk Profiling - Customer Analytics\n",
    "\n",
    "**Objective**: Create customer risk profiles and segmentation for SecureLife Insurance\n",
    "\n",
    "**Business Goals:**\n",
    "- Assess customer risk levels for pricing optimization\n",
    "- Segment customers for targeted marketing and retention\n",
    "- Identify cross-selling opportunities\n",
    "- Analyze temporal patterns in claims and payments\n",
    "\n",
    "**Data Flow**: Loads from Notebook 0 foundation tables → Creates risk analysis tables for Notebook 2"
   ]
  },
  {
   "cell_type": "markdown",
   "metadata": {
    "application/vnd.databricks.v1+cell": {
     "cellMetadata": {
      "byteLimit": 2048000,
      "rowLimit": 10000
     },
     "inputWidgets": {},
     "nuid": "f8443063-fc22-4649-bf16-c687b3295300",
     "showTitle": false,
     "tableResultSettingsMap": {},
     "title": ""
    }
   },
   "source": [
    "## Setup and Database Configuration"
   ]
  },
  {
   "cell_type": "code",
   "execution_count": 0,
   "metadata": {
    "application/vnd.databricks.v1+cell": {
     "cellMetadata": {
      "byteLimit": 2048000,
      "rowLimit": 10000
     },
     "inputWidgets": {},
     "nuid": "80bbed6a-5b67-458a-8d6c-4bf636133d93",
     "showTitle": false,
     "tableResultSettingsMap": {},
     "title": ""
    }
   },
   "outputs": [
    {
     "output_type": "stream",
     "name": "stdout",
     "output_type": "stream",
     "text": [
      "✅ Spark session initialized\n\uD83D\uDCCA Using database: insurance_analytics\n"
     ]
    }
   ],
   "source": [
    "import pandas as pd\n",
    "import numpy as np\n",
    "from pyspark.sql import SparkSession\n",
    "from pyspark.sql.functions import *\n",
    "from pyspark.sql.types import *\n",
    "from pyspark.sql.window import Window\n",
    "import warnings\n",
    "warnings.filterwarnings('ignore')\n",
    "\n",
    "# Initialize Spark session\n",
    "spark = SparkSession.builder.appName(\"InsuranceRiskProfiling\").getOrCreate()\n",
    "print(\"✅ Spark session initialized\")\n",
    "\n",
    "# Database configuration\n",
    "DATABASE_NAME = \"insurance_analytics\"\n",
    "print(f\"\uD83D\uDCCA Using database: {DATABASE_NAME}\")"
   ]
  },
  {
   "cell_type": "markdown",
   "metadata": {
    "application/vnd.databricks.v1+cell": {
     "cellMetadata": {
      "byteLimit": 2048000,
      "rowLimit": 10000
     },
     "inputWidgets": {},
     "nuid": "436609b1-c24c-43b3-a67d-64c7c35eaabe",
     "showTitle": false,
     "tableResultSettingsMap": {},
     "title": ""
    }
   },
   "source": [
    "## Load Data from Foundation Tables (Notebook 0 Outputs)"
   ]
  },
  {
   "cell_type": "code",
   "execution_count": 0,
   "metadata": {
    "application/vnd.databricks.v1+cell": {
     "cellMetadata": {
      "byteLimit": 2048000,
      "rowLimit": 10000
     },
     "inputWidgets": {},
     "nuid": "8316ccb8-9479-43c7-916d-a5f7d33ef465",
     "showTitle": false,
     "tableResultSettingsMap": {},
     "title": ""
    }
   },
   "outputs": [
    {
     "output_type": "stream",
     "name": "stdout",
     "output_type": "stream",
     "text": [
      "\uD83D\uDCCB Loading foundation tables from Notebook 0...\n✅ Foundation tables loaded successfully\nCustomers: 15,000\nPolicies: 75,000\nClaims: 10,643\nPayments: 178,013\n"
     ]
    }
   ],
   "source": [
    "# BUSINESS CONTEXT: Data quality and accessibility are fundamental to analytics success\n",
    "# Using persistent tables ensures reliability and consistency across the pipeline\n",
    "\n",
    "# TODO: Load foundation tables created by Notebook 0\n",
    "# \n",
    "# Step 1: Load core business entity tables\n",
    "# TODO: Load customers_df from \"insurance_analytics.customers\" table using spark.table()\n",
    "# TODO: Load policies_df from \"insurance_analytics.policies\" table using spark.table()\n",
    "# TODO: Load claims_df from \"insurance_analytics.claims\" table using spark.table()\n",
    "# TODO: Load payments_df from \"insurance_analytics.payments\" table using spark.table()\n",
    "# TODO: Load interactions_df from \"insurance_analytics.interactions\" table using spark.table()\n",
    "# \n",
    "# Step 2: Validate data loading\n",
    "# TODO: Print \"✅ Foundation tables loaded successfully\"\n",
    "# TODO: Print row counts for each dataset using .count() method\n",
    "# TODO: Format counts with comma separators (e.g., f\"{customers_df.count():,}\")\n",
    "# \n",
    "# Step 3: Handle potential errors\n",
    "# TODO: Wrap loading code in try/except block\n",
    "# TODO: Print error message if loading fails: \"❌ Error loading foundation tables\"\n",
    "# TODO: Print reminder: \"\uD83D\uDCA1 Ensure Notebook 0 has been executed successfully\"\n",
    "# TODO: Use \"raise\" to stop execution if tables cannot be loaded\n",
    "#\n",
    "# EXPECTED OUTPUT: All 5 datasets loaded with row counts displayed\n",
    "# Target: 15K customers, 75K policies, 12K claims, 200K payments, 30K interactions\n",
    "\n",
    "print(\"\uD83D\uDCCB Loading foundation tables from Notebook 0...\")\n",
    "\n",
    "# TODO: Implement data loading logic here\n",
    "try:\n",
    "    customers_df = spark.table(\"insurance_analytics.customers\")\n",
    "    policies_df = spark.table(\"insurance_analytics.policies\")\n",
    "    claims_df = spark.table(\"insurance_analytics.claims\")\n",
    "    payments_df = spark.table(\"insurance_analytics.payments\")\n",
    "    interactions_df = spark.table(\"insurance_analytics.interactions\")\n",
    "    print(\"✅ Foundation tables loaded successfully\")\n",
    "    print(f\"Customers: {customers_df.count():,}\")\n",
    "    print(f\"Policies: {policies_df.count():,}\")\n",
    "    print(f\"Claims: {claims_df.count():,}\")\n",
    "    print(f\"Payments: {payments_df.count():,}\")\n",
    "except Exception as e:\n",
    "    print(f\"❌ Error loading foundation tables: {e}\")\n",
    "    print(\"\uD83D\uDCA1 Ensure Notebook 0 has been executed successfully\")\n",
    "    raise"
   ]
  },
  {
   "cell_type": "markdown",
   "metadata": {
    "application/vnd.databricks.v1+cell": {
     "cellMetadata": {
      "byteLimit": 2048000,
      "rowLimit": 10000
     },
     "inputWidgets": {},
     "nuid": "498c78b9-6648-4ef6-932a-79500f0c2ee0",
     "showTitle": false,
     "tableResultSettingsMap": {},
     "title": ""
    }
   },
   "source": [
    "## 1. Customer Risk Assessment"
   ]
  },
  {
   "cell_type": "markdown",
   "metadata": {
    "application/vnd.databricks.v1+cell": {
     "cellMetadata": {
      "byteLimit": 2048000,
      "rowLimit": 10000
     },
     "inputWidgets": {},
     "nuid": "89c13865-54ad-47c9-8709-b44036d38d25",
     "showTitle": false,
     "tableResultSettingsMap": {},
     "title": ""
    }
   },
   "source": [
    "### 1.1 Claims Frequency and Severity Analysis"
   ]
  },
  {
   "cell_type": "code",
   "execution_count": 0,
   "metadata": {
    "application/vnd.databricks.v1+cell": {
     "cellMetadata": {
      "byteLimit": 2048000,
      "rowLimit": 10000
     },
     "inputWidgets": {},
     "nuid": "34b2fa73-ba90-478e-9bd2-abb9668d99b5",
     "showTitle": false,
     "tableResultSettingsMap": {},
     "title": ""
    }
   },
   "outputs": [
    {
     "output_type": "stream",
     "name": "stdout",
     "output_type": "stream",
     "text": [
      "\uD83D\uDD0D Analyzing claims patterns...\n✅ Claims analysis completed\n\uD83D\uDCCA Claims Analysis Summary:\n+-------+-----------+------------------+------------------+------------------+------------------+--------------------+\n|summary|customer_id|      total_claims|total_claim_amount|  avg_claim_amount|  max_claim_amount|policies_with_claims|\n+-------+-----------+------------------+------------------+------------------+------------------+--------------------+\n|  count|       7016|              7016|              7016|              7016|              7016|                7016|\n|   mean|       NULL|1.5169612314709235|178509.23731470894|115572.40478289289|147826.10912770836|  1.3691562143671607|\n| stddev|       NULL|0.8273635973570767|314826.75338704314|196891.82583189555| 246426.0881660179|  0.6541588435213932|\n|    min| CUST000004|                 1|            528.25|            528.25|            528.25|                   1|\n|    max| CUST014998|                10|3970436.4699999997|        2418879.07|         2902135.6|                   6|\n+-------+-----------+------------------+------------------+------------------+------------------+--------------------+\n\n✅ Customer risk base created: 15,000 customers\n"
     ]
    }
   ],
   "source": [
    "# BUSINESS CONTEXT: Claims history is the strongest predictor of future risk\n",
    "# Insurance companies use claims frequency and severity to set premium rates\n",
    "\n",
    "# TODO: Analyze claims patterns per customer\n",
    "# \n",
    "# Step 1: Calculate claims metrics per customer\n",
    "# TODO: Group claims_df by \"customer_id\" \n",
    "# TODO: Calculate total_claims using count(\"claim_id\")\n",
    "# TODO: Calculate total_claim_amount using sum(\"claim_amount\")\n",
    "# TODO: Calculate avg_claim_amount using avg(\"claim_amount\")\n",
    "# TODO: Calculate max_claim_amount using max(\"claim_amount\")\n",
    "# TODO: Calculate policies_with_claims using countDistinct(\"policy_id\")\n",
    "# TODO: Store result as claims_per_customer\n",
    "# \n",
    "# Step 2: Display claims analysis summary\n",
    "# TODO: Print \"\uD83D\uDCCA Claims Analysis Summary:\"\n",
    "# TODO: Show descriptive statistics using claims_per_customer.describe().show()\n",
    "# \n",
    "# Step 3: Join claims data with customer profiles\n",
    "# TODO: Join customers_df with claims_per_customer on \"customer_id\" using left join\n",
    "# TODO: Store result as customer_risk_df\n",
    "# \n",
    "# Step 4: Handle customers with no claims\n",
    "# TODO: Use fillna() to set null values to 0 for: total_claims, total_claim_amount, avg_claim_amount, max_claim_amount, policies_with_claims\n",
    "# TODO: Print row count: f\"✅ Customer risk base created: {customer_risk_df.count():,} customers\"\n",
    "#\n",
    "# EXPECTED OUTPUT: All customers with claims metrics, nulls filled with 0\n",
    "# Target: 15K customers with claims data integrated\n",
    "\n",
    "print(\"\uD83D\uDD0D Analyzing claims patterns...\")\n",
    "\n",
    "# TODO: Implement claims analysis logic here\n",
    "claims_per_customer = (\n",
    "    claims_df\n",
    "    .groupBy(\"customer_id\")\n",
    "    .agg(\n",
    "        count(\"claim_id\").alias(\"total_claims\"),\n",
    "        sum(\"claim_amount\").alias(\"total_claim_amount\"),\n",
    "        avg(\"claim_amount\").alias(\"avg_claim_amount\"),\n",
    "        max(\"claim_amount\").alias(\"max_claim_amount\"),\n",
    "        countDistinct(\"policy_id\").alias(\"policies_with_claims\")\n",
    "    )\n",
    ")\n",
    "print(\"✅ Claims analysis completed\")\n",
    "print(\"\uD83D\uDCCA Claims Analysis Summary:\")\n",
    "claims_per_customer.describe().show()\n",
    "customer_risk_df = customers_df.join(claims_per_customer, on=\"customer_id\", how=\"left\")\n",
    "customer_risk_df = customer_risk_df.fillna(0, subset=[\"total_claims\", \"total_claim_amount\", \"avg_claim_amount\", \"max_claim_amount\", \"policies_with_claims\"])\n",
    "print(f\"✅ Customer risk base created: {customer_risk_df.count():,} customers\")"
   ]
  },
  {
   "cell_type": "markdown",
   "metadata": {
    "application/vnd.databricks.v1+cell": {
     "cellMetadata": {
      "byteLimit": 2048000,
      "rowLimit": 10000
     },
     "inputWidgets": {},
     "nuid": "94b70293-8071-4b97-b723-5530df2da82b",
     "showTitle": false,
     "tableResultSettingsMap": {},
     "title": ""
    }
   },
   "source": [
    "### 1.2 Policy Concentration Risk"
   ]
  },
  {
   "cell_type": "code",
   "execution_count": 0,
   "metadata": {
    "application/vnd.databricks.v1+cell": {
     "cellMetadata": {
      "byteLimit": 2048000,
      "rowLimit": 10000
     },
     "inputWidgets": {},
     "nuid": "5295cdfc-0371-4b12-b620-e7eea8212e4c",
     "showTitle": false,
     "tableResultSettingsMap": {},
     "title": ""
    }
   },
   "outputs": [
    {
     "output_type": "stream",
     "name": "stdout",
     "output_type": "stream",
     "text": [
      "\uD83D\uDD0D Analyzing policy concentration...\n✅ Policy concentration analysis completed\n\uD83D\uDCCA Policy Concentration Analysis:\n+-------+-----------+------------------+------------------+-----------------+-----------------+------------------+\n|summary|customer_id|    total_policies|     total_premium|      avg_premium|   total_coverage|policy_types_count|\n+-------+-----------+------------------+------------------+-----------------+-----------------+------------------+\n|  count|      14905|             14905|             14905|            14905|            14905|             14905|\n|   mean|       NULL| 5.031868500503187|28289.118016773045|5658.338106322954|1201268.250318685|3.0864139550486414|\n| stddev|       NULL|2.2066158280630606|27800.390976173603|5810.436355811093|874976.2352750759|1.0537328155711343|\n|    min| CUST000001|                 1|            264.42|           264.42|            10000|                 1|\n|    max| CUST015000|                16|269471.41000000003|         104000.0|         19099924|                 6|\n+-------+-----------+------------------+------------------+-----------------+-----------------+------------------+\n\n✅ Policy concentration metrics integrated\n"
     ]
    }
   ],
   "source": [
    "# BUSINESS CONTEXT: Customers with multiple policies represent higher value but also concentration risk\n",
    "# Multi-policy customers typically have lower churn rates but higher total exposure\n",
    "\n",
    "# TODO: Calculate policy concentration metrics per customer\n",
    "# \n",
    "# Step 1: Aggregate policy data per customer\n",
    "# TODO: Group policies_df by \"customer_id\"\n",
    "# TODO: Calculate total_policies using count(\"policy_id\")\n",
    "# TODO: Calculate total_premium using sum(\"premium_amount\")\n",
    "# TODO: Calculate avg_premium using avg(\"premium_amount\")\n",
    "# TODO: Calculate total_coverage using sum(\"coverage_amount\")\n",
    "# TODO: Calculate policy_types_count using countDistinct(\"policy_type\")\n",
    "# TODO: Collect policy_types using collect_list(\"policy_type\")\n",
    "# TODO: Store result as policy_metrics\n",
    "# \n",
    "# Step 2: Display policy concentration analysis\n",
    "# TODO: Print \"\uD83D\uDCCA Policy Concentration Analysis:\"\n",
    "# TODO: Show descriptive statistics using policy_metrics.describe().show()\n",
    "# \n",
    "# Step 3: Join policy metrics with customer risk data\n",
    "# TODO: Join customer_risk_df with policy_metrics on \"customer_id\" using left join\n",
    "# TODO: Update customer_risk_df with joined result\n",
    "# \n",
    "# Step 4: Handle customers without policies (edge case protection)\n",
    "# TODO: Use fillna() to set null values to 0 for: total_policies, total_premium, avg_premium, total_coverage, policy_types_count\n",
    "# TODO: Print \"✅ Policy concentration metrics integrated\"\n",
    "#\n",
    "# EXPECTED OUTPUT: All customers with policy concentration metrics\n",
    "# Target: Policy counts ranging from 1-5, premium amounts $500-$15,000\n",
    "\n",
    "print(\"\uD83D\uDD0D Analyzing policy concentration...\")\n",
    "\n",
    "# TODO: Implement policy concentration analysis logic here\n",
    "policy_metrics = (\n",
    "    policies_df\n",
    "    .groupBy(\"customer_id\")\n",
    "    .agg(\n",
    "        count(\"policy_id\").alias(\"total_policies\"),\n",
    "        sum(\"premium_amount\").alias(\"total_premium\"),\n",
    "        avg(\"premium_amount\").alias(\"avg_premium\"),\n",
    "        sum(\"coverage_amount\").alias(\"total_coverage\"),\n",
    "        countDistinct(\"policy_type\").alias(\"policy_types_count\"),\n",
    "        collect_list(\"policy_type\").alias(\"policy_types\")\n",
    "    )\n",
    ")\n",
    "print(\"✅ Policy concentration analysis completed\")\n",
    "print(\"\uD83D\uDCCA Policy Concentration Analysis:\")\n",
    "policy_metrics.describe().show()\n",
    "customer_risk_df = customer_risk_df.join(policy_metrics, on=\"customer_id\", how=\"left\")\n",
    "customer_risk_df = customer_risk_df.fillna(0, subset=[\"total_policies\", \"total_premium\", \"avg_premium\", \"total_coverage\", \"policy_types_count\"])\n",
    "print(\"✅ Policy concentration metrics integrated\")"
   ]
  },
  {
   "cell_type": "markdown",
   "metadata": {
    "application/vnd.databricks.v1+cell": {
     "cellMetadata": {
      "byteLimit": 2048000,
      "rowLimit": 10000
     },
     "inputWidgets": {},
     "nuid": "6f709f37-8d12-417d-9e64-87791c9faa7e",
     "showTitle": false,
     "tableResultSettingsMap": {},
     "title": ""
    }
   },
   "source": [
    "### 1.3 Payment Behavior Integration"
   ]
  },
  {
   "cell_type": "code",
   "execution_count": 0,
   "metadata": {
    "application/vnd.databricks.v1+cell": {
     "cellMetadata": {
      "byteLimit": 2048000,
      "rowLimit": 10000
     },
     "inputWidgets": {},
     "nuid": "d634b162-4d0a-4db3-9d18-eeccb4185a21",
     "showTitle": false,
     "tableResultSettingsMap": {},
     "title": ""
    }
   },
   "outputs": [
    {
     "output_type": "stream",
     "name": "stdout",
     "output_type": "stream",
     "text": [
      "\uD83D\uDD0D Analyzing payment behavior...\n✅ Payment behavior metrics integrated\n"
     ]
    }
   ],
   "source": [
    "# BUSINESS CONTEXT: Payment behavior indicates customer reliability and financial stability\n",
    "# Late payments and failures correlate with higher risk and potential churn\n",
    "\n",
    "# TODO: Analyze customer payment behavior patterns\n",
    "# \n",
    "# Step 1: Calculate payment behavior metrics\n",
    "# TODO: Group payments_df by \"customer_id\"\n",
    "# TODO: Calculate total_payments using count(\"payment_id\")\n",
    "# TODO: Calculate total_payment_amount using sum(\"payment_amount\")\n",
    "# TODO: Calculate avg_payment_amount using avg(\"payment_amount\")\n",
    "# TODO: Calculate late_payments_count using sum(when(col(\"late_payment_flag\") == True, 1).otherwise(0))\n",
    "# TODO: Calculate failed_payments_count using sum(when(col(\"payment_status\") == \"Failed\", 1).otherwise(0))\n",
    "# TODO: Store result as payment_behavior\n",
    "# \n",
    "# Step 2: Calculate payment reliability score\n",
    "# TODO: Add payment_reliability_score column to payment_behavior\n",
    "# TODO: Use when/otherwise logic:\n",
    "#       - If total_payments == 0, set score to 1.0\n",
    "#       - Otherwise: 1.0 - (late_payments_count + failed_payments_count * 2) / total_payments\n",
    "# TODO: This formula penalizes failed payments more heavily than late payments\n",
    "# \n",
    "# Step 3: Join payment behavior with customer risk data\n",
    "# TODO: Join customer_risk_df with payment_behavior on \"customer_id\" using left join\n",
    "# TODO: Update customer_risk_df with joined result\n",
    "# \n",
    "# Step 4: Handle customers without payment history\n",
    "# TODO: Use fillna() to set null values to 0 for: total_payments, total_payment_amount, avg_payment_amount, late_payments_count, failed_payments_count\n",
    "# TODO: Set payment_reliability_score to 1.0 for customers without payment history\n",
    "# TODO: Print \"✅ Payment behavior metrics integrated\"\n",
    "#\n",
    "# EXPECTED OUTPUT: All customers with payment reliability scores between 0.0-1.0\n",
    "# Target: Most customers should have scores 0.85-1.0 (high reliability)\n",
    "\n",
    "print(\"\uD83D\uDD0D Analyzing payment behavior...\")\n",
    "\n",
    "# TODO: Implement payment behavior analysis logic here\n",
    "payment_behavior = (\n",
    "    payments_df\n",
    "    .groupBy(\"customer_id\")\n",
    "    .agg(\n",
    "        count(\"payment_id\").alias(\"total_payments\"),\n",
    "        sum(\"payment_amount\").alias(\"total_payment_amount\"),\n",
    "        avg(\"payment_amount\").alias(\"avg_payment_amount\"),\n",
    "        sum(when(col(\"late_payment_flag\") == True, 1).otherwise(0)).alias(\"late_payments_count\"),\n",
    "        sum(when(col(\"payment_status\") == \"Failed\", 1).otherwise(0)).alias(\"failed_payments_count\")\n",
    "    )\n",
    ")\n",
    "payment_behavior = (\n",
    "    payment_behavior\n",
    "    .withColumn(\"payment_reliability_score\", \n",
    "    when(col(\"total_payments\") == 0, 1.0)\n",
    "    .otherwise(1.0 - (col(\"late_payments_count\") + col(\"failed_payments_count\") * 2) / col(\"total_payments\"))\n",
    "))\n",
    "customer_risk_df = customer_risk_df.join(payment_behavior, on=\"customer_id\", how=\"left\")\n",
    "customer_risk_df = customer_risk_df.fillna(0, subset=[\"total_payments\", \"total_payment_amount\", \"avg_payment_amount\", \"late_payments_count\", \"failed_payments_count\"])\n",
    "customer_risk_df = customer_risk_df.fillna(1.0, subset=[\"payment_reliability_score\"])\n",
    "print(\"✅ Payment behavior metrics integrated\")"
   ]
  },
  {
   "cell_type": "markdown",
   "metadata": {
    "application/vnd.databricks.v1+cell": {
     "cellMetadata": {
      "byteLimit": 2048000,
      "rowLimit": 10000
     },
     "inputWidgets": {},
     "nuid": "77a472d0-5f3f-46a4-a43d-5930b08a81d2",
     "showTitle": false,
     "tableResultSettingsMap": {},
     "title": ""
    }
   },
   "source": [
    "### 1.4 Calculate Comprehensive Risk Scores"
   ]
  },
  {
   "cell_type": "code",
   "execution_count": 0,
   "metadata": {
    "application/vnd.databricks.v1+cell": {
     "cellMetadata": {
      "byteLimit": 2048000,
      "rowLimit": 10000
     },
     "inputWidgets": {},
     "nuid": "394696d6-e039-4f63-9ec4-dd3c40b72186",
     "showTitle": false,
     "tableResultSettingsMap": {},
     "title": ""
    }
   },
   "outputs": [
    {
     "output_type": "stream",
     "name": "stdout",
     "output_type": "stream",
     "text": [
      "\uD83D\uDD0D Calculating comprehensive risk scores...\n✅ Comprehensive risk scores calculated\n+-------+--------------------+\n|summary|composite_risk_score|\n+-------+--------------------+\n|  count|               15000|\n|   mean|  2.2077399999998497|\n| stddev|  0.3899084007439871|\n|    min|  1.4500000000000002|\n|    max|  3.9500000000000006|\n+-------+--------------------+\n\n"
     ]
    }
   ],
   "source": [
    "# BUSINESS CONTEXT: Risk scoring enables personalized pricing and targeted risk management\n",
    "# Multiple risk factors provide more accurate assessment than single indicators\n",
    "\n",
    "# TODO: Calculate comprehensive risk scores using multiple risk factors\n",
    "# \n",
    "# Step 1: Calculate claims risk score\n",
    "# TODO: Create claims_risk_score column using when/otherwise logic:\n",
    "#       - 0 claims = 1.0 (lowest risk)\n",
    "#       - 1 claim = 2.0 (medium risk)\n",
    "#       - 2 claims = 3.0 (higher risk)\n",
    "#       - 3+ claims = 4.0 (highest risk)\n",
    "# TODO: Default to 1.0 for any other cases\n",
    "# \n",
    "# Step 2: Calculate credit risk score\n",
    "# TODO: Create credit_risk_score column based on credit_score:\n",
    "#       - >=750 = 1.0 (excellent credit)\n",
    "#       - >=700 = 2.0 (good credit)\n",
    "#       - >=650 = 3.0 (fair credit)\n",
    "#       - >=600 = 4.0 (poor credit)\n",
    "#       - <600 = 5.0 (very poor credit)\n",
    "# \n",
    "# Step 3: Calculate age risk score\n",
    "# TODO: First calculate age column: floor(datediff(current_date(), col(\"birth_date\")) / 365.25)\n",
    "# TODO: Create age_risk_score column:\n",
    "#       - <25 = 3.0 (young drivers, higher risk)\n",
    "#       - 25-65 = 1.0 (prime age, lowest risk)\n",
    "#       - 66-75 = 2.0 (senior, moderate risk)\n",
    "#       - >75 = 3.0 (very senior, higher risk)\n",
    "# \n",
    "# Step 4: Calculate premium and payment risk scores\n",
    "# TODO: Create premium_risk_score based on total_premium:\n",
    "#       - >=5000 = 3.0 (high premium concentration)\n",
    "#       - >=2000 = 2.0 (medium concentration)\n",
    "#       - <2000 = 1.0 (low concentration)\n",
    "# TODO: Create payment_risk_score based on payment_reliability_score:\n",
    "#       - >=0.95 = 1.0 (excellent reliability)\n",
    "#       - >=0.85 = 2.0 (good reliability)\n",
    "#       - >=0.75 = 3.0 (fair reliability)\n",
    "#       - <0.75 = 4.0 (poor reliability)\n",
    "# \n",
    "# Step 5: Calculate composite risk score\n",
    "# TODO: Create composite_risk_score as weighted average:\n",
    "#       - claims_risk_score * 0.30 (30% weight)\n",
    "#       - credit_risk_score * 0.25 (25% weight)\n",
    "#       - age_risk_score * 0.15 (15% weight)\n",
    "#       - premium_risk_score * 0.15 (15% weight)\n",
    "#       - payment_risk_score * 0.15 (15% weight)\n",
    "# TODO: Print \"✅ Comprehensive risk scores calculated\"\n",
    "# TODO: Show risk score distribution using customer_risk_df.select(\"composite_risk_score\").describe().show()\n",
    "#\n",
    "# EXPECTED OUTPUT: All customers with composite_risk_score between 1.0-4.0\n",
    "# Target: Bell curve distribution with most customers between 1.5-2.5\n",
    "\n",
    "print(\"\uD83D\uDD0D Calculating comprehensive risk scores...\")\n",
    "\n",
    "# TODO: Implement comprehensive risk scoring logic here\n",
    "customer_risk_df = (customer_risk_df.withColumn(\"claims_risk_score\", when(col(\"total_claims\") == 0, 1.0)\n",
    ".when(col(\"total_claims\") == 1, 2.0)\n",
    ".when(col(\"total_claims\") == 2, 3.0)\n",
    ".when(col(\"total_claims\") >= 3, 4.0)\n",
    ".otherwise(1.0))\n",
    ".withColumn(\"credit_risk_score\", when(col(\"credit_score\") >= 750, 1.0)\n",
    ".when(col(\"credit_score\") >= 700, 2.0)\n",
    ".when(col(\"credit_score\") >= 650, 3.0)\n",
    ".when(col(\"credit_score\") >= 600, 4.0)\n",
    ".otherwise(5.0))\n",
    ".withColumn(\"age\", floor(datediff(current_date(), col(\"birth_date\")) / 365.25))\n",
    ".withColumn(\"age_risk_score\", when(col(\"age\") < 25, 3.0)\n",
    ".when((col(\"age\") >= 25) & (col(\"age\") <= 65), 1.0)\n",
    ".when((col(\"age\") >= 66) & (col(\"age\") <= 75), 2.0)\n",
    ".otherwise(3.0))\n",
    ".withColumn(\"premium_risk_score\", when(col(\"total_premium\") >= 5000, 3.0)\n",
    ".when(col(\"total_premium\") >= 2000, 2.0)\n",
    ".otherwise(1.0))\n",
    ".withColumn(\"payment_reliability_score\", col(\"total_payments\") / col(\"total_payment_amount\"))\n",
    ".withColumn(\"payment_risk_score\", when(col(\"payment_reliability_score\") >= 0.95, 1.0)\n",
    ".when(col(\"payment_reliability_score\") >= 0.85, 2.0)\n",
    ".when(col(\"payment_reliability_score\") >= 0.75, 3.0)\n",
    ".otherwise(4.0))\n",
    ".withColumn(\"composite_risk_score\", (col(\"claims_risk_score\") * 0.30) + (col(\"credit_risk_score\") * 0.25) + (col(\"age_risk_score\") * 0.15) + (col(\"premium_risk_score\") * 0.15) + (col(\"payment_risk_score\") * 0.15)))\n",
    "print(\"✅ Comprehensive risk scores calculated\")\n",
    "customer_risk_df.select(\"composite_risk_score\").describe().show()"
   ]
  },
  {
   "cell_type": "markdown",
   "metadata": {
    "application/vnd.databricks.v1+cell": {
     "cellMetadata": {
      "byteLimit": 2048000,
      "rowLimit": 10000
     },
     "inputWidgets": {},
     "nuid": "ded563ef-183a-48fb-b6b6-7f4d3e02c175",
     "showTitle": false,
     "tableResultSettingsMap": {},
     "title": ""
    }
   },
   "source": [
    "## 2. Risk-Based Customer Segmentation"
   ]
  },
  {
   "cell_type": "markdown",
   "metadata": {
    "application/vnd.databricks.v1+cell": {
     "cellMetadata": {
      "byteLimit": 2048000,
      "rowLimit": 10000
     },
     "inputWidgets": {},
     "nuid": "4185e510-8f56-4678-abc6-e3089394f228",
     "showTitle": false,
     "tableResultSettingsMap": {},
     "title": ""
    }
   },
   "source": [
    "### 2.1 Risk Category Assignment"
   ]
  },
  {
   "cell_type": "code",
   "execution_count": 0,
   "metadata": {
    "application/vnd.databricks.v1+cell": {
     "cellMetadata": {
      "byteLimit": 2048000,
      "rowLimit": 10000
     },
     "inputWidgets": {},
     "nuid": "12484f42-2597-4658-8b14-71a735a1066b",
     "showTitle": false,
     "tableResultSettingsMap": {},
     "title": ""
    }
   },
   "outputs": [
    {
     "output_type": "stream",
     "name": "stdout",
     "output_type": "stream",
     "text": [
      "\uD83C\uDFAF Assigning risk categories...\n\uD83D\uDCCA Risk Category Distribution:\n+-------------+-----+----------+\n|risk_category|count|percentage|\n+-------------+-----+----------+\n|       Medium|10464|     69.76|\n|          Low| 2985|      19.9|\n|         High| 1551|     10.34|\n+-------------+-----+----------+\n\n"
     ]
    }
   ],
   "source": [
    "# BUSINESS CONTEXT: Risk categorization enables targeted pricing and risk management strategies\n",
    "# Industry standard practice divides customers into Low/Medium/High risk segments\n",
    "\n",
    "# TODO: Assign risk categories based on composite risk scores\n",
    "# \n",
    "# Step 1: Create risk categories\n",
    "# TODO: Create risk_category column using when/otherwise logic:\n",
    "#       - composite_risk_score <= 1.75 = \"Low\"\n",
    "#       - composite_risk_score <= 2.75 = \"Medium\"\n",
    "#       - composite_risk_score > 2.75 = \"High\"\n",
    "# \n",
    "# Step 2: Analyze risk category distribution\n",
    "# TODO: Group by risk_category and count customers\n",
    "# TODO: Order by count descending\n",
    "# TODO: Store result as risk_distribution\n",
    "# TODO: Print \"\uD83D\uDCCA Risk Category Distribution:\"\n",
    "# TODO: Show risk_distribution\n",
    "# \n",
    "# Step 3: Calculate risk category percentages\n",
    "# TODO: Get total_customers using customer_risk_df.count()\n",
    "# TODO: Add percentage column to risk_distribution: (count / total_customers) * 100\n",
    "# TODO: Round to 2 decimal places\n",
    "# TODO: Print \"\uD83D\uDCCA Risk Category Percentages:\"\n",
    "# TODO: Show risk_distribution with percentages\n",
    "#\n",
    "# EXPECTED OUTPUT: Risk categories with counts and percentages\n",
    "# Target: Approximately 60% Low, 30% Medium, 10% High risk distribution\n",
    "\n",
    "print(\"\uD83C\uDFAF Assigning risk categories...\")\n",
    "\n",
    "# TODO: Implement risk category assignment logic here\n",
    "customer_risk_df = customer_risk_df.withColumn(\"risk_category\", when(col(\"composite_risk_score\") <= 1.75, \"Low\")\n",
    ".when(col(\"composite_risk_score\") <= 2.75, \"Medium\")\n",
    ".otherwise(\"High\"))\n",
    "risk_distribution = customer_risk_df.groupBy(\"risk_category\").count().orderBy(col(\"count\").desc())\n",
    "total_customers = customer_risk_df.count()\n",
    "risk_distribution = risk_distribution.withColumn(\"percentage\", round((col(\"count\") / total_customers) * 100, 2))\n",
    "print(\"\uD83D\uDCCA Risk Category Distribution:\")\n",
    "risk_distribution.show()"
   ]
  },
  {
   "cell_type": "markdown",
   "metadata": {
    "application/vnd.databricks.v1+cell": {
     "cellMetadata": {
      "byteLimit": 2048000,
      "rowLimit": 10000
     },
     "inputWidgets": {},
     "nuid": "2f3657a3-734b-4d5b-afa5-9513ef93d7c6",
     "showTitle": false,
     "tableResultSettingsMap": {},
     "title": ""
    }
   },
   "source": [
    "### 2.2 Value Segment Assignment"
   ]
  },
  {
   "cell_type": "code",
   "execution_count": 0,
   "metadata": {
    "application/vnd.databricks.v1+cell": {
     "cellMetadata": {
      "byteLimit": 2048000,
      "rowLimit": 10000
     },
     "inputWidgets": {},
     "nuid": "cdbe1afd-afda-4d88-88d5-902094b08591",
     "showTitle": false,
     "tableResultSettingsMap": {},
     "title": ""
    }
   },
   "outputs": [
    {
     "output_type": "stream",
     "name": "stdout",
     "output_type": "stream",
     "text": [
      "\uD83D\uDCB0 Assigning value segments...\n\uD83D\uDCCA Value Segment Thresholds:\n   High Value (top 10%): $54,753.91+\n   Medium Value (70-90%): $29,979.52 - $54,753.91\n   Low Value (bottom 70%): < $29,979.52\n"
     ]
    }
   ],
   "source": [
    "# BUSINESS CONTEXT: Value segmentation enables customer prioritization and resource allocation\n",
    "# High-value customers receive premium service and retention efforts\n",
    "\n",
    "# TODO: Create customer value segments based on premium amounts\n",
    "# \n",
    "# Step 1: Calculate value segment thresholds\n",
    "# TODO: Use approxQuantile on total_premium column with quantiles [0.7, 0.9] and accuracy 0.05\n",
    "# TODO: Store results as premium_percentiles\n",
    "# TODO: Extract medium_value_threshold = premium_percentiles[0] (70th percentile)\n",
    "# TODO: Extract high_value_threshold = premium_percentiles[1] (90th percentile)\n",
    "# \n",
    "# Step 2: Print value segment thresholds\n",
    "# TODO: Print \"\uD83D\uDCCA Value Segment Thresholds:\"\n",
    "# TODO: Print f\"   High Value (top 10%): ${high_value_threshold:,.2f}+\"\n",
    "# TODO: Print f\"   Medium Value (70-90%): ${medium_value_threshold:,.2f} - ${high_value_threshold:,.2f}\"\n",
    "# TODO: Print f\"   Low Value (bottom 70%): < ${medium_value_threshold:,.2f}\"\n",
    "# \n",
    "# Step 3: Assign value segments\n",
    "# TODO: Create value_segment column using when/otherwise logic:\n",
    "#       - total_premium >= high_value_threshold = \"High Value\"\n",
    "#       - total_premium >= medium_value_threshold = \"Medium Value\"\n",
    "#       - total_premium < medium_value_threshold = \"Low Value\"\n",
    "# \n",
    "# Step 4: Analyze value segment distribution\n",
    "# TODO: Group by value_segment and count customers\n",
    "# TODO: Order by count descending\n",
    "# TODO: Store result as value_distribution\n",
    "# TODO: Print \"\uD83D\uDCCA Value Segment Distribution:\"\n",
    "# TODO: Show value_distribution\n",
    "#\n",
    "# EXPECTED OUTPUT: Value segments with approximately 10% High, 20% Medium, 70% Low\n",
    "# Target: Thresholds around $3,000 (medium) and $8,000 (high)\n",
    "\n",
    "print(\"\uD83D\uDCB0 Assigning value segments...\")\n",
    "\n",
    "# TODO: Implement value segment assignment logic here\n",
    "premium_percentiles = customer_risk_df.approxQuantile(\"total_premium\", [0.7, 0.9], 0.05)\n",
    "medium_value_threshold = premium_percentiles[0]\n",
    "high_value_threshold = premium_percentiles[1]\n",
    "print(f\"\uD83D\uDCCA Value Segment Thresholds:\")\n",
    "print(f\"   High Value (top 10%): ${high_value_threshold:,.2f}+\")\n",
    "print(f\"   Medium Value (70-90%): ${medium_value_threshold:,.2f} - ${high_value_threshold:,.2f}\")\n",
    "print(f\"   Low Value (bottom 70%): < ${medium_value_threshold:,.2f}\")\n",
    "customer_risk_df = customer_risk_df.withColumn(\"value_segment\", when(col(\"total_premium\") >= high_value_threshold, \"High Value\")\n",
    ".when(col(\"total_premium\") >= medium_value_threshold, \"Medium Value\")\n",
    ".otherwise(\"Low Value\"))"
   ]
  },
  {
   "cell_type": "markdown",
   "metadata": {
    "application/vnd.databricks.v1+cell": {
     "cellMetadata": {
      "byteLimit": 2048000,
      "rowLimit": 10000
     },
     "inputWidgets": {},
     "nuid": "7c2d0b53-da05-41f7-8782-34d0564a59b9",
     "showTitle": false,
     "tableResultSettingsMap": {},
     "title": ""
    }
   },
   "source": [
    "### 2.3 Risk vs Value Matrix"
   ]
  },
  {
   "cell_type": "code",
   "execution_count": 0,
   "metadata": {
    "application/vnd.databricks.v1+cell": {
     "cellMetadata": {
      "byteLimit": 2048000,
      "rowLimit": 10000
     },
     "inputWidgets": {},
     "nuid": "a28c9566-f60b-4757-b352-3ffafaa631e6",
     "showTitle": false,
     "tableResultSettingsMap": {},
     "title": ""
    }
   },
   "outputs": [
    {
     "output_type": "stream",
     "name": "stdout",
     "output_type": "stream",
     "text": [
      "\uD83D\uDCCA Risk vs Value Matrix Analysis:\n"
     ]
    },
    {
     "output_type": "display_data",
     "data": {
      "text/html": [
       "<style scoped>\n",
       "  .table-result-container {\n",
       "    max-height: 300px;\n",
       "    overflow: auto;\n",
       "  }\n",
       "  table, th, td {\n",
       "    border: 1px solid black;\n",
       "    border-collapse: collapse;\n",
       "  }\n",
       "  th, td {\n",
       "    padding: 5px;\n",
       "  }\n",
       "  th {\n",
       "    text-align: left;\n",
       "  }\n",
       "</style><div class='table-result-container'><table class='table-result'><thead style='background-color: white'><tr><th>risk_category</th><th>value_segment</th><th>customer_count</th><th>avg_risk_score</th><th>total_premium_segment</th><th>avg_premium_segment</th></tr></thead><tbody><tr><td>High</td><td>High Value</td><td>377</td><td>2.99217506631299</td><td>3.306832257000001E7</td><td>87714.38347480108</td></tr><tr><td>High</td><td>Low Value</td><td>800</td><td>2.9614999999999942</td><td>1.193630516000001E7</td><td>14920.381450000012</td></tr><tr><td>High</td><td>Medium Value</td><td>374</td><td>2.981016042780743</td><td>1.520066051E7</td><td>40643.47729946524</td></tr><tr><td>Low</td><td>High Value</td><td>292</td><td>1.75</td><td>2.3210822689999998E7</td><td>79489.11880136986</td></tr><tr><td>Low</td><td>Low Value</td><td>2212</td><td>1.7056509945750282</td><td>2.307824913000002E7</td><td>10433.204850813752</td></tr><tr><td>Low</td><td>Medium Value</td><td>481</td><td>1.75</td><td>1.9283567589999992E7</td><td>40090.57711018709</td></tr><tr><td>Medium</td><td>High Value</td><td>1524</td><td>2.275229658792665</td><td>1.2355784362999988E8</td><td>81074.70054461934</td></tr><tr><td>Medium</td><td>Low Value</td><td>6825</td><td>2.2142490842490266</td><td>8.591744000999984E7</td><td>12588.635898901075</td></tr><tr><td>Medium</td><td>Medium Value</td><td>2115</td><td>2.268841607565047</td><td>8.639609274999985E7</td><td>40849.21643025998</td></tr></tbody></table></div>"
      ]
     },
     "metadata": {
      "application/vnd.databricks.v1+output": {
       "addedWidgets": {},
       "aggData": [],
       "aggError": "",
       "aggOverflow": false,
       "aggSchema": [],
       "aggSeriesLimitReached": false,
       "aggType": "",
       "arguments": {},
       "columnCustomDisplayInfos": {},
       "data": [
        [
         "High",
         "High Value",
         377,
         2.99217506631299,
         3.306832257000001E7,
         87714.38347480108
        ],
        [
         "High",
         "Low Value",
         800,
         2.9614999999999942,
         1.193630516000001E7,
         14920.381450000012
        ],
        [
         "High",
         "Medium Value",
         374,
         2.981016042780743,
         1.520066051E7,
         40643.47729946524
        ],
        [
         "Low",
         "High Value",
         292,
         1.75,
         2.3210822689999998E7,
         79489.11880136986
        ],
        [
         "Low",
         "Low Value",
         2212,
         1.7056509945750282,
         2.307824913000002E7,
         10433.204850813752
        ],
        [
         "Low",
         "Medium Value",
         481,
         1.75,
         1.9283567589999992E7,
         40090.57711018709
        ],
        [
         "Medium",
         "High Value",
         1524,
         2.275229658792665,
         1.2355784362999988E8,
         81074.70054461934
        ],
        [
         "Medium",
         "Low Value",
         6825,
         2.2142490842490266,
         8.591744000999984E7,
         12588.635898901075
        ],
        [
         "Medium",
         "Medium Value",
         2115,
         2.268841607565047,
         8.639609274999985E7,
         40849.21643025998
        ]
       ],
       "datasetInfos": [],
       "dbfsResultPath": null,
       "isJsonSchema": true,
       "metadata": {},
       "overflow": false,
       "plotOptions": {
        "customPlotOptions": {},
        "displayType": "table",
        "pivotAggregation": null,
        "pivotColumns": null,
        "xColumns": null,
        "yColumns": null
       },
       "removedWidgets": [],
       "schema": [
        {
         "metadata": "{}",
         "name": "risk_category",
         "type": "\"string\""
        },
        {
         "metadata": "{}",
         "name": "value_segment",
         "type": "\"string\""
        },
        {
         "metadata": "{}",
         "name": "customer_count",
         "type": "\"long\""
        },
        {
         "metadata": "{}",
         "name": "avg_risk_score",
         "type": "\"double\""
        },
        {
         "metadata": "{}",
         "name": "total_premium_segment",
         "type": "\"double\""
        },
        {
         "metadata": "{}",
         "name": "avg_premium_segment",
         "type": "\"double\""
        }
       ],
       "type": "table"
      }
     },
     "output_type": "display_data"
    },
    {
     "output_type": "stream",
     "name": "stdout",
     "output_type": "stream",
     "text": [
      "\uD83D\uDCCA Risk-Value Matrix with Percentages:\n"
     ]
    },
    {
     "output_type": "display_data",
     "data": {
      "text/html": [
       "<style scoped>\n",
       "  .table-result-container {\n",
       "    max-height: 300px;\n",
       "    overflow: auto;\n",
       "  }\n",
       "  table, th, td {\n",
       "    border: 1px solid black;\n",
       "    border-collapse: collapse;\n",
       "  }\n",
       "  th, td {\n",
       "    padding: 5px;\n",
       "  }\n",
       "  th {\n",
       "    text-align: left;\n",
       "  }\n",
       "</style><div class='table-result-container'><table class='table-result'><thead style='background-color: white'><tr><th>risk_category</th><th>value_segment</th><th>customer_count</th><th>avg_risk_score</th><th>total_premium_segment</th><th>avg_premium_segment</th><th>segment_percentage</th></tr></thead><tbody><tr><td>High</td><td>High Value</td><td>377</td><td>2.99217506631299</td><td>3.306832257000001E7</td><td>87714.38347480108</td><td>2.51</td></tr><tr><td>High</td><td>Low Value</td><td>800</td><td>2.9614999999999942</td><td>1.193630516000001E7</td><td>14920.381450000012</td><td>5.33</td></tr><tr><td>High</td><td>Medium Value</td><td>374</td><td>2.981016042780743</td><td>1.520066051E7</td><td>40643.47729946524</td><td>2.49</td></tr><tr><td>Low</td><td>High Value</td><td>292</td><td>1.75</td><td>2.3210822689999998E7</td><td>79489.11880136986</td><td>1.95</td></tr><tr><td>Low</td><td>Low Value</td><td>2212</td><td>1.7056509945750282</td><td>2.307824913000002E7</td><td>10433.204850813752</td><td>14.75</td></tr><tr><td>Low</td><td>Medium Value</td><td>481</td><td>1.75</td><td>1.9283567589999992E7</td><td>40090.57711018709</td><td>3.21</td></tr><tr><td>Medium</td><td>High Value</td><td>1524</td><td>2.275229658792665</td><td>1.2355784362999988E8</td><td>81074.70054461934</td><td>10.16</td></tr><tr><td>Medium</td><td>Low Value</td><td>6825</td><td>2.2142490842490266</td><td>8.591744000999984E7</td><td>12588.635898901075</td><td>45.5</td></tr><tr><td>Medium</td><td>Medium Value</td><td>2115</td><td>2.268841607565047</td><td>8.639609274999985E7</td><td>40849.21643025998</td><td>14.1</td></tr></tbody></table></div>"
      ]
     },
     "metadata": {
      "application/vnd.databricks.v1+output": {
       "addedWidgets": {},
       "aggData": [],
       "aggError": "",
       "aggOverflow": false,
       "aggSchema": [],
       "aggSeriesLimitReached": false,
       "aggType": "",
       "arguments": {},
       "columnCustomDisplayInfos": {},
       "data": [
        [
         "High",
         "High Value",
         377,
         2.99217506631299,
         3.306832257000001E7,
         87714.38347480108,
         2.51
        ],
        [
         "High",
         "Low Value",
         800,
         2.9614999999999942,
         1.193630516000001E7,
         14920.381450000012,
         5.33
        ],
        [
         "High",
         "Medium Value",
         374,
         2.981016042780743,
         1.520066051E7,
         40643.47729946524,
         2.49
        ],
        [
         "Low",
         "High Value",
         292,
         1.75,
         2.3210822689999998E7,
         79489.11880136986,
         1.95
        ],
        [
         "Low",
         "Low Value",
         2212,
         1.7056509945750282,
         2.307824913000002E7,
         10433.204850813752,
         14.75
        ],
        [
         "Low",
         "Medium Value",
         481,
         1.75,
         1.9283567589999992E7,
         40090.57711018709,
         3.21
        ],
        [
         "Medium",
         "High Value",
         1524,
         2.275229658792665,
         1.2355784362999988E8,
         81074.70054461934,
         10.16
        ],
        [
         "Medium",
         "Low Value",
         6825,
         2.2142490842490266,
         8.591744000999984E7,
         12588.635898901075,
         45.5
        ],
        [
         "Medium",
         "Medium Value",
         2115,
         2.268841607565047,
         8.639609274999985E7,
         40849.21643025998,
         14.1
        ]
       ],
       "datasetInfos": [],
       "dbfsResultPath": null,
       "isJsonSchema": true,
       "metadata": {},
       "overflow": false,
       "plotOptions": {
        "customPlotOptions": {},
        "displayType": "table",
        "pivotAggregation": null,
        "pivotColumns": null,
        "xColumns": null,
        "yColumns": null
       },
       "removedWidgets": [],
       "schema": [
        {
         "metadata": "{}",
         "name": "risk_category",
         "type": "\"string\""
        },
        {
         "metadata": "{}",
         "name": "value_segment",
         "type": "\"string\""
        },
        {
         "metadata": "{}",
         "name": "customer_count",
         "type": "\"long\""
        },
        {
         "metadata": "{}",
         "name": "avg_risk_score",
         "type": "\"double\""
        },
        {
         "metadata": "{}",
         "name": "total_premium_segment",
         "type": "\"double\""
        },
        {
         "metadata": "{}",
         "name": "avg_premium_segment",
         "type": "\"double\""
        },
        {
         "metadata": "{}",
         "name": "segment_percentage",
         "type": "\"double\""
        }
       ],
       "type": "table"
      }
     },
     "output_type": "display_data"
    }
   ],
   "source": [
    "# BUSINESS CONTEXT: Risk-value matrix enables strategic customer management\n",
    "# Different combinations require different strategies (retain, price, manage risk)\n",
    "\n",
    "# TODO: Create comprehensive risk-value matrix analysis\n",
    "# \n",
    "# Step 1: Create risk-value matrix\n",
    "# TODO: Group by risk_category and value_segment\n",
    "# TODO: Calculate customer_count using count(\"*\")\n",
    "# TODO: Calculate avg_risk_score using avg(\"composite_risk_score\")\n",
    "# TODO: Calculate total_premium_segment using sum(\"total_premium\")\n",
    "# TODO: Calculate avg_premium_segment using avg(\"total_premium\")\n",
    "# TODO: Order by risk_category, value_segment\n",
    "# TODO: Store result as risk_value_matrix\n",
    "# \n",
    "# Step 2: Display risk-value matrix\n",
    "# TODO: Print \"\uD83D\uDCCA Risk vs Value Matrix Analysis:\"\n",
    "# TODO: Show risk_value_matrix\n",
    "# \n",
    "# Step 3: Calculate segment percentages\n",
    "# TODO: Add segment_percentage column to risk_value_matrix\n",
    "# TODO: Calculate as (customer_count / total_customers) * 100\n",
    "# TODO: Round to 2 decimal places\n",
    "# TODO: Print \"\uD83D\uDCCA Risk-Value Matrix with Percentages:\"\n",
    "# TODO: Show matrix with percentages\n",
    "#\n",
    "# EXPECTED OUTPUT: 9-cell matrix showing customer distribution across risk-value combinations\n",
    "# Target: High Value-Low Risk should be priority segment for retention\n",
    "\n",
    "print(\"\uD83D\uDCCA Risk vs Value Matrix Analysis:\")\n",
    "# TODO: Implement risk-value matrix analysis logic here\n",
    "risk_value_matrix = customer_risk_df.groupBy(\"risk_category\", \"value_segment\").agg(count(\"*\").alias(\"customer_count\"), avg(\"composite_risk_score\").alias(\"avg_risk_score\"), sum(\"total_premium\").alias(\"total_premium_segment\"), avg(\"total_premium\").alias(\"avg_premium_segment\")).orderBy(\"risk_category\", \"value_segment\")\n",
    "\n",
    "display(risk_value_matrix)\n",
    "\n",
    "print(\"\uD83D\uDCCA Risk-Value Matrix with Percentages:\")\n",
    "\n",
    "total_customers = customer_risk_df.count()\n",
    "risk_value_matrix = risk_value_matrix.withColumn(\"segment_percentage\", round((col(\"customer_count\") / total_customers) * 100, 2))\n",
    "total_premium_all = customer_risk_df.select(sum(\"total_premium\")).first()[0]\n",
    "\n",
    "display(risk_value_matrix)"
   ]
  },
  {
   "cell_type": "markdown",
   "metadata": {
    "application/vnd.databricks.v1+cell": {
     "cellMetadata": {
      "byteLimit": 2048000,
      "rowLimit": 10000
     },
     "inputWidgets": {},
     "nuid": "8d1d4f78-f756-40e0-a5cd-4a3f5b56d487",
     "showTitle": false,
     "tableResultSettingsMap": {},
     "title": ""
    }
   },
   "source": [
    "## 3. Policy Portfolio Analysis"
   ]
  },
  {
   "cell_type": "markdown",
   "metadata": {
    "application/vnd.databricks.v1+cell": {
     "cellMetadata": {
      "byteLimit": 2048000,
      "rowLimit": 10000
     },
     "inputWidgets": {},
     "nuid": "3fe8118d-236e-4fb3-8bdc-16618c04e2d5",
     "showTitle": false,
     "tableResultSettingsMap": {},
     "title": ""
    }
   },
   "source": [
    "### 3.1 Policy Type Distribution Analysis"
   ]
  },
  {
   "cell_type": "code",
   "execution_count": 0,
   "metadata": {
    "application/vnd.databricks.v1+cell": {
     "cellMetadata": {
      "byteLimit": 2048000,
      "rowLimit": 10000
     },
     "inputWidgets": {},
     "nuid": "3fe9ef21-60aa-4abd-9a8f-580b866e93d7",
     "showTitle": false,
     "tableResultSettingsMap": {},
     "title": ""
    }
   },
   "outputs": [
    {
     "output_type": "stream",
     "name": "stdout",
     "output_type": "stream",
     "text": [
      "\uD83D\uDCCB Analyzing policy portfolio...\n\uD83D\uDCCA Policy Type Distribution:\n"
     ]
    },
    {
     "output_type": "display_data",
     "data": {
      "text/html": [
       "<style scoped>\n",
       "  .table-result-container {\n",
       "    max-height: 300px;\n",
       "    overflow: auto;\n",
       "  }\n",
       "  table, th, td {\n",
       "    border: 1px solid black;\n",
       "    border-collapse: collapse;\n",
       "  }\n",
       "  th, td {\n",
       "    padding: 5px;\n",
       "  }\n",
       "  th {\n",
       "    text-align: left;\n",
       "  }\n",
       "</style><div class='table-result-container'><table class='table-result'><thead style='background-color: white'><tr><th>policy_type</th><th>policy_count</th><th>total_premium</th><th>avg_premium</th><th>total_coverage</th><th>unique_customers</th></tr></thead><tbody><tr><td>Auto</td><td>22294</td><td>6.20115E7</td><td>2781.533147932179</td><td>3124625000</td><td>11522</td></tr><tr><td>Home</td><td>18891</td><td>2.513602779000001E7</td><td>1330.5821708750204</td><td>3263139841</td><td>10732</td></tr><tr><td>Life</td><td>15164</td><td>3.605709592000006E7</td><td>2377.8090160907454</td><td>7521759620</td><td>9474</td></tr><tr><td>Health</td><td>11745</td><td>2.791752E8</td><td>23769.70625798212</td><td>3554100000</td><td>8136</td></tr><tr><td>Travel</td><td>3535</td><td>1.6036275E7</td><td>4536.428571428572</td><td>108640000</td><td>3137</td></tr><tr><td>Business</td><td>3371</td><td>3233205.3300000075</td><td>959.1235034114528</td><td>332638810</td><td>3002</td></tr></tbody></table></div>"
      ]
     },
     "metadata": {
      "application/vnd.databricks.v1+output": {
       "addedWidgets": {},
       "aggData": [],
       "aggError": "",
       "aggOverflow": false,
       "aggSchema": [],
       "aggSeriesLimitReached": false,
       "aggType": "",
       "arguments": {},
       "columnCustomDisplayInfos": {},
       "data": [
        [
         "Auto",
         22294,
         6.20115E7,
         2781.533147932179,
         3124625000,
         11522
        ],
        [
         "Home",
         18891,
         2.513602779000001E7,
         1330.5821708750204,
         3263139841,
         10732
        ],
        [
         "Life",
         15164,
         3.605709592000006E7,
         2377.8090160907454,
         7521759620,
         9474
        ],
        [
         "Health",
         11745,
         2.791752E8,
         23769.70625798212,
         3554100000,
         8136
        ],
        [
         "Travel",
         3535,
         1.6036275E7,
         4536.428571428572,
         108640000,
         3137
        ],
        [
         "Business",
         3371,
         3233205.3300000075,
         959.1235034114528,
         332638810,
         3002
        ]
       ],
       "datasetInfos": [],
       "dbfsResultPath": null,
       "isJsonSchema": true,
       "metadata": {},
       "overflow": false,
       "plotOptions": {
        "customPlotOptions": {},
        "displayType": "table",
        "pivotAggregation": null,
        "pivotColumns": null,
        "xColumns": null,
        "yColumns": null
       },
       "removedWidgets": [],
       "schema": [
        {
         "metadata": "{}",
         "name": "policy_type",
         "type": "\"string\""
        },
        {
         "metadata": "{}",
         "name": "policy_count",
         "type": "\"long\""
        },
        {
         "metadata": "{}",
         "name": "total_premium",
         "type": "\"double\""
        },
        {
         "metadata": "{}",
         "name": "avg_premium",
         "type": "\"double\""
        },
        {
         "metadata": "{}",
         "name": "total_coverage",
         "type": "\"long\""
        },
        {
         "metadata": "{}",
         "name": "unique_customers",
         "type": "\"long\""
        }
       ],
       "type": "table"
      }
     },
     "output_type": "display_data"
    },
    {
     "output_type": "stream",
     "name": "stdout",
     "output_type": "stream",
     "text": [
      "\uD83D\uDCCA Policy Type Analysis with Percentages:\n"
     ]
    },
    {
     "output_type": "display_data",
     "data": {
      "text/html": [
       "<style scoped>\n",
       "  .table-result-container {\n",
       "    max-height: 300px;\n",
       "    overflow: auto;\n",
       "  }\n",
       "  table, th, td {\n",
       "    border: 1px solid black;\n",
       "    border-collapse: collapse;\n",
       "  }\n",
       "  th, td {\n",
       "    padding: 5px;\n",
       "  }\n",
       "  th {\n",
       "    text-align: left;\n",
       "  }\n",
       "</style><div class='table-result-container'><table class='table-result'><thead style='background-color: white'><tr><th>policy_type</th><th>policy_count</th><th>total_premium</th><th>avg_premium</th><th>total_coverage</th><th>unique_customers</th><th>policy_percentage</th><th>premium_percentage</th></tr></thead><tbody><tr><td>Auto</td><td>22294</td><td>6.20115E7</td><td>2781.533147932179</td><td>3124625000</td><td>11522</td><td>29.73</td><td>14.71</td></tr><tr><td>Home</td><td>18891</td><td>2.513602779000001E7</td><td>1330.5821708750204</td><td>3263139841</td><td>10732</td><td>25.19</td><td>5.96</td></tr><tr><td>Life</td><td>15164</td><td>3.605709592000006E7</td><td>2377.8090160907454</td><td>7521759620</td><td>9474</td><td>20.22</td><td>8.55</td></tr><tr><td>Health</td><td>11745</td><td>2.791752E8</td><td>23769.70625798212</td><td>3554100000</td><td>8136</td><td>15.66</td><td>66.21</td></tr><tr><td>Travel</td><td>3535</td><td>1.6036275E7</td><td>4536.428571428572</td><td>108640000</td><td>3137</td><td>4.71</td><td>3.8</td></tr><tr><td>Business</td><td>3371</td><td>3233205.3300000075</td><td>959.1235034114528</td><td>332638810</td><td>3002</td><td>4.49</td><td>0.77</td></tr></tbody></table></div>"
      ]
     },
     "metadata": {
      "application/vnd.databricks.v1+output": {
       "addedWidgets": {},
       "aggData": [],
       "aggError": "",
       "aggOverflow": false,
       "aggSchema": [],
       "aggSeriesLimitReached": false,
       "aggType": "",
       "arguments": {},
       "columnCustomDisplayInfos": {},
       "data": [
        [
         "Auto",
         22294,
         6.20115E7,
         2781.533147932179,
         3124625000,
         11522,
         29.73,
         14.71
        ],
        [
         "Home",
         18891,
         2.513602779000001E7,
         1330.5821708750204,
         3263139841,
         10732,
         25.19,
         5.96
        ],
        [
         "Life",
         15164,
         3.605709592000006E7,
         2377.8090160907454,
         7521759620,
         9474,
         20.22,
         8.55
        ],
        [
         "Health",
         11745,
         2.791752E8,
         23769.70625798212,
         3554100000,
         8136,
         15.66,
         66.21
        ],
        [
         "Travel",
         3535,
         1.6036275E7,
         4536.428571428572,
         108640000,
         3137,
         4.71,
         3.8
        ],
        [
         "Business",
         3371,
         3233205.3300000075,
         959.1235034114528,
         332638810,
         3002,
         4.49,
         0.77
        ]
       ],
       "datasetInfos": [],
       "dbfsResultPath": null,
       "isJsonSchema": true,
       "metadata": {},
       "overflow": false,
       "plotOptions": {
        "customPlotOptions": {},
        "displayType": "table",
        "pivotAggregation": null,
        "pivotColumns": null,
        "xColumns": null,
        "yColumns": null
       },
       "removedWidgets": [],
       "schema": [
        {
         "metadata": "{}",
         "name": "policy_type",
         "type": "\"string\""
        },
        {
         "metadata": "{}",
         "name": "policy_count",
         "type": "\"long\""
        },
        {
         "metadata": "{}",
         "name": "total_premium",
         "type": "\"double\""
        },
        {
         "metadata": "{}",
         "name": "avg_premium",
         "type": "\"double\""
        },
        {
         "metadata": "{}",
         "name": "total_coverage",
         "type": "\"long\""
        },
        {
         "metadata": "{}",
         "name": "unique_customers",
         "type": "\"long\""
        },
        {
         "metadata": "{}",
         "name": "policy_percentage",
         "type": "\"double\""
        },
        {
         "metadata": "{}",
         "name": "premium_percentage",
         "type": "\"double\""
        }
       ],
       "type": "table"
      }
     },
     "output_type": "display_data"
    }
   ],
   "source": [
    "# BUSINESS CONTEXT: Policy mix analysis reveals portfolio composition and growth opportunities\n",
    "# Understanding policy preferences helps optimize product offerings and pricing\n",
    "\n",
    "# TODO: Analyze policy type distribution across the portfolio\n",
    "# \n",
    "# Step 1: Calculate policy type metrics\n",
    "# TODO: Group policies_df by \"policy_type\"\n",
    "# TODO: Calculate policy_count using count(\"*\")\n",
    "# TODO: Calculate total_premium using sum(\"premium_amount\")\n",
    "# TODO: Calculate avg_premium using avg(\"premium_amount\")\n",
    "# TODO: Calculate total_coverage using sum(\"coverage_amount\")\n",
    "# TODO: Calculate unique_customers using countDistinct(\"customer_id\")\n",
    "# TODO: Order by policy_count descending\n",
    "# TODO: Store result as policy_type_dist\n",
    "# \n",
    "# Step 2: Display policy type distribution\n",
    "# TODO: Print \"\uD83D\uDCCA Policy Type Distribution:\"\n",
    "# TODO: Show policy_type_dist\n",
    "# \n",
    "# Step 3: Calculate policy type percentages\n",
    "# TODO: Get total_policies using policies_df.count()\n",
    "# TODO: Add policy_percentage column: (policy_count / total_policies) * 100\n",
    "# TODO: Calculate total_premium_all = sum of all total_premium values\n",
    "# TODO: Add premium_percentage column: (total_premium / total_premium_all) * 100\n",
    "# TODO: Round both percentages to 2 decimal places\n",
    "# TODO: Print \"\uD83D\uDCCA Policy Type Analysis with Percentages:\"\n",
    "# TODO: Show policy_type_dist with percentages\n",
    "#\n",
    "# EXPECTED OUTPUT: Policy types ranked by count with premium percentages\n",
    "# Target: Auto (30%), Home (25%), Life (20%), Health (15%), Other (10%)\n",
    "\n",
    "print(\"\uD83D\uDCCB Analyzing policy portfolio...\")\n",
    "\n",
    "# TODO: Implement policy type distribution analysis logic here\n",
    "policy_type_dist = (\n",
    "    policies_df\n",
    "    .groupBy(\"policy_type\")\n",
    "    .agg(\n",
    "        count(\"*\").alias(\"policy_count\"),\n",
    "        sum(\"premium_amount\").alias(\"total_premium\"),\n",
    "        avg(\"premium_amount\").alias(\"avg_premium\"),\n",
    "        sum(\"coverage_amount\").alias(\"total_coverage\"),\n",
    "        countDistinct(\"customer_id\").alias(\"unique_customers\")\n",
    "    )\n",
    "    .orderBy(desc(\"policy_count\"))\n",
    ")\n",
    "\n",
    "print(\"\uD83D\uDCCA Policy Type Distribution:\")\n",
    "display(policy_type_dist)\n",
    "\n",
    "total_policies = policies_df.count()\n",
    "\n",
    "policy_type_dist = policy_type_dist.withColumn(\n",
    "    \"policy_percentage\",\n",
    "    round((col(\"policy_count\") / total_policies) * 100, 2)\n",
    ")\n",
    "\n",
    "total_premium_all = (\n",
    "    policy_type_dist\n",
    "    .select(sum(\"total_premium\").alias(\"sum_premium\"))\n",
    "    .collect()[0][\"sum_premium\"]\n",
    ")\n",
    "\n",
    "policy_type_dist = policy_type_dist.withColumn(\n",
    "    \"premium_percentage\",\n",
    "    round((col(\"total_premium\") / total_premium_all) * 100, 2)\n",
    ")\n",
    "\n",
    "print(\"\uD83D\uDCCA Policy Type Analysis with Percentages:\")\n",
    "display(policy_type_dist)"
   ]
  },
  {
   "cell_type": "markdown",
   "metadata": {
    "application/vnd.databricks.v1+cell": {
     "cellMetadata": {
      "byteLimit": 2048000,
      "rowLimit": 10000
     },
     "inputWidgets": {},
     "nuid": "fa86fb4a-b14b-4631-b467-fa15311fc00d",
     "showTitle": false,
     "tableResultSettingsMap": {},
     "title": ""
    }
   },
   "source": [
    "### 3.2 Cross-Selling Opportunity Analysis"
   ]
  },
  {
   "cell_type": "code",
   "execution_count": 0,
   "metadata": {
    "application/vnd.databricks.v1+cell": {
     "cellMetadata": {
      "byteLimit": 2048000,
      "rowLimit": 10000
     },
     "inputWidgets": {},
     "nuid": "ee73ee49-2df8-456e-aff7-1ae15c4c5b34",
     "showTitle": false,
     "tableResultSettingsMap": {},
     "title": ""
    }
   },
   "outputs": [
    {
     "output_type": "stream",
     "name": "stdout",
     "output_type": "stream",
     "text": [
      "\uD83C\uDFAF Identifying cross-selling opportunities...\n\uD83D\uDCCA Customer Distribution by Policy Diversity:\n"
     ]
    },
    {
     "output_type": "display_data",
     "data": {
      "text/html": [
       "<style scoped>\n",
       "  .table-result-container {\n",
       "    max-height: 300px;\n",
       "    overflow: auto;\n",
       "  }\n",
       "  table, th, td {\n",
       "    border: 1px solid black;\n",
       "    border-collapse: collapse;\n",
       "  }\n",
       "  th, td {\n",
       "    padding: 5px;\n",
       "  }\n",
       "  th {\n",
       "    text-align: left;\n",
       "  }\n",
       "</style><div class='table-result-container'><table class='table-result'><thead style='background-color: white'><tr><th>policy_types_count</th><th>customer_count</th><th>avg_premium</th><th>avg_risk_score</th></tr></thead><tbody><tr><td>0</td><td>95</td><td>0.0</td><td>1.700526315789473</td></tr><tr><td>1</td><td>925</td><td>7673.173297297296</td><td>1.9676216216216196</td></tr><tr><td>2</td><td>3403</td><td>17445.977660887453</td><td>2.129782544813431</td></tr><tr><td>3</td><td>5426</td><td>26825.77469037956</td><td>2.2211666052340338</td></tr><tr><td>4</td><td>3879</td><td>38646.89687548336</td><td>2.2794534673885356</td></tr><tr><td>5</td><td>1154</td><td>46244.94351819761</td><td>2.3480502599653423</td></tr><tr><td>6</td><td>118</td><td>53799.36855932205</td><td>2.399576271186441</td></tr></tbody></table></div>"
      ]
     },
     "metadata": {
      "application/vnd.databricks.v1+output": {
       "addedWidgets": {},
       "aggData": [],
       "aggError": "",
       "aggOverflow": false,
       "aggSchema": [],
       "aggSeriesLimitReached": false,
       "aggType": "",
       "arguments": {},
       "columnCustomDisplayInfos": {},
       "data": [
        [
         0,
         95,
         0.0,
         1.700526315789473
        ],
        [
         1,
         925,
         7673.173297297296,
         1.9676216216216196
        ],
        [
         2,
         3403,
         17445.977660887453,
         2.129782544813431
        ],
        [
         3,
         5426,
         26825.77469037956,
         2.2211666052340338
        ],
        [
         4,
         3879,
         38646.89687548336,
         2.2794534673885356
        ],
        [
         5,
         1154,
         46244.94351819761,
         2.3480502599653423
        ],
        [
         6,
         118,
         53799.36855932205,
         2.399576271186441
        ]
       ],
       "datasetInfos": [],
       "dbfsResultPath": null,
       "isJsonSchema": true,
       "metadata": {},
       "overflow": false,
       "plotOptions": {
        "customPlotOptions": {},
        "displayType": "table",
        "pivotAggregation": null,
        "pivotColumns": null,
        "xColumns": null,
        "yColumns": null
       },
       "removedWidgets": [],
       "schema": [
        {
         "metadata": "{}",
         "name": "policy_types_count",
         "type": "\"long\""
        },
        {
         "metadata": "{}",
         "name": "customer_count",
         "type": "\"long\""
        },
        {
         "metadata": "{}",
         "name": "avg_premium",
         "type": "\"double\""
        },
        {
         "metadata": "{}",
         "name": "avg_risk_score",
         "type": "\"double\""
        }
       ],
       "type": "table"
      }
     },
     "output_type": "display_data"
    },
    {
     "output_type": "stream",
     "name": "stdout",
     "output_type": "stream",
     "text": [
      "\uD83C\uDFAF Cross-Selling Opportunities:\n   Single Policy Customers: 925 (6.2%)\n   Multi-Policy Customers: 13,980\n\uD83C\uDFAF High-Value Single Policy Customers (Priority Targets): 58\n"
     ]
    }
   ],
   "source": [
    "# BUSINESS CONTEXT: Cross-selling increases customer lifetime value and reduces churn\n",
    "# Single-policy customers represent the highest cross-selling potential\n",
    "\n",
    "# TODO: Identify cross-selling opportunities based on policy diversity\n",
    "# \n",
    "# Step 1: Analyze customers by policy diversity\n",
    "# TODO: Group customer_risk_df by \"policy_types_count\"\n",
    "# TODO: Calculate customer_count using count(\"*\")\n",
    "# TODO: Calculate avg_premium using avg(\"total_premium\")\n",
    "# TODO: Calculate avg_risk_score using avg(\"composite_risk_score\")\n",
    "# TODO: Order by policy_types_count\n",
    "# TODO: Store result as policy_diversity\n",
    "# \n",
    "# Step 2: Display policy diversity analysis\n",
    "# TODO: Print \"\uD83D\uDCCA Customer Distribution by Policy Diversity:\"\n",
    "# TODO: Show policy_diversity\n",
    "# \n",
    "# Step 3: Identify cross-selling opportunities\n",
    "# TODO: Filter customer_risk_df for policy_types_count == 1, store as single_policy_customers\n",
    "# TODO: Filter customer_risk_df for policy_types_count > 1, store as multi_policy_customers\n",
    "# TODO: Calculate cross_sell_opportunity = single_policy_customers.count()\n",
    "# TODO: Calculate cross_sell_percentage = (cross_sell_opportunity / total_customers) * 100\n",
    "# \n",
    "# Step 4: Display cross-selling insights\n",
    "# TODO: Print \"\uD83C\uDFAF Cross-Selling Opportunities:\"\n",
    "# TODO: Print f\"   Single Policy Customers: {cross_sell_opportunity:,} ({cross_sell_percentage:.1f}%)\"\n",
    "# TODO: Print f\"   Multi-Policy Customers: {multi_policy_customers.count():,}\"\n",
    "# \n",
    "# Step 5: Identify high-value cross-selling targets\n",
    "# TODO: Filter single_policy_customers for value_segment != \"Low Value\"\n",
    "# TODO: Select: customer_id, risk_category, value_segment, total_premium, policy_types_count\n",
    "# TODO: Store as high_value_single_policy\n",
    "# TODO: Print f\"\uD83C\uDFAF High-Value Single Policy Customers (Priority Targets): {high_value_single_policy.count():,}\"\n",
    "#\n",
    "# EXPECTED OUTPUT: Cross-selling opportunity analysis with priority targets identified\n",
    "# Target: 60% single-policy customers with 15-20% being high-value targets\n",
    "\n",
    "print(\"\uD83C\uDFAF Identifying cross-selling opportunities...\")\n",
    "\n",
    "# TODO: Implement cross-selling opportunity analysis logic here\n",
    "policy_diversity = (\n",
    "    customer_risk_df\n",
    "    .groupBy(\"policy_types_count\")\n",
    "    .agg(\n",
    "        count(\"*\").alias(\"customer_count\"),\n",
    "        avg(\"total_premium\").alias(\"avg_premium\"),\n",
    "        avg(\"composite_risk_score\").alias(\"avg_risk_score\")\n",
    "    )\n",
    "    .orderBy(\"policy_types_count\")\n",
    ")\n",
    "print(\"\uD83D\uDCCA Customer Distribution by Policy Diversity:\")\n",
    "display(policy_diversity)\n",
    "single_policy_customers = customer_risk_df.filter(col(\"policy_types_count\") == 1)\n",
    "multi_policy_customers = customer_risk_df.filter(col(\"policy_types_count\") > 1)\n",
    "cross_sell_opportunity = single_policy_customers.count()\n",
    "cross_sell_percentage = (cross_sell_opportunity / customer_risk_df.count()) * 100\n",
    "print(f\"\uD83C\uDFAF Cross-Selling Opportunities:\")\n",
    "print(f\"   Single Policy Customers: {cross_sell_opportunity:,} ({cross_sell_percentage:.1f}%)\")\n",
    "print(f\"   Multi-Policy Customers: {multi_policy_customers.count():,}\")\n",
    "high_value_single_policy = single_policy_customers.filter(col(\"value_segment\") != \"Low Value\").select(\"customer_id\", \"risk_category\", \"value_segment\", \"total_premium\", \"policy_types_count\")\n",
    "print(f\"\uD83C\uDFAF High-Value Single Policy Customers (Priority Targets): {high_value_single_policy.count():,}\")\n"
   ]
  },
  {
   "cell_type": "markdown",
   "metadata": {
    "application/vnd.databricks.v1+cell": {
     "cellMetadata": {
      "byteLimit": 2048000,
      "rowLimit": 10000
     },
     "inputWidgets": {},
     "nuid": "3f6aab57-eb9e-4c6e-b47b-464df5d274f9",
     "showTitle": false,
     "tableResultSettingsMap": {},
     "title": ""
    }
   },
   "source": [
    "### 3.3 Portfolio Risk Concentration"
   ]
  },
  {
   "cell_type": "code",
   "execution_count": 0,
   "metadata": {
    "application/vnd.databricks.v1+cell": {
     "cellMetadata": {
      "byteLimit": 2048000,
      "rowLimit": 10000
     },
     "inputWidgets": {},
     "nuid": "d77aff38-7b61-4726-9a6e-a16a70b36eeb",
     "showTitle": false,
     "tableResultSettingsMap": {},
     "title": ""
    }
   },
   "outputs": [
    {
     "output_type": "stream",
     "name": "stdout",
     "output_type": "stream",
     "text": [
      "⚖️ Analyzing portfolio risk concentration...\n\uD83D\uDCCA Portfolio Risk Distribution by Policy Type:\n"
     ]
    }
   ],
   "source": [
    "# BUSINESS CONTEXT: Risk concentration analysis helps identify portfolio vulnerabilities\n",
    "# Geographic and policy type concentration can amplify losses during adverse events\n",
    "\n",
    "# TODO: Analyze portfolio risk concentration by policy type and geography\n",
    "# \n",
    "# Step 1: Analyze risk concentration by policy type\n",
    "# TODO: Join policies_df with customer_risk_df on \"customer_id\"\n",
    "# TODO: Select customer_id, risk_category, composite_risk_score from customer_risk_df\n",
    "# TODO: Group by policy_type and risk_category\n",
    "# TODO: Calculate policy_count using count(\"*\")\n",
    "# TODO: Calculate total_premium using sum(\"premium_amount\")\n",
    "# TODO: Calculate avg_premium using avg(\"premium_amount\")\n",
    "# TODO: Order by policy_type, risk_category\n",
    "# TODO: Store result as policy_risk_analysis\n",
    "# \n",
    "# Step 2: Display policy risk analysis\n",
    "# TODO: Print \"\uD83D\uDCCA Portfolio Risk Distribution by Policy Type:\"\n",
    "# TODO: Show policy_risk_analysis\n",
    "# \n",
    "# Step 3: Analyze geographic risk concentration\n",
    "# TODO: Group customer_risk_df by \"state\"\n",
    "# TODO: Calculate customer_count using count(\"*\")\n",
    "# TODO: Calculate avg_risk_score using avg(\"composite_risk_score\")\n",
    "# TODO: Calculate total_premium_state using sum(\"total_premium\")\n",
    "# TODO: Order by customer_count descending\n",
    "# TODO: Store result as geographic_risk\n",
    "# \n",
    "# Step 4: Display geographic risk concentration\n",
    "# TODO: Print \"\uD83D\uDCCA Geographic Risk Concentration (Top 10 States):\"\n",
    "# TODO: Show top 10 states using geographic_risk.show(10)\n",
    "#\n",
    "# EXPECTED OUTPUT: Risk concentration analysis by policy type and state\n",
    "# Target: Identify states/policy types with high risk concentration\n",
    "\n",
    "print(\"⚖️ Analyzing portfolio risk concentration...\")\n",
    "\n",
    "# TODO: Implement portfolio risk concentration analysis logic here\n",
    "policy_risk_analysis = (\n",
    "    policies_df\n",
    "    .join(customer_risk_df, \"customer_id\")\n",
    "    .select(\"customer_id\", \"risk_category\", \"composite_risk_score\", \"policy_type\", \"premium_amount\")\n",
    "    .groupBy(\"policy_type\", \"risk_category\")\n",
    "    .agg(\n",
    "        count(\"*\").alias(\"policy_count\"),\n",
    "        sum(\"premium_amount\").alias(\"total_premium\"),\n",
    "        avg(\"premium_amount\").alias(\"avg_premium\")\n",
    "    )\n",
    "    .orderBy(\"policy_type\", \"risk_category\")\n",
    ")\n",
    "print(\"\uD83D\uDCCA Portfolio Risk Distribution by Policy Type:\")"
   ]
  },
  {
   "cell_type": "markdown",
   "metadata": {
    "application/vnd.databricks.v1+cell": {
     "cellMetadata": {
      "byteLimit": 2048000,
      "rowLimit": 10000
     },
     "inputWidgets": {},
     "nuid": "af3eb56b-0fc6-41ad-83b6-dfa6683b935d",
     "showTitle": false,
     "tableResultSettingsMap": {},
     "title": ""
    }
   },
   "source": [
    "## 4. Temporal Pattern Analysis"
   ]
  },
  {
   "cell_type": "markdown",
   "metadata": {
    "application/vnd.databricks.v1+cell": {
     "cellMetadata": {
      "byteLimit": 2048000,
      "rowLimit": 10000
     },
     "inputWidgets": {},
     "nuid": "7e65e278-8a16-4215-84bd-d39c74bc2267",
     "showTitle": false,
     "tableResultSettingsMap": {},
     "title": ""
    }
   },
   "source": [
    "### 4.1 Seasonal Claims Patterns"
   ]
  },
  {
   "cell_type": "code",
   "execution_count": 0,
   "metadata": {
    "application/vnd.databricks.v1+cell": {
     "cellMetadata": {
      "byteLimit": 2048000,
      "rowLimit": 10000
     },
     "inputWidgets": {},
     "nuid": "a5ea7b3b-cd09-4edb-9606-f0c22730730c",
     "showTitle": false,
     "tableResultSettingsMap": {},
     "title": ""
    }
   },
   "outputs": [
    {
     "output_type": "stream",
     "name": "stdout",
     "output_type": "stream",
     "text": [
      "\uD83D\uDCC5 Analyzing seasonal claims patterns...\n\uD83D\uDCCA Monthly Claims Pattern:\n+-----------+------------+--------------------+------------------+\n|claim_month|claims_count|  total_claim_amount|  avg_claim_amount|\n+-----------+------------+--------------------+------------------+\n|          1|         849| 1.038257335800001E8|122291.79455830401|\n|          2|         832|1.0437907649999997E8|125455.62079326919|\n|          3|         972|1.2181834916000003E8|125327.51971193419|\n|          4|         982|1.1091925937000005E8|112952.40261710799|\n|          5|        1182|1.4780195363999993E8|125043.95401015223|\n|          6|        1337|1.6001307719000006E8|119680.68600598359|\n|          7|         791| 8.153647679000004E7|103080.24878634645|\n|          8|         711| 8.079758383999991E7|113639.35842475375|\n|          9|         697|       8.136679335E7| 116738.5844332855|\n|         10|         770| 9.467202950000004E7|122950.68766233772|\n|         11|         738| 8.108266671999998E7|109868.11208672085|\n|         12|         782| 8.420780935999998E7|107682.62066496162|\n+-----------+------------+--------------------+------------------+\n\n\uD83D\uDCCA Seasonal Claims Analysis:\n+------+------------+--------------------+------------------+\n|season|claims_count|  total_claim_amount|  avg_claim_amount|\n+------+------------+--------------------+------------------+\n|Spring|        3136|  3.80539562169999E8|121345.52365114764|\n|Summer|        2839| 3.223471378199995E8|113542.49306798152|\n|Winter|        2463| 2.924126194399999E8| 118722.1353796183|\n|  Fall|        2205|2.5712148956999972E8|116608.38529251688|\n+------+------------+--------------------+------------------+\n\n"
     ]
    }
   ],
   "source": [
    "# BUSINESS CONTEXT: Seasonal patterns help predict claims volume and adjust reserves\n",
    "# Weather-related claims typically spike in certain months (winter storms, summer hail)\n",
    "\n",
    "# TODO: Analyze seasonal patterns in claims data\n",
    "# \n",
    "# Step 1: Add temporal components to claims data\n",
    "# TODO: Create claims_temporal by adding these columns to claims_df:\n",
    "#       - claim_month using month(\"claim_date\")\n",
    "#       - claim_quarter using quarter(\"claim_date\")\n",
    "#       - claim_year using year(\"claim_date\")\n",
    "# \n",
    "# Step 2: Calculate monthly claims pattern\n",
    "# TODO: Group claims_temporal by \"claim_month\"\n",
    "# TODO: Calculate claims_count using count(\"claim_id\")\n",
    "# TODO: Calculate total_claim_amount using sum(\"claim_amount\")\n",
    "# TODO: Calculate avg_claim_amount using avg(\"claim_amount\")\n",
    "# TODO: Order by claim_month\n",
    "# TODO: Store result as monthly_claims\n",
    "# \n",
    "# Step 3: Display monthly claims pattern\n",
    "# TODO: Print \"\uD83D\uDCCA Monthly Claims Pattern:\"\n",
    "# TODO: Show all 12 months using monthly_claims.show(12)\n",
    "# \n",
    "# Step 4: Create seasonal analysis\n",
    "# TODO: Add season column to claims_temporal using when/otherwise logic:\n",
    "#       - Months 12, 1, 2 = \"Winter\"\n",
    "#       - Months 3, 4, 5 = \"Spring\"\n",
    "#       - Months 6, 7, 8 = \"Summer\"\n",
    "#       - Otherwise = \"Fall\"\n",
    "# TODO: Group by season and calculate: claims_count, total_claim_amount, avg_claim_amount\n",
    "# TODO: Order by claims_count descending\n",
    "# TODO: Store result as seasonal_claims\n",
    "# \n",
    "# Step 5: Display seasonal analysis\n",
    "# TODO: Print \"\uD83D\uDCCA Seasonal Claims Analysis:\"\n",
    "# TODO: Show seasonal_claims\n",
    "#\n",
    "# EXPECTED OUTPUT: Monthly and seasonal claims patterns\n",
    "# Target: Identify peak months/seasons for claims activity\n",
    "\n",
    "print(\"\uD83D\uDCC5 Analyzing seasonal claims patterns...\")\n",
    "\n",
    "# TODO: Implement seasonal claims pattern analysis logic here\n",
    "claims_df = (\n",
    "    claims_df\n",
    "    .withColumn(\"claim_month\", month(\"claim_date\"))\n",
    "    .withColumn(\"claim_quarter\", quarter(\"claim_date\"))\n",
    "    .withColumn(\"claim_year\", year(\"claim_date\"))\n",
    ")\n",
    "monthly_claims = (\n",
    "    claims_df\n",
    "    .groupBy(\"claim_month\")\n",
    "    .agg(\n",
    "        count(\"*\").alias(\"claims_count\"),\n",
    "        sum(\"claim_amount\").alias(\"total_claim_amount\"),\n",
    "        avg(\"claim_amount\").alias(\"avg_claim_amount\")\n",
    "    )\n",
    "    .orderBy(\"claim_month\")\n",
    ")\n",
    "print(\"\uD83D\uDCCA Monthly Claims Pattern:\")\n",
    "monthly_claims.show(12)\n",
    "seasonal_claims = (\n",
    "    claims_df\n",
    "    .withColumn(\"season\", \n",
    "        when(month(\"claim_date\").isin([12, 1, 2]), \"Winter\")\n",
    "        .when(month(\"claim_date\").isin([3, 4, 5]), \"Spring\")\n",
    "        .when(month(\"claim_date\").isin([6, 7, 8]), \"Summer\")\n",
    "        .otherwise(\"Fall\")\n",
    "    )\n",
    "    .groupBy(\"season\")\n",
    "    .agg(\n",
    "        count(\"*\").alias(\"claims_count\"),\n",
    "        sum(\"claim_amount\").alias(\"total_claim_amount\"),\n",
    "        avg(\"claim_amount\").alias(\"avg_claim_amount\")\n",
    "    )\n",
    "    .orderBy(desc(\"claims_count\"))\n",
    ")\n",
    "print(\"\uD83D\uDCCA Seasonal Claims Analysis:\")\n",
    "seasonal_claims.show()"
   ]
  },
  {
   "cell_type": "markdown",
   "metadata": {
    "application/vnd.databricks.v1+cell": {
     "cellMetadata": {
      "byteLimit": 2048000,
      "rowLimit": 10000
     },
     "inputWidgets": {},
     "nuid": "848564a2-d89e-4087-9512-fb9a75c7ec16",
     "showTitle": false,
     "tableResultSettingsMap": {},
     "title": ""
    }
   },
   "source": [
    "### 4.2 Payment Behavior Patterns"
   ]
  },
  {
   "cell_type": "code",
   "execution_count": 0,
   "metadata": {
    "application/vnd.databricks.v1+cell": {
     "cellMetadata": {
      "byteLimit": 2048000,
      "rowLimit": 10000
     },
     "inputWidgets": {},
     "nuid": "3f6065a2-5d17-41fa-80da-b073fa77b5c5",
     "showTitle": false,
     "tableResultSettingsMap": {},
     "title": ""
    }
   },
   "outputs": [
    {
     "output_type": "stream",
     "name": "stdout",
     "output_type": "stream",
     "text": [
      "\uD83D\uDCB3 Analyzing payment behavior patterns...\n\uD83D\uDCCA Monthly Payment Patterns:\n+-------------+-------------+--------------------+------------------+-------------+\n|payment_month|payment_count|      total_payments|       avg_payment|late_payments|\n+-------------+-------------+--------------------+------------------+-------------+\n|           12|        13449|2.0151222230000053E7|1498.3435370659568|         6070|\n|           11|        12739|  2.00566850299999E7|   1574.4316688908|         5742|\n|           10|        12938| 1.980258771000004E7|1530.5756461586054|         5759|\n|            9|        12233| 1.902085370999994E7|1554.8805452464596|         5358|\n|            8|        12144|1.8616936820000134E7|1533.0152190382191|         5560|\n|            7|        29317|3.1470215220000166E7|1073.4459603642995|         5791|\n|            6|        14714|2.1181855019999962E7|1439.5714978931603|         6656|\n|            5|        14974| 2.200196107999994E7|1469.3442687324655|         6677|\n|            4|        14233| 2.119433824999996E7|1489.0984507833878|         6372|\n|            3|        14335|2.1821527190000072E7| 1522.255123125223|         6359|\n|            2|        13010| 2.151934141000017E7|1654.0615995388296|         5830|\n|            1|        13927| 2.073649139999999E7|1488.9417247074023|         6305|\n+-------------+-------------+--------------------+------------------+-------------+\n\n\uD83D\uDCCA Payment Method Analysis:\n+--------------+-------------+--------------------+------------------+-------------+---------------+\n|payment_method|payment_count|        total_amount|        avg_amount|late_payments|failed_payments|\n+--------------+-------------+--------------------+------------------+-------------+---------------+\n|   Credit Card|        73832|1.0744996744000131E8|1455.3305807780002|        29963|           9143|\n| Bank Transfer|        45990|6.6246245210000604E7|1440.4489065014266|        18790|           5499|\n|         Check|        24941|3.5377956779999815E7| 1418.465850607426|        10205|           2959|\n|      Auto Pay|        23514| 3.414384895999995E7|1452.0646831674726|         9542|           2875|\n|          Cash|         9736|1.4355996679999935E7|1474.5271857025405|         3979|           1192|\n+--------------+-------------+--------------------+------------------+-------------+---------------+\n\n"
     ]
    }
   ],
   "source": [
    "# BUSINESS CONTEXT: Payment timing patterns reveal customer cash flow cycles\n",
    "# Understanding payment preferences helps optimize billing and collection strategies\n",
    "\n",
    "# TODO: Analyze payment behavior patterns over time\n",
    "# \n",
    "# Step 1: Add temporal components to payments data\n",
    "# TODO: Create payments_temporal by adding these columns to payments_df:\n",
    "#       - payment_month using month(\"payment_date\")\n",
    "#       - payment_quarter using quarter(\"payment_date\")\n",
    "# \n",
    "# Step 2: Calculate monthly payment patterns\n",
    "# TODO: Group payments_temporal by \"payment_month\"\n",
    "# TODO: Calculate payment_count using count(\"payment_id\")\n",
    "# TODO: Calculate total_payments using sum(\"payment_amount\")\n",
    "# TODO: Calculate avg_payment using avg(\"payment_amount\")\n",
    "# TODO: Calculate late_payments using sum(when(col(\"late_payment_flag\") == True, 1).otherwise(0))\n",
    "# TODO: Order by payment_month\n",
    "# TODO: Store result as monthly_payments\n",
    "# \n",
    "# Step 3: Display monthly payment patterns\n",
    "# TODO: Print \"\uD83D\uDCCA Monthly Payment Patterns:\"\n",
    "# TODO: Show all 12 months using monthly_payments.show(12)\n",
    "# \n",
    "# Step 4: Analyze payment methods\n",
    "# TODO: Group payments_df by \"payment_method\"\n",
    "# TODO: Calculate payment_count using count(\"payment_id\")\n",
    "# TODO: Calculate total_amount using sum(\"payment_amount\")\n",
    "# TODO: Calculate avg_amount using avg(\"payment_amount\")\n",
    "# TODO: Calculate late_payments using sum(when(col(\"late_payment_flag\") == True, 1).otherwise(0))\n",
    "# TODO: Calculate failed_payments using sum(when(col(\"payment_status\") == \"Failed\", 1).otherwise(0))\n",
    "# TODO: Order by payment_count descending\n",
    "# TODO: Store result as payment_method_analysis\n",
    "# \n",
    "# Step 5: Display payment method analysis\n",
    "# TODO: Print \"\uD83D\uDCCA Payment Method Analysis:\"\n",
    "# TODO: Show payment_method_analysis\n",
    "#\n",
    "# EXPECTED OUTPUT: Monthly payment patterns and payment method analysis\n",
    "# Target: Identify preferred payment methods and seasonal payment patterns\n",
    "\n",
    "print(\"\uD83D\uDCB3 Analyzing payment behavior patterns...\")\n",
    "\n",
    "# TODO: Implement payment behavior pattern analysis logic here\n",
    "payments_temporal = (\n",
    "    payments_df\n",
    "    .withColumn(\"payment_month\", month(\"payment_date\"))\n",
    "    .withColumn(\"payment_quarter\", quarter(\"payment_date\"))\n",
    ")\n",
    "monthly_payments = (\n",
    "    payments_temporal\n",
    "    .groupBy(\"payment_month\")\n",
    "    .agg(\n",
    "        count(\"*\").alias(\"payment_count\"),\n",
    "        sum(\"payment_amount\").alias(\"total_payments\"),\n",
    "        avg(\"payment_amount\").alias(\"avg_payment\"),\n",
    "        sum(when(col(\"late_payment_flag\") == True, 1).otherwise(0)).alias(\"late_payments\"),\n",
    "    )\n",
    "    .orderBy(desc(\"payment_month\"))\n",
    ")\n",
    "payment_method_analysis = (\n",
    "    payments_df\n",
    "    .groupBy(\"payment_method\")\n",
    "    .agg(\n",
    "        count(\"*\").alias(\"payment_count\"),\n",
    "        sum(\"payment_amount\").alias(\"total_amount\"),\n",
    "        avg(\"payment_amount\").alias(\"avg_amount\"),\n",
    "        sum(when(col(\"late_payment_flag\") == True, 1).otherwise(0)).alias(\"late_payments\"),\n",
    "        sum(when(col(\"payment_status\") == \"Failed\", 1).otherwise(0)).alias(\"failed_payments\"),\n",
    "    )\n",
    "    .orderBy(desc(\"payment_count\"))\n",
    ")\n",
    "print(\"\uD83D\uDCCA Monthly Payment Patterns:\")\n",
    "monthly_payments.show(12)\n",
    "print(\"\uD83D\uDCCA Payment Method Analysis:\")\n",
    "payment_method_analysis.show(12)"
   ]
  },
  {
   "cell_type": "markdown",
   "metadata": {
    "application/vnd.databricks.v1+cell": {
     "cellMetadata": {
      "byteLimit": 2048000,
      "rowLimit": 10000
     },
     "inputWidgets": {},
     "nuid": "6b835750-77f8-4d46-b19c-9c0577d7e6f3",
     "showTitle": false,
     "tableResultSettingsMap": {},
     "title": ""
    }
   },
   "source": [
    "## 5. Save Risk Analysis Results to Database Tables"
   ]
  },
  {
   "cell_type": "code",
   "execution_count": 0,
   "metadata": {
    "application/vnd.databricks.v1+cell": {
     "cellMetadata": {
      "byteLimit": 2048000,
      "rowLimit": 10000
     },
     "inputWidgets": {},
     "nuid": "61d4d43e-45f1-44c7-8e9b-c0293627fc40",
     "showTitle": false,
     "tableResultSettingsMap": {},
     "title": ""
    }
   },
   "outputs": [
    {
     "output_type": "stream",
     "name": "stdout",
     "output_type": "stream",
     "text": [
      "\uD83D\uDCBE Saving risk analysis results to database tables...\n✅ Saved customer_risk_profiles table: 15,000 records\n✅ Saved risk_value_matrix table: 9 records\n✅ Saved cross_sell_opportunities table: 471 records\n✅ Saved policy_type_dist table: 6 records\n✅ Saved seasonal_claims table: 12 records\n✅ Saved monthly_payment_patterns table: 1,991 records\n"
     ]
    }
   ],
   "source": [
    "# BUSINESS CONTEXT: Persistent tables enable reliable data pipeline execution\n",
    "# Downstream notebooks depend on these results for advanced analytics\n",
    "\n",
    "# TODO: Save risk analysis results to database tables for downstream consumption\n",
    "# \n",
    "# Step 1: Create comprehensive customer risk profiles table\n",
    "# TODO: Select the following columns from customer_risk_df:\n",
    "#       - customer_id, first_name, last_name, email, birth_date, age, gender, marital_status\n",
    "#       - income, credit_score, employment_status, education, state, zip_code, acquisition_date\n",
    "#       - risk_category, value_segment, composite_risk_score, claims_risk_score, credit_risk_score\n",
    "#       - age_risk_score, premium_risk_score, payment_risk_score, payment_reliability_score\n",
    "#       - total_policies, total_premium, avg_premium, total_coverage, policy_types_count, policy_types\n",
    "#       - total_claims, total_claim_amount, avg_claim_amount, max_claim_amount, policies_with_claims\n",
    "#       - total_payments, total_payment_amount, avg_payment_amount, late_payments_count, failed_payments_count\n",
    "# TODO: Store selection as customer_risk_profiles_final\n",
    "# \n",
    "# Step 2: Save customer risk profiles table\n",
    "# TODO: Write customer_risk_profiles_final to database table \"customer_risk_profiles\"\n",
    "# TODO: Use mode(\"overwrite\") and saveAsTable(f\"{DATABASE_NAME}.customer_risk_profiles\")\n",
    "# TODO: Print f\"✅ Saved customer_risk_profiles table: {customer_risk_profiles_final.count():,} records\"\n",
    "# \n",
    "# Step 3: Save risk-value matrix table\n",
    "# TODO: Write risk_value_matrix to database table \"risk_value_matrix\"\n",
    "# TODO: Use mode(\"overwrite\") and saveAsTable(f\"{DATABASE_NAME}.risk_value_matrix\")\n",
    "# TODO: Print f\"✅ Saved risk_value_matrix table: {risk_value_matrix.count():,} records\"\n",
    "# \n",
    "# Step 4: Save cross-selling opportunities table\n",
    "# TODO: Select relevant columns from single_policy_customers: customer_id, first_name, last_name, risk_category, value_segment, total_premium, policy_types_count, policy_types, composite_risk_score\n",
    "# TODO: Order by total_premium descending\n",
    "# TODO: Store as cross_sell_opportunities\n",
    "# TODO: Write to database table \"cross_sell_opportunities\"\n",
    "# TODO: Print f\"✅ Saved cross_sell_opportunities table: {cross_sell_opportunities.count():,} records\"\n",
    "# \n",
    "# Step 5: Save additional analysis tables\n",
    "# TODO: Save policy_type_dist as \"policy_portfolio_analysis\" table\n",
    "# TODO: Save seasonal_claims as \"seasonal_claims_analysis\" table\n",
    "# TODO: Save monthly_payments as \"monthly_payment_patterns\" table\n",
    "# TODO: Print \"✅ Saved temporal analysis tables\"\n",
    "#\n",
    "# EXPECTED OUTPUT: 6 database tables created successfully\n",
    "# Target: All tables available for Notebook 2 consumption\n",
    "\n",
    "print(\"\uD83D\uDCBE Saving risk analysis results to database tables...\")\n",
    "\n",
    "# TODO: Implement database table creation logic here\n",
    "\n",
    "# TODO: Select the following columns from customer_risk_df:\n",
    "#       - customer_id, first_name, last_name, email, birth_date, age, gender, marital_status\n",
    "#       - income, credit_score, employment_status, education, state, zip_code, acquisition_date\n",
    "#       - risk_category, value_segment, composite_risk_score, claims_risk_score, credit_risk_score\n",
    "#       - age_risk_score, premium_risk_score, payment_risk_score, payment_reliability_score\n",
    "#       - total_policies, total_premium, avg_premium, total_coverage, policy_types_count, policy_types\n",
    "#       - total_claims, total_claim_amount, avg_claim_amount, max_claim_amount, policies_with_claims\n",
    "#       - total_payments, total_payment_amount, avg_payment_amount, late_payments_count, failed_payments_count\n",
    "customer_risk_profiles_final = customer_risk_df.select(\n",
    "    \"customer_id\",\n",
    "    \"first_name\",\n",
    "    \"last_name\",\n",
    "    \"email\",\n",
    "    \"birth_date\",\n",
    "    \"gender\",\n",
    "    \"marital_status\",\n",
    "    \"income\",\n",
    "    \"credit_score\",\n",
    "    \"employment_status\",\n",
    "    \"education\",\n",
    "    \"state\",\n",
    "    \"zip_code\",\n",
    "    \"acquisition_date\",\n",
    "    \"risk_category\",\n",
    "    \"value_segment\",\n",
    "    \"composite_risk_score\",\n",
    "    \"claims_risk_score\",\n",
    "    \"credit_risk_score\",\n",
    "    \"age_risk_score\",\n",
    "    \"premium_risk_score\",\n",
    "    \"payment_risk_score\",\n",
    "    \"payment_reliability_score\",\n",
    "    \"total_policies\",\n",
    "    \"total_premium\",\n",
    "    \"avg_premium\",\n",
    "    \"total_coverage\",\n",
    "    \"policy_types_count\",\n",
    "    \"policy_types\",\n",
    "    \"total_claims\",\n",
    "    \"total_claim_amount\",\n",
    "    \"avg_claim_amount\",\n",
    "    \"max_claim_amount\",\n",
    "    \"policies_with_claims\",\n",
    "    \"total_payments\",\n",
    "    \"total_payment_amount\",\n",
    "    \"avg_payment_amount\",\n",
    "    \"late_payments_count\",\n",
    "    \"failed_payments_count\",\n",
    ")\n",
    "customer_risk_profiles_final.write.mode(\"overwrite\").saveAsTable(f\"{DATABASE_NAME}.customer_risk_profiles\")\n",
    "print(f\"✅ Saved customer_risk_profiles table: {customer_risk_profiles_final.count():,} records\")\n",
    "\n",
    "risk_value_matrix.write.mode(\"overwrite\").saveAsTable(f\"{DATABASE_NAME}.risk_value_matrix\")\n",
    "print(f\"✅ Saved risk_value_matrix table: {risk_value_matrix.count():,} records\")\n",
    "\n",
    "single_policy_customers = customer_risk_profiles_final.filter(col(\"total_policies\") == 1)\n",
    "cross_sell_opportunities = single_policy_customers.select(\n",
    "    \"customer_id\",\n",
    "    \"first_name\",\n",
    "    \"last_name\",\n",
    "    \"risk_category\",\n",
    "    \"value_segment\",\n",
    "    \"total_premium\",\n",
    "    \"policy_types_count\",\n",
    "    \"policy_types\",\n",
    "    \"composite_risk_score\")\n",
    "cross_sell_opportunities.write.mode(\"overwrite\").saveAsTable(f\"{DATABASE_NAME}.cross_sell_opportunities\")\n",
    "print(f\"✅ Saved cross_sell_opportunities table: {cross_sell_opportunities.count():,} records\")\n",
    "\n",
    "policy_type_dist = policies_df.groupBy(\"policy_type\").count()\n",
    "policy_type_dist.write.mode(\"overwrite\").saveAsTable(f\"{DATABASE_NAME}.policy_portfolio_analysis\")\n",
    "print(f\"✅ Saved policy_type_dist table: {policy_type_dist.count():,} records\")\n",
    "\n",
    "seasonal_claims = claims_df.groupBy(\"claim_month\").agg(count(\"*\").alias(\"total_claims\"))\n",
    "seasonal_claims.write.mode(\"overwrite\").saveAsTable(f\"{DATABASE_NAME}.seasonal_claims_analysis\")\n",
    "print(f\"✅ Saved seasonal_claims table: {seasonal_claims.count():,} records\")\n",
    "\n",
    "monthly_payment_patterns = payments_df.groupBy(\"payment_date\").agg(count(\"*\").alias(\"total_payments\"))\n",
    "monthly_payment_patterns.write.mode(\"overwrite\").saveAsTable(f\"{DATABASE_NAME}.monthly_payment_patterns\")\n",
    "print(f\"✅ Saved monthly_payment_patterns table: {monthly_payment_patterns.count():,} records\")"
   ]
  },
  {
   "cell_type": "markdown",
   "metadata": {
    "application/vnd.databricks.v1+cell": {
     "cellMetadata": {
      "byteLimit": 2048000,
      "rowLimit": 10000
     },
     "inputWidgets": {},
     "nuid": "68dcff29-149a-4ef1-a803-809e3b7eb36d",
     "showTitle": false,
     "tableResultSettingsMap": {},
     "title": ""
    }
   },
   "source": [
    "## 6. Business Insights Summary"
   ]
  },
  {
   "cell_type": "code",
   "execution_count": 0,
   "metadata": {
    "application/vnd.databricks.v1+cell": {
     "cellMetadata": {
      "byteLimit": 2048000,
      "rowLimit": 10000
     },
     "inputWidgets": {},
     "nuid": "e9ddc0fb-e160-4fa8-bcbf-0c8681c298e0",
     "showTitle": false,
     "tableResultSettingsMap": {},
     "title": ""
    }
   },
   "outputs": [
    {
     "output_type": "stream",
     "name": "stdout",
     "output_type": "stream",
     "text": [
      "\uD83C\uDFAF KEY BUSINESS INSIGHTS FROM RISK ANALYSIS\n============================================================\n   High Risk: 1,551 customers (10.3%)\n   Low Risk: 2,985 customers (19.9%)\n   Medium Risk: 10,464 customers (69.8%)\n\n\uD83D\uDCB0 VALUE DISTRIBUTION:\n   Medium Value: 2,970 customers (19.8%)\n   High Value: 2,193 customers (14.6%)\n   Low Value: 9,837 customers (65.6%)\n\n\uD83C\uDFAF PORTFOLIO INSIGHTS:\n   Total Customers: 15,000\n   Total Policies: 75,000\n   Cross-selling Opportunity: 6.2% (925 customers)\n   Total Premium Portfolio: $421,649,304.04\n   Average Premium per Customer: $28,109.95\n   Claims Rate: 14.2%\n   Late Payment Rate: 96.6%\n\n\uD83D\uDCCA DATABASE TABLES CREATED FOR DOWNSTREAM ANALYSIS:\n   - claims_per_customer: Summary of claims data per customer\n   - customer_risk_df: Comprehensive risk analysis for each customer\n   - claims_df: Detailed claims data\n   - customers_df: Customer demographic and profile data\n   - interactions_df: Customer interactions data\n   - payments_df: Payment data\n   - policies_df: Policy data\n\n\uD83D\uDE80 READY FOR NOTEBOOK 2: CLPV AND RETENTION ANALYSIS\n"
     ]
    }
   ],
   "source": [
    "# BUSINESS CONTEXT: Executive summary provides key insights for strategic decision-making\n",
    "# Quantified insights enable data-driven business planning and resource allocation\n",
    "\n",
    "# TODO: Generate comprehensive business insights summary\n",
    "# \n",
    "# Step 1: Calculate risk distribution insights\n",
    "# TODO: Collect risk_distribution results using .collect()\n",
    "# TODO: Print \"\uD83C\uDFAF KEY BUSINESS INSIGHTS FROM RISK ANALYSIS\"\n",
    "# TODO: Print \"=\" * 60\n",
    "# TODO: Print \"\uD83D\uDCCA RISK DISTRIBUTION:\"\n",
    "# TODO: For each risk category, calculate percentage and print formatted results\n",
    "# TODO: Use format: f\"   {risk_category} Risk: {count:,} customers ({percentage:.1f}%)\"\n",
    "# \n",
    "# Step 2: Calculate value distribution insights\n",
    "# TODO: Collect value_distribution results using .collect()\n",
    "# TODO: Print \"\\n\uD83D\uDCB0 VALUE DISTRIBUTION:\"\n",
    "# TODO: For each value segment, calculate percentage and print formatted results\n",
    "# \n",
    "# Step 3: Calculate portfolio insights\n",
    "# TODO: Print f\"\\n\uD83C\uDFAF PORTFOLIO INSIGHTS:\"\n",
    "# TODO: Print f\"   Total Customers: {total_customers:,}\"\n",
    "# TODO: Print f\"   Total Policies: {total_policies:,}\"\n",
    "# TODO: Print f\"   Cross-selling Opportunity: {cross_sell_percentage:.1f}% ({cross_sell_opportunity:,} customers)\"\n",
    "# \n",
    "# Step 4: Calculate financial insights\n",
    "# TODO: Calculate total_premium_portfolio using sum(\"total_premium\") from customer_risk_df\n",
    "# TODO: Calculate avg_premium_customer = total_premium_portfolio / total_customers\n",
    "# TODO: Print f\"   Total Premium Portfolio: ${total_premium_portfolio:,.2f}\"\n",
    "# TODO: Print f\"   Average Premium per Customer: ${avg_premium_customer:,.2f}\"\n",
    "# \n",
    "# Step 5: Calculate operational insights\n",
    "# TODO: Calculate total_claims_count using claims_df.count()\n",
    "# TODO: Calculate claims_rate = (total_claims_count / total_policies) * 100\n",
    "# TODO: Calculate late_payment_rate from payments data\n",
    "# TODO: Print claims and payment statistics\n",
    "# \n",
    "# Step 6: List database tables created\n",
    "# TODO: Print \"\\n\uD83D\uDCCA DATABASE TABLES CREATED FOR DOWNSTREAM ANALYSIS:\"\n",
    "# TODO: List all 6 tables with brief descriptions\n",
    "# TODO: Print \"\\n\uD83D\uDE80 READY FOR NOTEBOOK 2: CLPV AND RETENTION ANALYSIS\"\n",
    "#\n",
    "# EXPECTED OUTPUT: Comprehensive business insights with quantified metrics\n",
    "# Target: Executive-ready summary with actionable insights\n",
    "\n",
    "print(\"\uD83C\uDFAF KEY BUSINESS INSIGHTS FROM RISK ANALYSIS\")\n",
    "print(\"=\" * 60)\n",
    "\n",
    "# TODO: Implement business insights summary logic here\n",
    "risk_distribution = customer_risk_profiles_final.groupBy(\"risk_category\").count()\n",
    "risk_distribution.collect()\n",
    "for risk_category, count in risk_distribution.collect():\n",
    "  percentage = (count / total_customers) * 100\n",
    "  print(f\"   {risk_category} Risk: {count:,} customers ({percentage:.1f}%)\")\n",
    "\n",
    "value_distribution = customer_risk_profiles_final.groupBy(\"value_segment\").count()\n",
    "value_distribution.collect()\n",
    "print(\"\\n\uD83D\uDCB0 VALUE DISTRIBUTION:\")\n",
    "for value_segment, count in value_distribution.collect():\n",
    "  percentage = (count / total_customers) * 100\n",
    "  print(f\"   {value_segment}: {count:,} customers ({percentage:.1f}%)\")\n",
    "\n",
    "print(f\"\\n\uD83C\uDFAF PORTFOLIO INSIGHTS:\")\n",
    "print(f\"   Total Customers: {total_customers:,}\")\n",
    "print(f\"   Total Policies: {total_policies:,}\")\n",
    "\n",
    "cross_sell_percentage = (cross_sell_opportunity / total_customers) * 100\n",
    "print(f\"   Cross-selling Opportunity: {cross_sell_percentage:.1f}% ({cross_sell_opportunity:,} customers)\")\n",
    "\n",
    "total_premium_portfolio = customer_risk_df.select(sum(\"total_premium\")).first()[0]\n",
    "avg_premium_customer = total_premium_portfolio / total_customers\n",
    "print(f\"   Total Premium Portfolio: ${total_premium_portfolio:,.2f}\")\n",
    "print(f\"   Average Premium per Customer: ${avg_premium_customer:,.2f}\")\n",
    "\n",
    "total_claims_count = claims_df.count()\n",
    "claims_rate = (total_claims_count / total_policies) * 100\n",
    "late_payment_rate = payments_df.filter(col(\"late_payment_flag\") == 1).count() / total_policies * 100\n",
    "\n",
    "print(f\"   Claims Rate: {claims_rate:.1f}%\")\n",
    "print(f\"   Late Payment Rate: {late_payment_rate:.1f}%\")\n",
    "print(\"\\n\uD83D\uDCCA DATABASE TABLES CREATED FOR DOWNSTREAM ANALYSIS:\")\n",
    "print(\"   - claims_per_customer: Summary of claims data per customer\")\n",
    "print(\"   - customer_risk_df: Comprehensive risk analysis for each customer\")\n",
    "print(\"   - claims_df: Detailed claims data\")\n",
    "print(\"   - customers_df: Customer demographic and profile data\")\n",
    "print(\"   - interactions_df: Customer interactions data\")\n",
    "print(\"   - payments_df: Payment data\")\n",
    "print(\"   - policies_df: Policy data\")\n",
    "print(\"\\n\uD83D\uDE80 READY FOR NOTEBOOK 2: CLPV AND RETENTION ANALYSIS\")"
   ]
  },
  {
   "cell_type": "markdown",
   "metadata": {
    "application/vnd.databricks.v1+cell": {
     "cellMetadata": {
      "byteLimit": 2048000,
      "rowLimit": 10000
     },
     "inputWidgets": {},
     "nuid": "911ca668-5c4a-46e1-9bdf-73331d8b19b9",
     "showTitle": false,
     "tableResultSettingsMap": {},
     "title": ""
    }
   },
   "source": [
    "## Summary and Next Steps\n",
    "\n",
    "### ✅ Risk Analysis Objectives Achieved:\n",
    "1. **Customer Risk Scoring** - Comprehensive risk assessment using 5 risk factors\n",
    "2. **Customer Segmentation** - Risk categories (Low/Medium/High) and value segments\n",
    "3. **Portfolio Analysis** - Policy distribution and cross-selling opportunities\n",
    "4. **Temporal Patterns** - Seasonal claims and payment behavior analysis\n",
    "5. **Database Integration** - All results saved to persistent tables for pipeline reliability\n",
    "\n",
    "### \uD83C\uDFAF Key Analytical Outputs:\n",
    "- **15,000 customers** scored and segmented by risk and value\n",
    "- **Cross-selling opportunities** identified for single-policy customers\n",
    "- **Seasonal patterns** documented for claims and payments\n",
    "- **Portfolio risk concentration** analyzed by geography and policy type\n",
    "\n",
    "### \uD83D\uDDC4️ Database Tables Created:\n",
    "- `customer_risk_profiles` - Core customer risk and segmentation data\n",
    "- `risk_value_matrix` - Strategic customer matrix for business decisions\n",
    "- `cross_sell_opportunities` - Priority customers for cross-selling\n",
    "- `policy_portfolio_analysis` - Portfolio composition and performance\n",
    "- `seasonal_claims_analysis` - Seasonal trend analysis\n",
    "- `monthly_payment_patterns` - Payment behavior insights\n",
    "\n",
    "### \uD83D\uDE80 Next Steps:\n",
    "- **Notebook 2**: Load risk profiles and calculate Customer Lifetime Premium Value (CLPV)\n",
    "- **Notebook 2**: Build renewal prediction models using risk segmentation\n",
    "- **Notebook 2**: Develop pricing optimization based on risk analysis\n",
    "- **Notebook 3**: Create executive dashboards using all accumulated insights\n",
    "\n",
    "### \uD83D\uDCA1 Business Value:\n",
    "This analysis provides the foundation for data-driven customer management, enabling SecureLife to optimize pricing, target retention efforts, and identify growth opportunities based on customer risk profiles and value segments."
   ]
  }
 ],
 "metadata": {
  "application/vnd.databricks.v1+notebook": {
   "computePreferences": null,
   "dashboards": [],
   "environmentMetadata": null,
   "inputWidgetPreferences": null,
   "language": "python",
   "notebookMetadata": {
    "pythonIndentUnit": 4
   },
   "notebookName": "nbk_1_risk_profiling_student",
   "widgets": {}
  },
  "language_info": {
   "name": "python"
  }
 },
 "nbformat": 4,
 "nbformat_minor": 0
}